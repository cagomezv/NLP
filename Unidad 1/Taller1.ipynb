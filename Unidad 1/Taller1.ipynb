{
  "cells": [
    {
      "cell_type": "markdown",
      "id": "e36b8a1f",
      "metadata": {
        "id": "e36b8a1f"
      },
      "source": [
        "<img src=\"https://drive.google.com/uc?export=view&id=1pWL34MWc1rS0peIekOBe8GGBIEUFPyrG\" width=\"100%\">"
      ]
    },
    {
      "cell_type": "markdown",
      "id": "c624f578",
      "metadata": {
        "id": "c624f578"
      },
      "source": [
        "# **Taller 1: Web Scraping**\n",
        "---\n",
        "En este taller se evaluarán las habilidades adquiridas en manejo de archivos, manipulación de _strings_ y la obtención de textos a partir de un **HTML** (_WebScraping_) tal y como se realizó en el taller guiado de obtención de textos desde _Python_.\n",
        "\n",
        "En este caso, usted deberá realizar algunas operaciones de extracción de información y manejo de textos a partir de una página web dada que trata la lista de laureados del premio [Nobel de fisica] (https://en.wikipedia.org/wiki/List_of_Nobel_laureates_in_Physics) en Wikipedia.\n",
        "\n",
        "<center>\n",
        "  <img src = \"https://drive.google.com/uc?export=view&id=1K1hdWTnc4DbRJEDAR4vfO6IdJotczkxt\" alt = \"Ganadores Nobel\" width = \"95%\">  \n",
        "  </img>\n",
        "</center>\n",
        "\n",
        "Ejecute la siguiente celda para importar las librerías que permiten la ejecución del código que se desarrolle posteriormente."
      ]
    },
    {
      "cell_type": "code",
      "execution_count": null,
      "id": "d132437b",
      "metadata": {
        "id": "d132437b"
      },
      "outputs": [],
      "source": [
        "import bs4\n",
        "from IPython.display import HTML"
      ]
    },
    {
      "cell_type": "markdown",
      "id": "fbf03526",
      "metadata": {
        "id": "fbf03526"
      },
      "source": [
        "## **Carga de Datos**\n",
        "\n",
        "Para este primer ejercicio, debe cargar un archivo **HTML** como un fichero y realizar el código requerido para convertirlo a `beautifulsoup` para así poder analizar la información contenida en la página web en los siguientes ejercicios.\n",
        "\n",
        "Primero, cargaremos el archivo **HTML** en un documento llamado `Nobel.html` que se almacenará localmente:"
      ]
    },
    {
      "cell_type": "code",
      "execution_count": null,
      "id": "fc4008fe",
      "metadata": {
        "id": "fc4008fe"
      },
      "outputs": [],
      "source": [
        "#TEST_CELL -> actualizar\n",
        "!wget 'https://drive.google.com/uc?export=view&id=1lqKGNpX8H1mJib4LTEfe1PYMWh_CZSfn' -O Nobel.html"
      ]
    },
    {
      "cell_type": "markdown",
      "id": "23c31d6b",
      "metadata": {
        "id": "23c31d6b"
      },
      "source": [
        "La siguiente celda permite visualizar el archivo `.html` dentro del notebook con las imágenes y los enlaces embebidos."
      ]
    },
    {
      "cell_type": "code",
      "execution_count": null,
      "id": "59b547e7",
      "metadata": {
        "id": "59b547e7"
      },
      "outputs": [],
      "source": [
        "#TEST_CELL\n",
        "HTML(filename=\"Nobel.html\")"
      ]
    },
    {
      "cell_type": "markdown",
      "id": "964faf00",
      "metadata": {
        "id": "964faf00"
      },
      "source": [
        "Leeremos el archivo recién descargado y, a partir de este, crearemos la variable `soup` que contendrá dicho documento **HTML** como un objeto `BeautifulSoup` con la finalidad de utilizarlo posteriormente."
      ]
    },
    {
      "cell_type": "code",
      "execution_count": null,
      "id": "0c386aff",
      "metadata": {
        "id": "0c386aff"
      },
      "outputs": [],
      "source": [
        "with open(\"Nobel.html\") as f:\n",
        "    raw_data = f.read()\n",
        "    soup = bs4.BeautifulSoup(raw_data)"
      ]
    },
    {
      "cell_type": "markdown",
      "id": "55c97a35",
      "metadata": {
        "id": "55c97a35"
      },
      "source": [
        "## **1. Extracción de Headings**\n",
        "---\n",
        "\n",
        "<center>\n",
        "  <img src = \"https://drive.google.com/uc?export=view&id=1Z60tdIdTJ11xUE0NCSbbbHFGjQmJGHFg\" alt = \"Headers Página\" width = \"95%\">  \n",
        "  </img>\n",
        "</center>\n",
        "\n",
        "Para este primer ejercicio, debe completar la función `get_headings` con un código válido que retorne una lista que contenga **todos** los nombres de las secciones (_headers_) del archivo **HTML** que sean del **nivel indicado**, por ejemplo, todos los títulos con la etiqueta `<h2>`.\n",
        "\n",
        "**Parámetros**\n",
        "\n",
        "* `soup`: este debe contener el documento **HTML** pero como un objeto de `beautifulsoup`.\n",
        "* `head_n`: número entero que indica el nivel del título requerido.\n",
        "\n",
        "**Retorna**\n",
        "\n",
        "* `results`: lista cuyos elementos son _strings_ que indican los nombres de los _headers_ pertenecientes al nivel del título señalado con `head_n`."
      ]
    },
    {
      "cell_type": "markdown",
      "id": "52d9d363",
      "metadata": {
        "id": "52d9d363"
      },
      "source": [
        "<details>    \n",
        "<summary>\n",
        "    <font size=\"3\" color=\"darkgreen\"><b>Pistas</b></font>\n",
        "</summary>\n",
        "\n",
        "* Recuerde que los objetos que provengan de la librería `bs4` (`BeautifulSoup`) contienen el método _`find_all(query)`_ el cual permite filtrar el contenido y obtener _todas_ las coincidencias según lo indicado en el parámetro _`query`_.\n",
        "* No debe confundir el método _`find`_ con el indicado en la pista anterior. A diferencia de este último, el método _`find`_ devuelve el primer elemento de la etiqueta dada. Para desarrollar correctamente el ejercicio, se debe analizar solamente el ***contenido*** sobre los laureados del premio Nobel de fisica que contiene la página; en el caso de Wikipedia, esta sección tiene un `id` único y específico.\n",
        "</details>"
      ]
    },
    {
      "cell_type": "code",
      "execution_count": null,
      "id": "df4b3faf",
      "metadata": {
        "lines_to_next_cell": 1,
        "id": "df4b3faf"
      },
      "outputs": [],
      "source": [
        "# FUNCIÓN CALIFICADA get_headings:\n",
        "\n",
        "def get_headings(soup, head_n):\n",
        "    ### ESCRIBA SU CÓDIGO AQUÍ ###\n",
        "    results = None\n",
        "\n",
        "\n",
        "    return results\n",
        "    ### FIN DEL CÓDIGO ###"
      ]
    },
    {
      "cell_type": "code",
      "execution_count": null,
      "id": "46066d64",
      "metadata": {
        "id": "46066d64"
      },
      "outputs": [],
      "source": [
        "#TEST_CELL\n",
        "print(get_headings(soup, 1))"
      ]
    },
    {
      "cell_type": "markdown",
      "id": "570177af",
      "metadata": {
        "id": "570177af"
      },
      "source": [
        "**Salida esperada:**\n",
        "\n",
        "* En este primer ejemplo, se retornan todos los títulos que sean de nivel 1 que, en el caso de Wikipedia, solo incluye el título del contenido.\n",
        "\n",
        "```python\n",
        "print(get_headings(soup, 1))\n",
        "```\n",
        "> `['Anexo:Ganadores del Premio Nobel de Física']`"
      ]
    },
    {
      "cell_type": "code",
      "execution_count": null,
      "id": "8660325c",
      "metadata": {
        "id": "8660325c"
      },
      "outputs": [],
      "source": [
        "#TEST_CELL\n",
        "print(get_headings(soup, 2))"
      ]
    },
    {
      "cell_type": "markdown",
      "id": "361d7b0f",
      "metadata": {
        "id": "361d7b0f"
      },
      "source": [
        "**Salida esperada:**\n",
        "\n",
        "* Para el segundo ejemplo, se retornan todos los títulos que sean de nivel 2.\n",
        "\n",
        "```python\n",
        "print(get_headings(soup, 2))\n",
        "```\n",
        "> `['Galardonados', 'Galardonados por país', 'Véase también', 'Referencias', 'Enlaces externos']`"
      ]
    },
    {
      "cell_type": "markdown",
      "id": "b7582725",
      "metadata": {
        "id": "b7582725"
      },
      "source": [
        "## **2. Extracción de Texto en un ID**\n",
        "---\n",
        "Para este ejercicio, debe completar la función `get_text` con un código válido que retorne una cadena de texto que incluya todo el contenido de una sección indicada del archivo **HTML**.\n",
        "\n",
        "**Parámetros**\n",
        "\n",
        "* `soup`: este debe contener el documento **HTML** pero como un objeto de `beautifulsoup`.\n",
        "* `id`: cadena de texto que indica una de las secciones del archivo **HTML** que tenga como _id_ el argumento indicado.\n",
        "\n",
        "**Retorna**\n",
        "\n",
        "* `content`: cadena de texto que contiene el contenido de la sección indicada por el parámetro `id`."
      ]
    },
    {
      "cell_type": "markdown",
      "id": "13405ce8",
      "metadata": {
        "id": "13405ce8"
      },
      "source": [
        "<details>    \n",
        "<summary>\n",
        "    <font size=\"3\" color=\"darkgreen\"><b>Pistas</b></font>\n",
        "</summary>\n",
        "\n",
        "* Tenga en cuenta que `content` debe ser una **cadena de texto** que contenga **solamente** el contenido de la sección indicada, es decir, el resultado _no_ debe incluir las etiquetas ni el formato **HTML** que englobe a la división. Para esto se puede usar la función `get_text()`.\n",
        "* Recuerde que la función _`find`_ obtiene la primera coincidencia de la etiqueta dada. Como los _id_ en **HTML** son únicos, puede resultar más fácil filtrar por este método.\n",
        "</details>"
      ]
    },
    {
      "cell_type": "code",
      "execution_count": null,
      "id": "a7282376",
      "metadata": {
        "lines_to_next_cell": 1,
        "id": "a7282376"
      },
      "outputs": [],
      "source": [
        "# FUNCIÓN CALIFICADA get_text:\n",
        "\n",
        "def get_text(soup, id):\n",
        "    ### ESCRIBA SU CÓDIGO AQUÍ ###\n",
        "    content = None\n",
        "\n",
        "\n",
        "    return content\n",
        "    ### FIN DEL CÓDIGO ###"
      ]
    },
    {
      "cell_type": "code",
      "execution_count": null,
      "id": "19a67719",
      "metadata": {
        "id": "19a67719"
      },
      "outputs": [],
      "source": [
        "#TEST_CELL\n",
        "print(get_text(soup, \"firstHeading\"))"
      ]
    },
    {
      "cell_type": "markdown",
      "id": "0f8d4be6",
      "metadata": {
        "id": "0f8d4be6"
      },
      "source": [
        "**Salida esperada:**\n",
        "\n",
        "* En el ejemplo, la función retorna el titulo de la pagina que está identificada con el _id_ `firstHeading` en forma de _string_.\n",
        "\n",
        "```python\n",
        "print(get_text(soup, \"firstHeading\"))\n",
        "```\n",
        "`Anexo:Ganadores del Premio Nobel de Física`\n"
      ]
    },
    {
      "cell_type": "code",
      "execution_count": null,
      "id": "ecf7e84f",
      "metadata": {
        "id": "ecf7e84f"
      },
      "outputs": [],
      "source": [
        "#TEST_CELL\n",
        "print(get_text(soup, \"footer\"))"
      ]
    },
    {
      "cell_type": "markdown",
      "id": "bc4d7479",
      "metadata": {
        "id": "bc4d7479"
      },
      "source": [
        "**Salida esperada:**\n",
        "\n",
        "* La función retorna el contenido en bruto de la sección que está identificada con el _id_ `footer`.\n",
        "\n",
        "```python\n",
        "print(get_text(soup, \"footer\"))\n",
        "```\n",
        "> <br>Esta página se editó por última vez el 5 feb 2025 a las 06:26.\n",
        "El texto está disponible bajo la Licencia Creative Commons Atribución-CompartirIgual 4.0; pueden aplicarse cláusulas adicionales. Al usar este sitio aceptas nuestros términos de uso y nuestra política de privacidad.Wikipedia® es una marca registrada de la Fundación Wikimedia, una organización sin ánimo de lucro.<br>\n",
        "<br><br>\n",
        "<br><br>\n",
        "<br>Política de privacidad<br>\n",
        "<br>Acerca de Wikipedia<br>\n",
        "<br>Limitación de responsabilidad<br>\n",
        "<br>Código de conducta<br>\n",
        "<br>Desarrolladores<br>\n",
        "<br>Estadísticas<br>\n",
        "<br>Declaración de cookies<br>\n",
        "<br>Versión para móviles<br>\n",
        "<br>Edita configuración de previsualizaciones<br>"
      ]
    },
    {
      "cell_type": "code",
      "execution_count": null,
      "id": "735c96b9",
      "metadata": {
        "lines_to_next_cell": 1,
        "id": "735c96b9"
      },
      "outputs": [],
      "source": [
        "#TEST_CELL\n",
        "print(get_text(soup, \"bodyContent\")[:1000])"
      ]
    },
    {
      "cell_type": "markdown",
      "id": "107fed23",
      "metadata": {
        "id": "107fed23"
      },
      "source": [
        "**Salida esperada:**\n",
        "\n",
        "* Por último, la función retorna los primeros 1000 caracteres en bruto del contenido de la sección identificada con el _id_ `bodyContent`.\n",
        "\n",
        "```python\n",
        "print(get_text(soup, \"bodyContent\")[:1000])\n",
        "```\n",
        "> <br><br>\n",
        "<br><br>\n",
        "<br><br>\n",
        "<br><br>\n",
        "<br><br>\n",
        "<br>De Wikipedia, la enciclopedia libre<br>\n",
        "<br><br>\n",
        "<br><br>\n",
        "<br>El Premio Nobel de Física fue establecido en el testamento de 1895 del químico sueco Alfred Nobel.<br>\n",
        "<br>El Premio Nobel de Física (en sueco: Nobelpriset i fysik) es entregado anualmente por la Academia Sueca a «científicos que sobresalen por sus contribuciones en el campo de la física». Es uno de los cinco premios Nobel establecidos en el testamento de Alfred Nobel, en 1895, y que son dados a todos aquellos individuos que realizan contribuciones notables en la química, la física, la literatura, la paz y la fisiología o medicina.[1]​\n",
        "Según lo dictado por el testamento de Nobel, este reconocimiento es administrado directamente por la Fundación Nobel y concedido por un comité conformado por cinco miembros que son elegidos por la Real Academia Sueca de las Ciencias.[2]​ El primer Premio Nobel de Física fue otorgado en 1901 a Wilhelm Conrad Röntgen, de Alemania. Cada destinatario recibe una medalla, un diploma y un premio económico que ha variado a lo l<br>"
      ]
    },
    {
      "cell_type": "markdown",
      "id": "f67df61d",
      "metadata": {
        "id": "f67df61d"
      },
      "source": [
        "## **3. Normalización del Texto**\n",
        "---\n",
        "En este ejercicio se busca _normalizar_ el texto, lo que implica un proceso de transformación del mismo para estandarizarlo y hacerlo consistente antes de realizar operaciones complejas sobre este. Debe completar la función `normalize` con un código válido que retorne una cadena que incluya todo el contenido _normalizado_ de una sección indicada del archivo **HTML**. La función `normalize` debe tener en cuenta los siguientes requerimientos para la normalización:\n",
        "\n",
        "<ol>\n",
        "<li>Extraer un fragmento de texto a partir de un <i>id</i>, como se realizó en el ejercicio anterior.</li>\n",
        "<li>La cadena de texto entrante debe ser separada por cada salto de línea que se encuentre.</li>\n",
        "<li>Todo el texto debe estar en <b>minúsculas</b>.</li>\n",
        "<li>Se deben eliminar los espacios en blanco al inicio y al final de cada línea.</li>\n",
        "<li>En la cadena de texto resultante, cada línea diferente de la cadena original se une por espacios para así formar un <i>string</i> de una sola línea.</li>\n",
        "</ol>\n",
        "\n",
        "**Parámetros**\n",
        "\n",
        "* `soup`: este debe contener el documento **HTML** pero como un objeto de `beautifulsoup`.\n",
        "* `id`: cadena de texto que indica una de las secciones del archivo **HTML** que tenga como _id_ el argumento indicado.\n",
        "\n",
        "**Retorna**\n",
        "\n",
        "* `strip_text`: cadena de texto que contiene el contenido _normalizado_ de la sección indicada por el parámetro `id`."
      ]
    },
    {
      "cell_type": "markdown",
      "id": "1bbcf0ac",
      "metadata": {
        "id": "1bbcf0ac"
      },
      "source": [
        "<details>    \n",
        "<summary>\n",
        "    <font size=\"3\" color=\"darkgreen\"><b>Pistas</b></font>\n",
        "</summary>\n",
        "\n",
        "* _Python_ provee una función para las cadenas que permite su conversión a minúsculas; la misma retorna un _string_ con la transformación realizada, su sintaxis es la siguiente:\n",
        "    ```python\n",
        "    text.lower()\n",
        "    ```\n",
        "* Existe otra función que puede ayudarle en este ejercicio llamada _`split`_. La misma separa una cadena de texto indicada en un lugar en concreto; este puede ser definido por el usuario pasando un caracter o un _substring_ como argumento en el parámetro `char`, en caso contrario, se separará la cadena por espacios por defecto. Su sintaxis es la siguiente:\n",
        "    ```python\n",
        "    text.split(char)\n",
        "    ```\n",
        "Cabe resaltar que esta función retorna una lista de _tokens_ donde cada uno de estos corresponde a los segmentos de texto que hay entre la aparición de un caracter separador y otro. En caso de que utilice este método, debe **unir** estos _tokens_ según los requerimientos de normalización dados para retornar un solo _string_.\n",
        "* Puede tomar la función del ejercicio anterior (`get_text`) y, a partir del resultado de la misma, empezar a trabajar en este ejercicio. Recuerde que la función `get_text` retorna una cadena de texto.\n",
        "\n",
        "</details>"
      ]
    },
    {
      "cell_type": "code",
      "execution_count": null,
      "id": "2d41eecc",
      "metadata": {
        "lines_to_next_cell": 1,
        "id": "2d41eecc"
      },
      "outputs": [],
      "source": [
        "# FUNCIÓN CALIFICADA normalize:\n",
        "\n",
        "def normalize(soup, id):\n",
        "    ### ESCRIBA SU CÓDIGO AQUÍ ###\n",
        "    strip_text = None\n",
        "\n",
        "\n",
        "    return strip_text\n",
        "    ### FIN DEL CÓDIGO ###"
      ]
    },
    {
      "cell_type": "code",
      "execution_count": null,
      "id": "7c092931",
      "metadata": {
        "id": "7c092931"
      },
      "outputs": [],
      "source": [
        "#TEST_CELL\n",
        "print(normalize(soup, \"vector-toc-pinned-container\"))"
      ]
    },
    {
      "cell_type": "markdown",
      "id": "c7d56f99",
      "metadata": {
        "id": "c7d56f99"
      },
      "source": [
        "**Salida esperada:**\n",
        "\n",
        "* En el ejemplo, la función retorna el temario de la pagina _normalizada_ que está identificada con el _id_ `vector-toc-pinned-container`.\n",
        "\n",
        "```python\n",
        "print(get_text(soup, \"vector-toc-pinned-container\"))\n",
        "```\n",
        "\n",
        ">`   contenidos mover a la barra lateral ocultar     inicio      1 galardonados         2 galardonados por país         3 véase también         4 referencias         5 enlaces externos        `"
      ]
    },
    {
      "cell_type": "code",
      "execution_count": null,
      "id": "3e6fc24c",
      "metadata": {
        "id": "3e6fc24c"
      },
      "outputs": [],
      "source": [
        "#TEST_CELL\n",
        "print(normalize(soup, \"footer\"))"
      ]
    },
    {
      "cell_type": "markdown",
      "id": "81b5ecbf",
      "metadata": {
        "id": "81b5ecbf"
      },
      "source": [
        "**Salida esperada:**\n",
        "* La función retorna el contenido _normalizado_ de la sección que está identificada con el _id_ `footer`.\n",
        "\n",
        "```python\n",
        "print(get_text(soup, \"footer\"))\n",
        "```\n",
        "\n",
        ">`'  esta página se editó por última vez el 5 feb 2025 a las 06:26. el texto está disponible bajo la licencia creative commons atribución-compartirigual 4.0; pueden aplicarse cláusulas adicionales. al usar este sitio aceptas nuestros términos de uso y nuestra política de privacidad.wikipedia® es una marca registrada de la fundación wikimedia, una organización sin ánimo de lucro.   política de privacidad acerca de wikipedia limitación de responsabilidad código de conducta desarrolladores estadísticas declaración de cookies versión para móviles edita configuración de previsualizaciones     '`"
      ]
    },
    {
      "cell_type": "code",
      "execution_count": null,
      "id": "ef40cec1",
      "metadata": {
        "lines_to_next_cell": 1,
        "id": "ef40cec1"
      },
      "outputs": [],
      "source": [
        "#TEST_CELL\n",
        "print(normalize(soup, \"bodyContent\")[:1000])"
      ]
    },
    {
      "cell_type": "markdown",
      "id": "7f97a25e",
      "metadata": {
        "id": "7f97a25e"
      },
      "source": [
        "**Salida esperada:**\n",
        "* En este último ejemplo, la función retorna los primeros 1000 caracteres del contenido de la sección identificada con el _id_ `bodyContent`.\n",
        "\n",
        "```python\n",
        "print(get_text(soup, \"bodyContent\")[:1000])\n",
        "```\n",
        "\n",
        ">`'     de wikipedia, la enciclopedia libre   el premio nobel de física fue establecido en el testamento de 1895 del químico sueco alfred nobel. el premio nobel de física (en sueco: nobelpriset i fysik) es entregado anualmente por la academia sueca a «científicos que sobresalen por sus contribuciones en el campo de la física». es uno de los cinco premios nobel establecidos en el testamento de alfred nobel, en 1895, y que son dados a todos aquellos individuos que realizan contribuciones notables en la química, la física, la literatura, la paz y la fisiología o medicina.[1]​ según lo dictado por el testamento de nobel, este reconocimiento es administrado directamente por la fundación nobel y concedido por un comité conformado por cinco miembros que son elegidos por la real academia sueca de las ciencias.[2]​ el primer premio nobel de física fue otorgado en 1901 a wilhelm conrad röntgen, de alemania. cada destinatario recibe una medalla, un diploma y un premio económico que ha variado a lo l\n",
        "'`"
      ]
    },
    {
      "cell_type": "markdown",
      "id": "deb601dd",
      "metadata": {
        "id": "deb601dd"
      },
      "source": [
        "## **4. Eliminación de Palabras**\n",
        "---\n",
        "\n",
        "En este ejercicio debe realizar una eliminación de palabras con la finalidad de extraer la información relevante del texto y limpiar el mismo de palabras poco informativas a nivel léxico. Debe completar la función `delete_words` con un código válido que retorne una cadena que incluya todo el contenido _limpio_ de una sección indicada del archivo **HTML**. Para dar con la respuesta correcta, adicionalmente debe seguir los siguientes pasos para realizar la eliminación de las palabras:\n",
        "\n",
        "<ol>\n",
        "\n",
        "<li> Normalizar el texto de la sección indicada. </li>\n",
        "<li> La cadena de texto a analizar debe separarse por espacios para poder obtener a los <i>tokens</i>. </li>\n",
        "<li> Las palabras deben estar filtradas por un <i>rango de longitud</i>. </li>\n",
        "<li> Se deben eliminar palabras de una lista dada y <b>no</b> arbitrariamente.</li>\n",
        "<li> Los <i>tokens</i> de la cadena de texto resultante deben estar unidos por espacios para formar la cadena de texto de salida. </li>\n",
        "    \n",
        "</ol>\n",
        "\n",
        "<center>\n",
        "<img src = \"https://drive.google.com/uc?export=view&id=1I3pjiAMCrchVYybNbStRcEM0a7S1tcK5\" alt = \"Cadenas con formato\" width = \"80%\">  </img>\n",
        "</center>\n",
        "\n",
        "**Parámetros**\n",
        "\n",
        "* `soup`: este debe contener el documento **HTML** pero como un objeto de `beautifulsoup`.\n",
        "* `id`: cadena de texto que indica una de las secciones del archivo **HTML** que tenga como _id_ el argumento indicado.\n",
        "* `min_len`: número entero que indica el límite inferior del _rango de longitud_ por el cual deben estar filtradas las palabras.\n",
        "* `max_len`: número entero que indica el límite superior del _rango de longitud_ por el cual deben estar filtradas las palabras.\n",
        "* `stops`: lista cuyos elementos son _strings_ o _tokens_ los cuales deben ser los que se eliminen de la cadena de texto.\n",
        "\n",
        "**Retorna**\n",
        "\n",
        "* `resulting_tokens`: cadena de texto que contiene el contenido de la sección indicada luego de la _eliminación de palabras_."
      ]
    },
    {
      "cell_type": "markdown",
      "id": "f332f75d",
      "metadata": {
        "id": "f332f75d"
      },
      "source": [
        "<details>    \n",
        "<summary>\n",
        "    <font size=\"3\" color=\"darkgreen\"><b>Pistas</b></font>\n",
        "</summary>\n",
        "\n",
        "* Esta función está basada en la utilización de **filtros**. Estos los puede realizar con sentencias `if` tradicionales, o bien, utilizar la función de _Python_ `filter`, la cual retorna un iterable con los elementos que retornen `True` a una función dada. Su sintaxis es la siguiente:\n",
        "    ```python\n",
        "    filter(function, iterable)\n",
        "    ```\n",
        "\n",
        "    El parámetro `function` recibe una función que retorne `True` o `False` (función _booleana_) y esta es la que permite evaluar si los elementos del parámetro `iterable` cumplen con la condición de la función o no.\n",
        "    \n",
        "* Para cumplir con el quinto paso dado en el enunciado del ejercicio, puede unir a los _tokens_ que estén almacenados en una lista con la función `join`:\n",
        "    ```python\n",
        "    string.join(iterable)\n",
        "    ```\n",
        "\n",
        "    Donde el parámetro `string` es el separador requerido (en este caso y siguiendo el inciso número 2, este debería ser un espacio `\" \"`) y el parámetro `iterable` es la lista que contiene a los _tokens_ a unir.\n",
        "</details>"
      ]
    },
    {
      "cell_type": "code",
      "execution_count": null,
      "id": "3018e0bd",
      "metadata": {
        "lines_to_next_cell": 1,
        "id": "3018e0bd"
      },
      "outputs": [],
      "source": [
        "# FUNCIÓN CALIFICADA delete_words:\n",
        "\n",
        "def delete_words(soup, id, min_len, max_len, stops):\n",
        "    ### ESCRIBA SU CÓDIGO AQUÍ ###\n",
        "    resulting_tokens = None\n",
        "\n",
        "\n",
        "    return resulting_tokens\n",
        "    ### FIN DEL CÓDIGO ###"
      ]
    },
    {
      "cell_type": "code",
      "execution_count": null,
      "id": "19747cb1",
      "metadata": {
        "id": "19747cb1"
      },
      "outputs": [],
      "source": [
        "#TEST_CELL\n",
        "stops = [\"de\", \"la\", \"a\", \"del\"]\n",
        "print(delete_words(soup, \"vector-toc-pinned-container\", 1, 23, stops))"
      ]
    },
    {
      "cell_type": "markdown",
      "id": "0d7dac9e",
      "metadata": {
        "id": "0d7dac9e"
      },
      "source": [
        "**Salida esperada:**\n",
        "\n",
        "* En el ejemplo, la función retorna la tabla de contenido, que está identificada con el _id_ `toc`, se eliminan los caracteres _[\"de\", \"la\", \"a\", \"del\"]_ y la longitud de cada _token_ debe estar entre 1 y 23 caracteres.\n",
        "\n",
        "```python\n",
        "stops = [\"de\", \"la\", \"a\", \"del\"]\n",
        "print(delete_words(soup, \"vector-toc-pinned-container\", 1, 23, stops))\n",
        "```\n",
        "\n",
        "> `'contenidos mover barra lateral ocultar inicio 1 galardonados 2 galardonados por país 3 véase también 4 referencias 5 enlaces externos\n",
        "'`"
      ]
    },
    {
      "cell_type": "code",
      "execution_count": null,
      "id": "30a02baa",
      "metadata": {
        "lines_to_next_cell": 1,
        "id": "30a02baa"
      },
      "outputs": [],
      "source": [
        "#TEST_CELL\n",
        "stops = [\"de\", \"la\", \"a\", \"del\", \"por\", \"las\"]\n",
        "print(delete_words(soup, \"footer\", 3, 10, stops))"
      ]
    },
    {
      "cell_type": "markdown",
      "id": "ea17b809",
      "metadata": {
        "id": "ea17b809"
      },
      "source": [
        "**Salida esperada:**\n",
        "* En este caso, la función retorna el contenido del pie de pagina, que está identificada con el _id_ `footer`, se eliminan los artículos _[\"de\", \"la\", \"a\", \"del\", \"por\", \"las\"]_ y la longitud de cada _token_ debe estar entre 3 y 10 caracteres.\n",
        "\n",
        "```python\n",
        "stops = [\"de\", \"la\", \"a\", \"del\"]\n",
        "print(delete_words(soup, \"footer\", 3, 10, stops))\n",
        "```\n",
        "\n",
        "> `'esta página editó última vez feb 2025 06:26. texto está disponible bajo licencia creative commons 4.0; pueden aplicarse cláusulas usar este sitio aceptas nuestros términos uso nuestra política una marca registrada fundación wikimedia, una sin ánimo lucro. política privacidad acerca wikipedia limitación código conducta cookies versión para móviles edita'`"
      ]
    },
    {
      "cell_type": "markdown",
      "id": "70bf972f",
      "metadata": {
        "id": "70bf972f"
      },
      "source": [
        "## **5. Conteo de un Listado de Nombres Sobre un Párrafo**\n",
        "---\n",
        "En este ejercicio se requiere realizar un conteo de la cantidad de palabras dadas que se encuentren dentro de un texto en particular, para ello, debe completar la función `count_words` con un código válido que retorne un diccionario que contenga como llave la _palabra_ deseada y como valor la _cantidad_ de ocurrencias que la palabra tiene dentro de una sección indicada del archivo **HTML**.\n",
        "\n",
        "**Parámetros**\n",
        "\n",
        "* `soup`: este debe contener el documento **HTML** pero como un objeto de `beautifulsoup`.\n",
        "* `id`: cadena de texto que indica una de las secciones del archivo **HTML** que tenga como _id_ el argumento indicado.\n",
        "* `min_len`: número entero que indica el límite inferior del _rango de longitud_ por el cual deben estar filtradas las palabras.\n",
        "* `max_len`: número entero que indica el límite superior del _rango de longitud_ por el cual deben estar filtradas las palabras.\n",
        "* `stops`: lista cuyos elementos son _strings_ o _tokens_ los cuales deben ser los que se eliminen de la cadena de texto.\n",
        "* `words`: lista cuyos elementos son _strings_ que indican qué palabras se desean contar dentro del texto.\n",
        "\n",
        "**Retorna**\n",
        "\n",
        "* `counts`: diccionario que contiene el conteo de las palabras (`words`) indicadas como argumentos."
      ]
    },
    {
      "cell_type": "markdown",
      "id": "f8142ae8",
      "metadata": {
        "id": "f8142ae8"
      },
      "source": [
        "<details>    \n",
        "<summary>\n",
        "    <font size=\"3\" color=\"darkgreen\"><b>Pistas</b></font>\n",
        "</summary>\n",
        "\n",
        "* Recuerde que en el diccionario se deben almacenar las palabras y el conteo de cada una de estas como el valor de cada elemento del diccionario. Este proceso de almacenamiento lo debe hacer _después_ de haber realizado la eliminación de palabras visto en el punto anterior.\n",
        "* Puede utilizar la función `counts` de _Python_ para hacer más eficiente a la función. Su sintaxis es:\n",
        "    ```python\n",
        "    text.count(element)\n",
        "    ```\n",
        "Esta devuelve el número de veces que el elemento (`element`) especificado aparece en el texto (`text`) indicado.\n",
        "</details>"
      ]
    },
    {
      "cell_type": "code",
      "execution_count": null,
      "id": "0758c58f",
      "metadata": {
        "lines_to_next_cell": 1,
        "id": "0758c58f"
      },
      "outputs": [],
      "source": [
        "# FUNCIÓN CALIFICADA count_words:\n",
        "\n",
        "def count_words(\n",
        "        soup, id, min_len, max_len,\n",
        "        stops, words\n",
        "        ):\n",
        "    ### ESCRIBA SU CÓDIGO AQUÍ ###\n",
        "    counts = {}\n",
        "\n",
        "\n",
        "    return counts\n",
        "    ### FIN DEL CÓDIGO ###"
      ]
    },
    {
      "cell_type": "code",
      "execution_count": null,
      "id": "206f3512",
      "metadata": {
        "id": "206f3512"
      },
      "outputs": [],
      "source": [
        "#TEST_CELL\n",
        "stops = [\"de\", \"la\", \"a\", \"del\", \"por\", \"las\"]\n",
        "words = [\"nobel\", \"alemania\"]\n",
        "print(count_words(soup, \"bodyContent\", 3, 10, stops, words))"
      ]
    },
    {
      "cell_type": "markdown",
      "id": "8f00769a",
      "metadata": {
        "id": "8f00769a"
      },
      "source": [
        "**Salida esperada:**\n",
        "\n",
        "* En este ejemplo, la función retorna un diccionario con el conteo de las palabras _\"nobel\"_ y _\"alemania\"_, dentro del _id_ `bodyContent`, se eliminan los artículos _[\"de\", \"la\", \"a\", \"del\", \"por\", \"las\"]_ y la longitud de cada _token_ debe estar entre 3 y 10 caracteres.\n",
        "\n",
        "```python\n",
        "stops = [\"de\", \"la\", \"a\", \"del\", \"por\", \"las\"]\n",
        "words = [\"nobel\", \"alemania\"]\n",
        "print(count_words(soup, \"bodyContent\", 3, 10, stops, words))\n",
        "```\n",
        "\n",
        "> `{'nobel': 269, 'alemania': 7}`"
      ]
    },
    {
      "cell_type": "code",
      "execution_count": null,
      "id": "6b10f352",
      "metadata": {
        "id": "6b10f352"
      },
      "outputs": [],
      "source": [
        "#TEST_CELL\n",
        "stops = [\"de\", \"la\", \"a\", \"del\", \"por\", \"las\"]\n",
        "words = [\"academia\", \"física\"]\n",
        "print(count_words(soup, \"bodyContent\", 3, 10, stops, words))"
      ]
    },
    {
      "cell_type": "markdown",
      "id": "60d2ece7",
      "metadata": {
        "id": "60d2ece7"
      },
      "source": [
        "**Salida esperada:**\n",
        "* En este caso, la función retorna un diccionario con el conteo de las palabras _\"academia\"_ y _\"física\"_, dentro del _id_ `bodyContent`, se eliminan los mismos artículos que el ejemplo anterior _[\"de\", \"la\", \"a\", \"del\", \"por\", \"las\"]_ y la longitud de cada _token_ debe estar entre 3 y 10 caracteres.\n",
        "\n",
        "```python\n",
        "stops = [\"de\", \"la\", \"a\", \"del\", \"por\", \"las\"]\n",
        "words = [\"academia\", \"física\"]\n",
        "print(count_words(soup, \"bodyContent\", 3, 10, stops, words))\n",
        "```\n",
        "\n",
        "> `{'academia': 3, 'física': 28}`"
      ]
    },
    {
      "cell_type": "code",
      "execution_count": null,
      "id": "f2a9cca0",
      "metadata": {
        "lines_to_next_cell": 1,
        "id": "f2a9cca0"
      },
      "outputs": [],
      "source": [
        "#TEST_CELL\n",
        "stops = [\"de\", \"la\", \"a\", \"del\", \"por\", \"las\"]\n",
        "words = [\"alfred\", \"sueca\", \"comité\", \"guerra\"]\n",
        "print(count_words(soup, \"bodyContent\", 3, 10, stops, words))"
      ]
    },
    {
      "cell_type": "markdown",
      "id": "40771776",
      "metadata": {
        "id": "40771776"
      },
      "source": [
        "**Salida esperada:**\n",
        "* Por último, se mantienen los argumentos de los ejemplos anteriores pero la función retorna un diccionario con el conteo de las palabras _\"alfred\"_, _\"sueca\"_, _\"comité\"_ y _\"guerra\"_.\n",
        "```python\n",
        "stops = [\"de\", \"la\", \"a\", \"del\", \"por\", \"las\"]\n",
        "words = [\"alfred\", \"sueca\", \"comité\", \"guerra\"]\n",
        "print(count_words(soup, \"bodyContent\", 3, 10, stops, words))\n",
        "```\n",
        "\n",
        "> `{'alfred': 5, 'sueca': 4, 'comité': 1, 'guerra': 1}`"
      ]
    },
    {
      "cell_type": "markdown",
      "id": "55c5624c",
      "metadata": {
        "id": "55c5624c"
      },
      "source": [
        "## **6. Formato de Tabla de los Conteos**\n",
        "---\n",
        "En este ejercicio se requiere dar un formato en forma de tabla al resultado del ejercicio anterior. Para ello, debe completar la función `print_counts` con un código válido que retorne una tabla con la _cantidad_ de ocurrencias que una palabra dada tiene dentro de una sección indicada del archivo **HTML**. Para realizar la tabla, tenga en cuenta que la separación, ancho o la longitud de cada columna es de **20 espacios o caracteres** y se debe justificar cada elemento a la izquierda.\n",
        "\n",
        "**Parámetros**\n",
        "\n",
        "* `soup`: este debe contener el documento **HTML** pero como un objeto de `beautifulsoup`.\n",
        "* `id`: cadena de texto que indica una de las secciones del archivo **HTML** que tenga como _id_ el argumento indicado.\n",
        "* `min_len`: número entero que indica el límite inferior del _rango de longitud_ por el cual deben estar filtradas las palabras.\n",
        "* `max_len`: número entero que indica el límite superior del _rango de longitud_ por el cual deben estar filtradas las palabras.\n",
        "* `stops`: lista cuyos elementos son _strings_ o _tokens_ los cuales deben ser los que se eliminen de la cadena de texto.\n",
        "* `words`: lista cuyos elementos son _strings_ que indican qué palabras se desean contar dentro del texto.\n",
        "\n",
        "**Retorna**\n",
        "\n",
        "* `values`: conteo de la cantidad de ocurrencias de una palabra en _formato de tabla (f-string)_."
      ]
    },
    {
      "cell_type": "markdown",
      "id": "e7b433f5",
      "metadata": {
        "id": "e7b433f5"
      },
      "source": [
        "<details>    \n",
        "<summary>\n",
        "    <font size=\"3\" color=\"darkgreen\"><b>Pistas</b></font>\n",
        "</summary>\n",
        "\n",
        "* En el taller guiado `3_manipulacion_strings` se explica el formateo de _strings_ (_f-strings_) y, gracias a esto, es posible acotar el ancho de cada columna y si se debe justificar a izquierda (<) o derecha (>).\n",
        "* En este ejercicio solo debe considerar dos columnas \"_Palabra_\", la cual contiene el listado de palabras a contar y \"_Conteo_\" que indica cuántas ocurrencias tuvo la palabra correspondiente dentro del texto. También tenga en cuenta que la separación entre el título y las filas de datos de la tabla formada por guiones `-` puede crearse igualmente con el formato de _f-strings_.\n",
        "\n",
        "\n",
        "</details>"
      ]
    },
    {
      "cell_type": "code",
      "execution_count": null,
      "id": "d6f345f8",
      "metadata": {
        "lines_to_next_cell": 1,
        "id": "d6f345f8"
      },
      "outputs": [],
      "source": [
        "# FUNCIÓN CALIFICADA print_counts:\n",
        "\n",
        "def print_counts(\n",
        "        soup, id, min_len, max_len,\n",
        "        stops, words\n",
        "        ):\n",
        "    ### ESCRIBA SU CÓDIGO AQUÍ ###\n",
        "    values = []\n",
        "\n",
        "\n",
        "    return values\n",
        "    ### FIN DEL CÓDIGO ###"
      ]
    },
    {
      "cell_type": "code",
      "execution_count": null,
      "id": "094e958f",
      "metadata": {
        "id": "094e958f"
      },
      "outputs": [],
      "source": [
        "#TEST_CELL\n",
        "stops = [\"de\", \"la\", \"a\", \"del\", \"por\", \"las\"]\n",
        "words = [\"nobel\", \"alemania\"]\n",
        "print(print_counts(soup, \"bodyContent\", 3, 10, stops, words))"
      ]
    },
    {
      "cell_type": "markdown",
      "id": "51b974a4",
      "metadata": {
        "id": "51b974a4"
      },
      "source": [
        "**Salida esperada:**\n",
        "\n",
        "* Al igual que el ejemplo del ejercicio anterior, la función retorna una tabla con el conteo de las palabras _\"nobel\"_ y _\"alemania\"_, dentro del _id_ `bodyContent`, se eliminan los artículos _[\"de\", \"la\", \"a\", \"del\", \"por\", \"las\"]_ y la longitud de cada _token_ debe estar entre 3 y 10 caracteres.\n",
        "\n",
        "```python\n",
        "stops = [\"de\", \"la\", \"a\", \"del\", \"por\", \"las\"]\n",
        "words = [\"nobel\", \"alemania\"]\n",
        "print(print_counts(soup, \"bodyContent\", 3, 10, stops, words))\n",
        "```\n",
        "|Palabra             |Conteo              |\n",
        "|--------------------|--------------------|\n",
        "|nobel               |269                 |\n",
        "|alemania            |7                   |"
      ]
    },
    {
      "cell_type": "code",
      "execution_count": null,
      "id": "0be4eaca",
      "metadata": {
        "id": "0be4eaca"
      },
      "outputs": [],
      "source": [
        "#TEST_CELL\n",
        "stops = [\"de\", \"la\", \"a\", \"del\", \"por\", \"las\"]\n",
        "words = [\"academia\", \"física\"]\n",
        "print(print_counts(soup, \"bodyContent\", 3, 10, stops, words))"
      ]
    },
    {
      "cell_type": "markdown",
      "id": "f5b5523d",
      "metadata": {
        "id": "f5b5523d"
      },
      "source": [
        "**Salida esperada:**\n",
        "* En este caso, la función retorna una tabla con el conteo de las palabras _\"academia\"_ y _\"física\"_, dentro del _id_ `bodyContent`, se eliminan los mismos artículos que el ejemplo anterior _[\"de\", \"la\", \"a\", \"del\", \"por\", \"las\"]_ y la longitud de cada _token_ debe estar entre 3 y 10 caracteres.\n",
        "```python\n",
        "stops = [\"de\", \"la\", \"a\", \"del\", \"por\", \"las\"]\n",
        "words = [\"academia\", \"física\"]\n",
        "print(print_counts(soup, \"bodyContent\", 3, 10, stops, words))\n",
        "```\n",
        "\n",
        "|Palabra             |Conteo              |\n",
        "|--------------------|--------------------|\n",
        "|academia            |3                   |\n",
        "|física              |28                  |"
      ]
    },
    {
      "cell_type": "code",
      "execution_count": null,
      "id": "c1f69046",
      "metadata": {
        "id": "c1f69046"
      },
      "outputs": [],
      "source": [
        "#TEST_CELL\n",
        "stops = [\"de\", \"la\", \"a\", \"del\", \"por\", \"las\"]\n",
        "words = [\"alfred\", \"sueca\", \"comité\", \"guerra\"]\n",
        "print(print_counts(soup, \"bodyContent\", 3, 10, stops, words))"
      ]
    },
    {
      "cell_type": "markdown",
      "id": "4b3afec1",
      "metadata": {
        "id": "4b3afec1"
      },
      "source": [
        "**Salida esperada:**\n",
        "* Por último, se mantienen los argumentos de los ejemplos anteriores pero la función retorna una tabla con el conteo de las palabras _\"alfred\"_, _\"sueca\"_, _\"comité\"_ y _\"guerra\"_.\n",
        "```python\n",
        "stops = [\"de\", \"la\", \"a\", \"del\", \"por\", \"las\"]\n",
        "words = [\"alfred\", \"sueca\", \"comité\", \"guerra\"]\n",
        "print(print_counts(soup, \"bodyContent\", 3, 10, stops, words))\n",
        "```\n",
        "\n",
        "|Palabra             |Conteo              |\n",
        "|--------------------|--------------------|\n",
        "|alfred              |5                   |\n",
        "|sueca               |4                   |\n",
        "|comité              |1                   |\n",
        "|guerra              |1                   |"
      ]
    },
    {
      "cell_type": "markdown",
      "id": "8857300c",
      "metadata": {
        "id": "8857300c"
      },
      "source": [
        "## Créditos\n",
        "---\n",
        "\n",
        "* **Profesor:** [Felipe Restrepo Calle](https://ferestrepoca.github.io/)\n",
        "* **Asistentes docentes:**\n",
        "    - [Juan Sebastián Lara Ramírez](https://www.linkedin.com/in/juan-sebastian-lara-ramirez-43570a214/).\n",
        "    - [Juan Sebastián Malagon Torres](https://www.linkedin.com/in/juan-sebastian-lara-ramirez-43570a214/).\n",
        "* **Diseño de imágenes:**\n",
        "    - [Rosa Alejandra Superlano Esquibel](mailto:rsuperlano@unal.edu.co).\n",
        "* **Coordinador de virtualización:**\n",
        "    - [Edder Hernández Forero](https://www.linkedin.com/in/edder-hernandez-forero-28aa8b207/)\n",
        "\n",
        "**Universidad Nacional de Colombia** - *Facultad de Ingeniería*"
      ]
    }
  ],
  "metadata": {
    "jupytext": {
      "cell_metadata_filter": "-all",
      "main_language": "python",
      "notebook_metadata_filter": "-all"
    },
    "colab": {
      "provenance": [],
      "toc_visible": true
    },
    "language_info": {
      "name": "python"
    },
    "kernelspec": {
      "name": "python3",
      "display_name": "Python 3"
    }
  },
  "nbformat": 4,
  "nbformat_minor": 5
}