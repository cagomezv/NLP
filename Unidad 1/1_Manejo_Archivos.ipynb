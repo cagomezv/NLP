{
  "cells": [
    {
      "cell_type": "markdown",
      "id": "6cf01d0e",
      "metadata": {
        "id": "6cf01d0e"
      },
      "source": [
        "<img src=\"https://drive.google.com/uc?export=view&id=1pWL34MWc1rS0peIekOBe8GGBIEUFPyrG\" width=\"100%\">"
      ]
    },
    {
      "cell_type": "markdown",
      "id": "344da8d6",
      "metadata": {
        "id": "344da8d6"
      },
      "source": [
        "# Carga de Textos en Python\n",
        "---\n",
        "\n",
        "En este notebook veremos las operaciones típicas para la manipulación de archivos desde _Python_, en especial:\n",
        "\n",
        "1. Manejo del sistema de archivos con `os`.\n",
        "2. Manipulación de ficheros o archivos planos.\n",
        "3. Manipulación de archivos `json`.\n",
        "\n",
        "Para esta práctica necesitaremos instalar algunas herramientas dentro del entorno de ejecución de _Google Colab_. Más precisamente, el comando `tree` nos permitirá ver estructuras de carpetas, subcarpetas y archivos como un árbol."
      ]
    },
    {
      "cell_type": "code",
      "execution_count": 1,
      "id": "cc0916b4",
      "metadata": {
        "id": "cc0916b4",
        "colab": {
          "base_uri": "https://localhost:8080/"
        },
        "outputId": "cd48c485-107b-4471-d18d-ffba1bd82ffd"
      },
      "outputs": [
        {
          "output_type": "stream",
          "name": "stdout",
          "text": [
            "\u001b[33m\r0% [Working]\u001b[0m\r            \rHit:1 https://developer.download.nvidia.com/compute/cuda/repos/ubuntu2204/x86_64  InRelease\n",
            "\u001b[33m\r0% [Waiting for headers] [Waiting for headers] [Connected to cloud.r-project.or\u001b[0m\r                                                                               \rHit:2 http://archive.ubuntu.com/ubuntu jammy InRelease\n",
            "\r                                                                               \rGet:3 http://archive.ubuntu.com/ubuntu jammy-updates InRelease [128 kB]\n",
            "\r                                                                               \rGet:4 http://security.ubuntu.com/ubuntu jammy-security InRelease [129 kB]\n",
            "Get:5 https://cloud.r-project.org/bin/linux/ubuntu jammy-cran40/ InRelease [3,632 B]\n",
            "Get:6 https://r2u.stat.illinois.edu/ubuntu jammy InRelease [6,555 B]\n",
            "Hit:7 https://ppa.launchpadcontent.net/deadsnakes/ppa/ubuntu jammy InRelease\n",
            "Get:8 http://archive.ubuntu.com/ubuntu jammy-backports InRelease [127 kB]\n",
            "Hit:9 https://ppa.launchpadcontent.net/graphics-drivers/ppa/ubuntu jammy InRelease\n",
            "Hit:10 https://ppa.launchpadcontent.net/ubuntugis/ppa/ubuntu jammy InRelease\n",
            "Get:11 https://cloud.r-project.org/bin/linux/ubuntu jammy-cran40/ Packages [73.0 kB]\n",
            "Get:12 https://r2u.stat.illinois.edu/ubuntu jammy/main all Packages [8,837 kB]\n",
            "Get:13 http://security.ubuntu.com/ubuntu jammy-security/main amd64 Packages [2,788 kB]\n",
            "Get:14 https://r2u.stat.illinois.edu/ubuntu jammy/main amd64 Packages [2,693 kB]\n",
            "Get:15 http://security.ubuntu.com/ubuntu jammy-security/universe amd64 Packages [1,243 kB]\n",
            "Get:16 http://archive.ubuntu.com/ubuntu jammy-updates/main amd64 Packages [3,101 kB]\n",
            "Get:17 http://archive.ubuntu.com/ubuntu jammy-updates/restricted amd64 Packages [4,161 kB]\n",
            "Get:18 http://archive.ubuntu.com/ubuntu jammy-updates/universe amd64 Packages [1,542 kB]\n",
            "Get:19 http://archive.ubuntu.com/ubuntu jammy-backports/universe amd64 Packages [35.2 kB]\n",
            "Fetched 24.9 MB in 8s (3,108 kB/s)\n",
            "Reading package lists... Done\n",
            "Building dependency tree... Done\n",
            "Reading state information... Done\n",
            "48 packages can be upgraded. Run 'apt list --upgradable' to see them.\n",
            "\u001b[1;33mW: \u001b[0mSkipping acquire of configured file 'main/source/Sources' as repository 'https://r2u.stat.illinois.edu/ubuntu jammy InRelease' does not seem to provide it (sources.list entry misspelt?)\u001b[0m\n",
            "Reading package lists... Done\n",
            "Building dependency tree... Done\n",
            "Reading state information... Done\n",
            "The following NEW packages will be installed:\n",
            "  tree\n",
            "0 upgraded, 1 newly installed, 0 to remove and 48 not upgraded.\n",
            "Need to get 47.9 kB of archives.\n",
            "After this operation, 116 kB of additional disk space will be used.\n",
            "Get:1 http://archive.ubuntu.com/ubuntu jammy/universe amd64 tree amd64 2.0.2-1 [47.9 kB]\n",
            "Fetched 47.9 kB in 0s (629 kB/s)\n",
            "Selecting previously unselected package tree.\n",
            "(Reading database ... 126315 files and directories currently installed.)\n",
            "Preparing to unpack .../tree_2.0.2-1_amd64.deb ...\n",
            "Unpacking tree (2.0.2-1) ...\n",
            "Setting up tree (2.0.2-1) ...\n",
            "Processing triggers for man-db (2.10.2-1) ...\n"
          ]
        }
      ],
      "source": [
        "# Software base\n",
        "!apt update # actualizamos los paquetes de linux en Google Colab\n",
        "!apt install tree # instalamos la utilidad tree"
      ]
    },
    {
      "cell_type": "markdown",
      "id": "3982312b",
      "metadata": {
        "id": "3982312b"
      },
      "source": [
        "## **1. Manejo del Sistema de Archivos con `os`**\n",
        "---\n",
        "\n",
        "Una de las principales ventajas de un lenguaje de programación de alto nivel como _Python_ es que nos da una interfaz unificada para la manipulación del sistema de archivos desde cualquier sistema operativo, se trata de la librería base `os`.\n",
        "\n",
        "> **Nota**: recuerde que `colab` trabaja sobre una máquina gratuita de Google que funciona bajo el sistema operativo Linux, en especial, tiene estas especificaciones:"
      ]
    },
    {
      "cell_type": "code",
      "execution_count": 2,
      "id": "f716df2f",
      "metadata": {
        "id": "f716df2f",
        "colab": {
          "base_uri": "https://localhost:8080/"
        },
        "outputId": "9aa12e5f-5237-41b3-9acc-167020a236bf"
      },
      "outputs": [
        {
          "output_type": "stream",
          "name": "stdout",
          "text": [
            "PRETTY_NAME=\"Ubuntu 22.04.4 LTS\"\n",
            "NAME=\"Ubuntu\"\n",
            "VERSION_ID=\"22.04\"\n",
            "VERSION=\"22.04.4 LTS (Jammy Jellyfish)\"\n",
            "VERSION_CODENAME=jammy\n",
            "ID=ubuntu\n",
            "ID_LIKE=debian\n",
            "HOME_URL=\"https://www.ubuntu.com/\"\n",
            "SUPPORT_URL=\"https://help.ubuntu.com/\"\n",
            "BUG_REPORT_URL=\"https://bugs.launchpad.net/ubuntu/\"\n",
            "PRIVACY_POLICY_URL=\"https://www.ubuntu.com/legal/terms-and-policies/privacy-policy\"\n",
            "UBUNTU_CODENAME=jammy\n"
          ]
        }
      ],
      "source": [
        "!cat /etc/os-release"
      ]
    },
    {
      "cell_type": "markdown",
      "id": "905df4d9",
      "metadata": {
        "id": "905df4d9"
      },
      "source": [
        "Vamos a descargar un archivo en formato `.zip` y a descomprimirlo usando utilidades de Linux para ver cómo es su posterior manipulación desde _Python_."
      ]
    },
    {
      "cell_type": "code",
      "execution_count": 3,
      "id": "749b67b7",
      "metadata": {
        "id": "749b67b7",
        "colab": {
          "base_uri": "https://localhost:8080/"
        },
        "outputId": "97db9c42-592a-4d69-860b-aba29f3a71a4"
      },
      "outputs": [
        {
          "output_type": "stream",
          "name": "stdout",
          "text": [
            "--2025-04-16 15:50:52--  https://github.com/cagomezv/NLP/raw/refs/heads/main/BD_Archivos/os_examples.zip\n",
            "Resolving github.com (github.com)... 140.82.113.3\n",
            "Connecting to github.com (github.com)|140.82.113.3|:443... connected.\n",
            "HTTP request sent, awaiting response... 302 Found\n",
            "Location: https://raw.githubusercontent.com/cagomezv/NLP/refs/heads/main/BD_Archivos/os_examples.zip [following]\n",
            "--2025-04-16 15:50:52--  https://raw.githubusercontent.com/cagomezv/NLP/refs/heads/main/BD_Archivos/os_examples.zip\n",
            "Resolving raw.githubusercontent.com (raw.githubusercontent.com)... 185.199.109.133, 185.199.111.133, 185.199.110.133, ...\n",
            "Connecting to raw.githubusercontent.com (raw.githubusercontent.com)|185.199.109.133|:443... connected.\n",
            "HTTP request sent, awaiting response... 200 OK\n",
            "Length: 5012459 (4.8M) [application/zip]\n",
            "Saving to: ‘os_examples.zip’\n",
            "\n",
            "os_examples.zip     100%[===================>]   4.78M  --.-KB/s    in 0.03s   \n",
            "\n",
            "2025-04-16 15:50:53 (145 MB/s) - ‘os_examples.zip’ saved [5012459/5012459]\n",
            "\n",
            "Archive:  os_examples.zip\n",
            "   creating: data/\n",
            "   creating: data/img/\n",
            "  inflating: data/img/poema.png      \n",
            "   creating: data/txt/\n",
            "  inflating: data/txt/biblia.txt     \n",
            "   creating: data/pdf/\n",
            "  inflating: data/pdf/historia_colombia.pdf  \n"
          ]
        }
      ],
      "source": [
        "# Eliminamos versiones previas de los datos, para evitar conflictos\n",
        "!rm -rf data os_examples*\n",
        "# Descargamos un archivo zip con los datos para este taller\n",
        "!wget 'https://github.com/cagomezv/NLP/raw/refs/heads/main/BD_Archivos/os_examples.zip' -O os_examples.zip\n",
        "# Descomprimimos el archivo\n",
        "!unzip os_examples.zip"
      ]
    },
    {
      "cell_type": "markdown",
      "id": "03b3936f",
      "metadata": {
        "id": "03b3936f"
      },
      "source": [
        "Veamos la estructura de archivos que acabamos de descargar:\n",
        "\n",
        "\n",
        "<center>\n",
        "  <img src=\"images/tipos_archivo.png\" width=\"60%\">\n",
        "</center>\n"
      ]
    },
    {
      "cell_type": "code",
      "execution_count": 4,
      "id": "d9ded4ac",
      "metadata": {
        "id": "d9ded4ac",
        "colab": {
          "base_uri": "https://localhost:8080/"
        },
        "outputId": "563e799f-890d-49d9-e098-9a249c93e696"
      },
      "outputs": [
        {
          "output_type": "stream",
          "name": "stdout",
          "text": [
            "\u001b[01;34mdata\u001b[0m\n",
            "├── \u001b[01;34mimg\u001b[0m\n",
            "│   └── \u001b[00mpoema.png\u001b[0m\n",
            "├── \u001b[01;34mpdf\u001b[0m\n",
            "│   └── \u001b[00mhistoria_colombia.pdf\u001b[0m\n",
            "└── \u001b[01;34mtxt\u001b[0m\n",
            "    └── \u001b[00mbiblia.txt\u001b[0m\n",
            "\n",
            "3 directories, 3 files\n"
          ]
        }
      ],
      "source": [
        "!tree data"
      ]
    },
    {
      "cell_type": "markdown",
      "id": "ad6d880c",
      "metadata": {
        "id": "ad6d880c"
      },
      "source": [
        "Como se puede ver, tenemos 3 carpetas: `img`, `pdf` y `txt`; dentro de las cuales tenemos un archivo de distintos formatos.\n",
        "\n",
        "Veamos como manipular archivos desde _Python_ usando la librería `os`:"
      ]
    },
    {
      "cell_type": "code",
      "execution_count": 5,
      "id": "ceb06cd0",
      "metadata": {
        "id": "ceb06cd0"
      },
      "outputs": [],
      "source": [
        "import os"
      ]
    },
    {
      "cell_type": "markdown",
      "id": "fa6191c8",
      "metadata": {
        "id": "fa6191c8"
      },
      "source": [
        "### **1.1. Listado**\n",
        "---\n",
        "\n",
        "Para listar archivos podemos usar la función `os.listdir`, la cual nos permite ver qué archivos y carpetas se encuentran en una ruta especificada, veamos un ejemplo:"
      ]
    },
    {
      "cell_type": "code",
      "execution_count": 6,
      "id": "0d0c90d3",
      "metadata": {
        "id": "0d0c90d3",
        "colab": {
          "base_uri": "https://localhost:8080/"
        },
        "outputId": "e3c9d9c5-653d-47b4-c2eb-a39b11b45119"
      },
      "outputs": [
        {
          "output_type": "stream",
          "name": "stdout",
          "text": [
            "['.config', 'os_examples.zip', 'data', 'sample_data']\n"
          ]
        }
      ],
      "source": [
        "print(os.listdir(\".\"))"
      ]
    },
    {
      "cell_type": "markdown",
      "id": "63141a4a",
      "metadata": {
        "id": "63141a4a"
      },
      "source": [
        "Recuerde que la ruta `\".\"` representa el directorio actual dentro del sistema de archivos. Veamos algunos ejemplos de listado de archivos dentro de rutas específicas, por ejemplo, a partir de la carpeta que descomprimimos anteriormente:"
      ]
    },
    {
      "cell_type": "code",
      "execution_count": 7,
      "id": "34519e47",
      "metadata": {
        "id": "34519e47",
        "colab": {
          "base_uri": "https://localhost:8080/"
        },
        "outputId": "e435c9ba-6378-4ca8-f4e3-9a68e19916bc"
      },
      "outputs": [
        {
          "output_type": "stream",
          "name": "stdout",
          "text": [
            "['txt', 'pdf', 'img']\n"
          ]
        }
      ],
      "source": [
        "print(os.listdir(\"data/\"))"
      ]
    },
    {
      "cell_type": "markdown",
      "id": "60897b07",
      "metadata": {
        "id": "60897b07"
      },
      "source": [
        "También podemos listar elementos dentro de alguna de las subcarpetas:"
      ]
    },
    {
      "cell_type": "code",
      "execution_count": 8,
      "id": "17e06c62",
      "metadata": {
        "id": "17e06c62",
        "colab": {
          "base_uri": "https://localhost:8080/"
        },
        "outputId": "f99a2e44-9684-43f4-ff68-791333cde0e1"
      },
      "outputs": [
        {
          "output_type": "stream",
          "name": "stdout",
          "text": [
            "['poema.png']\n"
          ]
        }
      ],
      "source": [
        "print(os.listdir(\"data/img\"))"
      ]
    },
    {
      "cell_type": "markdown",
      "id": "f8fb762c",
      "metadata": {
        "id": "f8fb762c"
      },
      "source": [
        "Con la librería `os`, también podemos validar si un elemento es un directorio, por medio de la función `os.path.isdir`:"
      ]
    },
    {
      "cell_type": "code",
      "execution_count": 10,
      "id": "883269f5",
      "metadata": {
        "id": "883269f5",
        "colab": {
          "base_uri": "https://localhost:8080/"
        },
        "outputId": "b3b2bf76-b658-4701-c692-0554fdf22f23"
      },
      "outputs": [
        {
          "output_type": "stream",
          "name": "stdout",
          "text": [
            "True\n"
          ]
        }
      ],
      "source": [
        "print(os.path.isdir(\"data\"))"
      ]
    },
    {
      "cell_type": "markdown",
      "id": "ec34218c",
      "metadata": {
        "id": "ec34218c"
      },
      "source": [
        "También podemos validar si es un archivo o fichero con la función `os.path.isfile`:"
      ]
    },
    {
      "cell_type": "code",
      "execution_count": 9,
      "id": "dc53768d",
      "metadata": {
        "id": "dc53768d",
        "colab": {
          "base_uri": "https://localhost:8080/"
        },
        "outputId": "7f5a2252-4134-47de-bd98-468637cf4590"
      },
      "outputs": [
        {
          "output_type": "stream",
          "name": "stdout",
          "text": [
            "False\n"
          ]
        }
      ],
      "source": [
        "print(os.path.isfile(\"data\"))"
      ]
    },
    {
      "cell_type": "markdown",
      "id": "cf08bece",
      "metadata": {
        "id": "cf08bece"
      },
      "source": [
        "Veamos un ejemplo con un archivo. Primero, validamos si es un directorio:"
      ]
    },
    {
      "cell_type": "code",
      "execution_count": 11,
      "id": "b559aaae",
      "metadata": {
        "id": "b559aaae",
        "colab": {
          "base_uri": "https://localhost:8080/"
        },
        "outputId": "11e99d41-f463-4248-b1fd-2d83f934794f"
      },
      "outputs": [
        {
          "output_type": "stream",
          "name": "stdout",
          "text": [
            "False\n"
          ]
        }
      ],
      "source": [
        "print(os.path.isdir(\"data/img/poema.png\"))"
      ]
    },
    {
      "cell_type": "markdown",
      "id": "a5ab8118",
      "metadata": {
        "id": "a5ab8118"
      },
      "source": [
        "Ahora, podemos validar si es un fichero:"
      ]
    },
    {
      "cell_type": "code",
      "execution_count": 12,
      "id": "e26af285",
      "metadata": {
        "id": "e26af285",
        "colab": {
          "base_uri": "https://localhost:8080/"
        },
        "outputId": "2647295a-9b09-49b9-8386-b55c0ae9aa00"
      },
      "outputs": [
        {
          "output_type": "stream",
          "name": "stdout",
          "text": [
            "True\n"
          ]
        }
      ],
      "source": [
        "print(os.path.isfile(\"data/img/poema.png\"))"
      ]
    },
    {
      "cell_type": "markdown",
      "id": "47c3a0e1",
      "metadata": {
        "id": "47c3a0e1"
      },
      "source": [
        "Podemos corroborar si un elemento existe o no con la función `os.path.exists`, veamos un ejemplo con la carpeta que creamos:"
      ]
    },
    {
      "cell_type": "code",
      "execution_count": 13,
      "id": "31f692c3",
      "metadata": {
        "id": "31f692c3",
        "colab": {
          "base_uri": "https://localhost:8080/"
        },
        "outputId": "998fdaaf-ee93-4b69-d9f8-6e66d316dde9"
      },
      "outputs": [
        {
          "output_type": "stream",
          "name": "stdout",
          "text": [
            "True\n"
          ]
        }
      ],
      "source": [
        "print(os.path.exists(\"data\"))"
      ]
    },
    {
      "cell_type": "markdown",
      "id": "4f11ad40",
      "metadata": {
        "id": "4f11ad40"
      },
      "source": [
        "Veamos un ejemplo de un elemento que no existe"
      ]
    },
    {
      "cell_type": "code",
      "execution_count": 14,
      "id": "6b8e8ac2",
      "metadata": {
        "id": "6b8e8ac2",
        "colab": {
          "base_uri": "https://localhost:8080/"
        },
        "outputId": "dbb71a5c-76cc-4ce2-d25c-7758d84e8c91"
      },
      "outputs": [
        {
          "output_type": "stream",
          "name": "stdout",
          "text": [
            "False\n"
          ]
        }
      ],
      "source": [
        "print(os.path.exists(\"data2\"))"
      ]
    },
    {
      "cell_type": "markdown",
      "id": "5d28a77b",
      "metadata": {
        "id": "5d28a77b"
      },
      "source": [
        "Como podemos evidenciar, `\"data2\"` no existe pues no existe ninguna carpeta ni archivo con dicho nombre."
      ]
    },
    {
      "cell_type": "markdown",
      "id": "9b994b24",
      "metadata": {
        "id": "9b994b24"
      },
      "source": [
        "### **1.2. Movimientos y Creación**\n",
        "---\n",
        "\n",
        "Con la librería `os` también es posible renombrar archivos dentro del sistema operativo con la función `os.rename`. Veamos un ejemplo donde renombramos la carpeta `\"data\"` como `\"data2\"`:"
      ]
    },
    {
      "cell_type": "code",
      "execution_count": 15,
      "id": "4db739d0",
      "metadata": {
        "id": "4db739d0"
      },
      "outputs": [],
      "source": [
        "os.rename(\"data\", \"data2\")"
      ]
    },
    {
      "cell_type": "markdown",
      "id": "f2c307db",
      "metadata": {
        "id": "f2c307db"
      },
      "source": [
        "Podemos validar que `\"data\"` ya no existe y que `\"data2\"` ahora si existe"
      ]
    },
    {
      "cell_type": "code",
      "execution_count": 17,
      "id": "7c10c733",
      "metadata": {
        "id": "7c10c733",
        "colab": {
          "base_uri": "https://localhost:8080/"
        },
        "outputId": "2091e30b-32f9-4282-aa96-63cced288c56"
      },
      "outputs": [
        {
          "output_type": "stream",
          "name": "stdout",
          "text": [
            "['.config', 'data2', 'os_examples.zip', 'sample_data']\n"
          ]
        }
      ],
      "source": [
        "print(os.listdir(\".\"))"
      ]
    },
    {
      "cell_type": "markdown",
      "id": "04f3e08f",
      "metadata": {
        "id": "04f3e08f"
      },
      "source": [
        "Validemos que `data` ya no existe:"
      ]
    },
    {
      "cell_type": "code",
      "execution_count": 16,
      "id": "6216a34c",
      "metadata": {
        "id": "6216a34c",
        "colab": {
          "base_uri": "https://localhost:8080/"
        },
        "outputId": "fe962dd2-ecd3-439f-adb0-9ae22e1c9d01"
      },
      "outputs": [
        {
          "output_type": "stream",
          "name": "stdout",
          "text": [
            "False\n"
          ]
        }
      ],
      "source": [
        "print(os.path.exists(\"data\"))"
      ]
    },
    {
      "cell_type": "markdown",
      "id": "cf899097",
      "metadata": {
        "id": "cf899097"
      },
      "source": [
        "También podemos ver que `data2` ahora si existe:"
      ]
    },
    {
      "cell_type": "code",
      "execution_count": 18,
      "id": "61e2fd75",
      "metadata": {
        "id": "61e2fd75",
        "colab": {
          "base_uri": "https://localhost:8080/"
        },
        "outputId": "bd3601ba-3bae-4fa3-c6be-5a4de602c09a"
      },
      "outputs": [
        {
          "output_type": "stream",
          "name": "stdout",
          "text": [
            "True\n"
          ]
        }
      ],
      "source": [
        "print(os.path.exists(\"data2\"))"
      ]
    },
    {
      "cell_type": "markdown",
      "id": "1883d670",
      "metadata": {
        "id": "1883d670"
      },
      "source": [
        "Desde la librería `os` igual podemos ejecutar cualquier comando del sistema operativo con la función `os.system`. Por ejemplo, para copiar un archivo podemos usar el comando `cp` de **Linux**, veamos qué archivos hay antes del copiado:"
      ]
    },
    {
      "cell_type": "code",
      "execution_count": 19,
      "id": "ea4af317",
      "metadata": {
        "id": "ea4af317",
        "colab": {
          "base_uri": "https://localhost:8080/"
        },
        "outputId": "c881b983-c463-4c57-9f5d-35382565015a"
      },
      "outputs": [
        {
          "output_type": "stream",
          "name": "stdout",
          "text": [
            "['.config', 'data2', 'os_examples.zip', 'sample_data']\n"
          ]
        }
      ],
      "source": [
        "print(os.listdir(\".\"))"
      ]
    },
    {
      "cell_type": "markdown",
      "id": "61d5a3fd",
      "metadata": {
        "id": "61d5a3fd"
      },
      "source": [
        "Ahora, vamos a crear una copia de `\"os_examples.zip\"` como `\"os_examples2.zip\"`. El comando `cp` nos permite copiar un archivo desde una ruta de origen hacia una ruta de destino:"
      ]
    },
    {
      "cell_type": "code",
      "execution_count": 20,
      "id": "3cd069a5",
      "metadata": {
        "id": "3cd069a5",
        "colab": {
          "base_uri": "https://localhost:8080/"
        },
        "outputId": "79ee1ef5-d520-4923-b719-0c3a5f8f3508"
      },
      "outputs": [
        {
          "output_type": "execute_result",
          "data": {
            "text/plain": [
              "0"
            ]
          },
          "metadata": {},
          "execution_count": 20
        }
      ],
      "source": [
        "os.system(\"cp os_examples.zip os_examples2.zip\")"
      ]
    },
    {
      "cell_type": "markdown",
      "id": "d3f188fe",
      "metadata": {
        "id": "d3f188fe"
      },
      "source": [
        "Veamos el resultado:"
      ]
    },
    {
      "cell_type": "code",
      "execution_count": 21,
      "id": "56a98621",
      "metadata": {
        "id": "56a98621",
        "colab": {
          "base_uri": "https://localhost:8080/"
        },
        "outputId": "c587b39d-ca26-448d-a11c-b2851636959d"
      },
      "outputs": [
        {
          "output_type": "stream",
          "name": "stdout",
          "text": [
            "['.config', 'data2', 'os_examples.zip', 'os_examples2.zip', 'sample_data']\n"
          ]
        }
      ],
      "source": [
        "print(os.listdir(\".\"))"
      ]
    },
    {
      "cell_type": "markdown",
      "id": "016cd6a5",
      "metadata": {
        "id": "016cd6a5"
      },
      "source": [
        "También podemos crear carpetas con la función `os.makedirs`:"
      ]
    },
    {
      "cell_type": "code",
      "execution_count": 22,
      "id": "d025cafe",
      "metadata": {
        "id": "d025cafe"
      },
      "outputs": [],
      "source": [
        "os.makedirs(\"test\")"
      ]
    },
    {
      "cell_type": "markdown",
      "id": "57d629eb",
      "metadata": {
        "id": "57d629eb"
      },
      "source": [
        "Validemos el resultado"
      ]
    },
    {
      "cell_type": "code",
      "execution_count": 23,
      "id": "67f9b12e",
      "metadata": {
        "id": "67f9b12e",
        "colab": {
          "base_uri": "https://localhost:8080/"
        },
        "outputId": "db11dc17-8861-4678-8ea7-571239577c14"
      },
      "outputs": [
        {
          "output_type": "stream",
          "name": "stdout",
          "text": [
            "True\n"
          ]
        }
      ],
      "source": [
        "print(os.path.exists(\"test\"))"
      ]
    },
    {
      "cell_type": "markdown",
      "id": "1851e65f",
      "metadata": {
        "id": "1851e65f"
      },
      "source": [
        "### **1.3. Borrado**\n",
        "---\n",
        "\n",
        "Con la función `os.remove` podemos eliminar archivos, mientras que con `os.rmdir` podemos borrar carpetas. Primero veamos los archivos que tenemos hasta este punto:"
      ]
    },
    {
      "cell_type": "code",
      "execution_count": 24,
      "id": "5e5e326f",
      "metadata": {
        "id": "5e5e326f",
        "colab": {
          "base_uri": "https://localhost:8080/"
        },
        "outputId": "9125fc46-eb78-4587-9b6e-1cda5d32d4eb"
      },
      "outputs": [
        {
          "output_type": "stream",
          "name": "stdout",
          "text": [
            "['.config', 'data2', 'os_examples.zip', 'test', 'os_examples2.zip', 'sample_data']\n"
          ]
        }
      ],
      "source": [
        "print(os.listdir(\".\"))"
      ]
    },
    {
      "cell_type": "markdown",
      "id": "43cf3298",
      "metadata": {
        "id": "43cf3298"
      },
      "source": [
        "Vamos a eliminar el archivo `os_examples2.zip` que creamos en los ejemplos anteriores:"
      ]
    },
    {
      "cell_type": "code",
      "execution_count": 25,
      "id": "3ead8c03",
      "metadata": {
        "id": "3ead8c03"
      },
      "outputs": [],
      "source": [
        "os.remove(\"os_examples2.zip\")"
      ]
    },
    {
      "cell_type": "markdown",
      "id": "12638837",
      "metadata": {
        "id": "12638837"
      },
      "source": [
        "Veamos el resultado:"
      ]
    },
    {
      "cell_type": "code",
      "execution_count": 26,
      "id": "92148267",
      "metadata": {
        "id": "92148267",
        "colab": {
          "base_uri": "https://localhost:8080/"
        },
        "outputId": "3df6c29c-8f05-403b-86c7-81345896086c"
      },
      "outputs": [
        {
          "output_type": "stream",
          "name": "stdout",
          "text": [
            "['.config', 'data2', 'os_examples.zip', 'test', 'sample_data']\n"
          ]
        }
      ],
      "source": [
        "print(os.listdir(\".\"))"
      ]
    },
    {
      "cell_type": "markdown",
      "id": "9f8cb264",
      "metadata": {
        "id": "9f8cb264"
      },
      "source": [
        "También podemos eliminar la carpeta `test` que creamos en los ejemplos anteriores usando la función `os.rmdir`:"
      ]
    },
    {
      "cell_type": "code",
      "execution_count": 27,
      "id": "eaea3f0c",
      "metadata": {
        "id": "eaea3f0c"
      },
      "outputs": [],
      "source": [
        "os.rmdir(\"test\")"
      ]
    },
    {
      "cell_type": "markdown",
      "id": "62359504",
      "metadata": {
        "id": "62359504"
      },
      "source": [
        "Podemos validar que los elementos se han eliminado:"
      ]
    },
    {
      "cell_type": "code",
      "execution_count": null,
      "id": "08ceddeb",
      "metadata": {
        "id": "08ceddeb",
        "colab": {
          "base_uri": "https://localhost:8080/"
        },
        "outputId": "fb4c4f4c-1536-470a-b458-7b75b148c748"
      },
      "outputs": [
        {
          "output_type": "stream",
          "name": "stdout",
          "text": [
            "['.config', 'os_examples.zip', 'data2', 'sample_data']\n"
          ]
        }
      ],
      "source": [
        "print(os.listdir(\".\"))"
      ]
    },
    {
      "cell_type": "markdown",
      "id": "03cfa09e",
      "metadata": {
        "id": "03cfa09e"
      },
      "source": [
        "### **1.4. Otras operaciones**\n",
        "---"
      ]
    },
    {
      "cell_type": "markdown",
      "id": "f4d8b946",
      "metadata": {
        "id": "f4d8b946"
      },
      "source": [
        "Existen funcionalidades adicionales del paquete `os` que llegaremos a necesitar en algunos casos. Por ejemplo, la función `os.path.join` permite unir carpetas y subcarpetas dentro de una ruta completa.\n",
        "\n",
        "Por ejemplo, podemos unir tres rutas: `/content`,  `data/`, `img/poema.png`:"
      ]
    },
    {
      "cell_type": "code",
      "execution_count": null,
      "id": "247825b3",
      "metadata": {
        "id": "247825b3",
        "colab": {
          "base_uri": "https://localhost:8080/"
        },
        "outputId": "429abd1f-3b04-4a59-fb1b-15333dcbb726"
      },
      "outputs": [
        {
          "output_type": "stream",
          "name": "stdout",
          "text": [
            "/content/data/img/poema.png\n"
          ]
        }
      ],
      "source": [
        "print(os.path.join(\"/content\", \"data\", \"img/poema.png\"))"
      ]
    },
    {
      "cell_type": "markdown",
      "id": "1ca74784",
      "metadata": {
        "id": "1ca74784"
      },
      "source": [
        "Veamos un ejemplo en el que listamos las rutas de todos los archivos que hay en el directorio actual y sus subcarpetas:"
      ]
    },
    {
      "cell_type": "code",
      "execution_count": null,
      "id": "96421a6b",
      "metadata": {
        "id": "96421a6b",
        "colab": {
          "base_uri": "https://localhost:8080/"
        },
        "outputId": "6bb9726b-5f8f-4efa-abfa-7299434b3f66"
      },
      "outputs": [
        {
          "output_type": "stream",
          "name": "stdout",
          "text": [
            "['os_examples.zip', '.config/.last_opt_in_prompt.yaml', '.config/config_sentinel', '.config/default_configs.db', '.config/active_config', '.config/.last_update_check.json', '.config/gce', '.config/hidden_gcloud_config_universe_descriptor_data_cache_configs.db', '.config/.last_survey_prompt.yaml', 'sample_data/README.md', 'sample_data/anscombe.json', 'sample_data/mnist_test.csv', 'sample_data/california_housing_train.csv', 'sample_data/california_housing_test.csv', 'sample_data/mnist_train_small.csv', '.config/configurations/config_default', 'data2/txt/biblia.txt', 'data2/img/poema.png', 'data2/pdf/historia_colombia.pdf', '.config/logs/2025.03.20/13.30.51.447492.log', '.config/logs/2025.03.20/13.30.59.830488.log', '.config/logs/2025.03.20/13.31.01.332468.log', '.config/logs/2025.03.20/13.30.26.993509.log', '.config/logs/2025.03.20/13.31.09.706011.log', '.config/logs/2025.03.20/13.31.10.331550.log']\n"
          ]
        }
      ],
      "source": [
        "# creamos una cola con los posibles archivos, carpetas y subcarpetas\n",
        "queue = os.listdir(\".\")\n",
        "# creamos una lista donde se almacenarán los archivos\n",
        "files = []\n",
        "\n",
        "# iteramos mientras que tengamos archivos en la cola\n",
        "while queue:\n",
        "    # extraemos un elemento de la cola\n",
        "    path = queue.pop(0)\n",
        "    # validamos si el elemento es una carpeta\n",
        "    if os.path.isdir(path):\n",
        "        # en caso de ser carpeta, listamos los elementos que contiene\n",
        "        elements = os.listdir(path)\n",
        "        # creamos las rutas completas de todos los elementos encontrados\n",
        "        paths = [os.path.join(path, element) for element in elements]\n",
        "        # agregamos los elementos a la cola\n",
        "        queue.extend(paths)\n",
        "    else:\n",
        "        # en caso de que el elemento sea un archivo\n",
        "        # se agrega al resultado final.\n",
        "        files.append(path)\n",
        "print(files)"
      ]
    },
    {
      "cell_type": "markdown",
      "id": "30f593fe",
      "metadata": {
        "id": "30f593fe"
      },
      "source": [
        "En este caso, podemos ver que obtener de forma recursiva los archivos dentro de un directorio requiere un código moderadamente complejo con la librería `os`. Otra alternativa más directa consiste en utilizar otras librerías que permiten solucionar esta tarea más fácilmente, por ejemplo:"
      ]
    },
    {
      "cell_type": "code",
      "execution_count": null,
      "id": "aad6710f",
      "metadata": {
        "id": "aad6710f",
        "colab": {
          "base_uri": "https://localhost:8080/"
        },
        "outputId": "7d2a39af-e9f5-4986-c584-efb3d5554adf"
      },
      "outputs": [
        {
          "output_type": "stream",
          "name": "stdout",
          "text": [
            "[PosixPath('.config'), PosixPath('os_examples.zip'), PosixPath('.config/.last_opt_in_prompt.yaml'), PosixPath('.config/default_configs.db'), PosixPath('.config/.last_update_check.json'), PosixPath('.config/hidden_gcloud_config_universe_descriptor_data_cache_configs.db'), PosixPath('.config/.last_survey_prompt.yaml'), PosixPath('.config/logs/2025.03.20'), PosixPath('.config/logs/2025.03.20/13.30.51.447492.log'), PosixPath('.config/logs/2025.03.20/13.30.59.830488.log'), PosixPath('.config/logs/2025.03.20/13.31.01.332468.log'), PosixPath('.config/logs/2025.03.20/13.30.26.993509.log'), PosixPath('.config/logs/2025.03.20/13.31.09.706011.log'), PosixPath('.config/logs/2025.03.20/13.31.10.331550.log'), PosixPath('data2/txt/biblia.txt'), PosixPath('data2/img/poema.png'), PosixPath('data2/pdf/historia_colombia.pdf'), PosixPath('sample_data/README.md'), PosixPath('sample_data/anscombe.json'), PosixPath('sample_data/mnist_test.csv'), PosixPath('sample_data/california_housing_train.csv'), PosixPath('sample_data/california_housing_test.csv'), PosixPath('sample_data/mnist_train_small.csv')]\n"
          ]
        }
      ],
      "source": [
        "import pathlib\n",
        "print(list(pathlib.Path(\".\").rglob(\"*.*\")))"
      ]
    },
    {
      "cell_type": "markdown",
      "id": "bcd11939",
      "metadata": {
        "id": "bcd11939"
      },
      "source": [
        "Sin embargo, para entender este ejemplo necesitamos abordar el concepto de **expresiones regulares**. Este tema lo abordaremos más en detalle en otro taller guiado de esta unidad.\n",
        "\n",
        "De forma adicional, si desea hacer una manipulación avanzada de archivos en _Python_ puede revisar paquetes adicionales como:\n",
        "\n",
        "* [`glob`](https://docs.python.org/3/library/glob.html)\n",
        "* [`shutil`](https://docs.python.org/3/library/shutil.html)\n",
        "* [`pathlib`](https://docs.python.org/3/library/pathlib.html)\n",
        "* [`subprocess`](https://docs.python.org/3/library/subprocess.html)"
      ]
    },
    {
      "cell_type": "markdown",
      "id": "cc48a64a",
      "metadata": {
        "id": "cc48a64a"
      },
      "source": [
        "## **2. Manipulación de Ficheros o Archivos Planos**\n",
        "---\n",
        "\n",
        "Desde _Python_ podemos leer y escribir ficheros haciendo uso de los distintos modos. Veamos una descripción de estos:\n",
        "\n",
        "| Modo | Descripción |\n",
        "| --- | --- |\n",
        "| `r` | Modo lectura. |\n",
        "| `w` | Modo escritura. |\n",
        "| `a` | Modo **append** (abre un archivo existente y escribe al final) |\n",
        "| `r+` | Modo lectura con permisos de escritura. |\n",
        "| `w+` | Modo escritura con permisos de lectura. |\n",
        "| `a+` | Modo **append** con permisos de lectura. |\n",
        "| `rb` | Modo lectura binario. |\n",
        "| `wb` | Modo escritura binario. |\n",
        "| `ab` | Modo **append** binario. |\n",
        "\n",
        "Para estas operaciones, haremos uso de dos instrucciones de _Python_:\n",
        "\n",
        "* `open`: permite crear o leer un archivo con un modo dado.\n",
        "* `with`: crea un contexto para la manipulación de un archivo, una vez terminado el contexto, el archivo se cierra de forma automática.\n",
        "\n",
        "La sintaxis para manejar ficheros desde _Python_ es la siguiente:\n",
        "\n",
        "```python\n",
        "with open(nombre_archivo, modo) as f:\n",
        "    ...\n",
        "```\n",
        "\n",
        "Esto es lo que se conoce como un contexto y nos permite referenciar a un archivo almacenado en la ruta `nombre_archivo` mediante el identificador `f` y abrirlo con un `modo` especificado.\n",
        "\n",
        "Veamos algunos ejemplos:"
      ]
    },
    {
      "cell_type": "markdown",
      "id": "8755480b",
      "metadata": {
        "id": "8755480b"
      },
      "source": [
        "### **2.1. Lectura**\n",
        "---\n",
        "\n",
        "Comenzaremos cargando el archivo que descargamos al inicio del notebook, para este caso, leemos el archivo y utilizamos un `encoding`  de tipo `latin1`.\n",
        "\n",
        "> Un `encoding` hace referencia a un esquema de codificación que contiene los distintos caracteres relacionados a un idioma. Más precisamente, `latin_1` codifica caracteres utilizados en idiomas de Europa Occidental. Puede ver una lista de las posibles codificaciones de caracteres en [este enlace](https://docs.python.org/3.11/library/codecs.html#standard-encodings).\n",
        "\n",
        "Veamos cómo leer el archivo `biblia.txt`, haciendo uso del método `read` del fichero y especificando el modo `\"r\"` de lectura:"
      ]
    },
    {
      "cell_type": "code",
      "execution_count": null,
      "id": "10338149",
      "metadata": {
        "id": "10338149"
      },
      "outputs": [],
      "source": [
        "with open(\"data2/txt/biblia.txt\", \"r\", encoding=\"latin1\") as f:\n",
        "    data = f.read()"
      ]
    },
    {
      "cell_type": "markdown",
      "id": "d245966f",
      "metadata": {
        "id": "d245966f"
      },
      "source": [
        "Podemos ver el tipo de la variable que cargamos:"
      ]
    },
    {
      "cell_type": "code",
      "execution_count": null,
      "id": "ac4d51a8",
      "metadata": {
        "id": "ac4d51a8",
        "colab": {
          "base_uri": "https://localhost:8080/"
        },
        "outputId": "7bf3e088-4962-4b64-8b69-7b7fcb135f0d"
      },
      "outputs": [
        {
          "output_type": "stream",
          "name": "stdout",
          "text": [
            "<class 'str'>\n"
          ]
        }
      ],
      "source": [
        "print(type(data))"
      ]
    },
    {
      "cell_type": "markdown",
      "id": "20be9052",
      "metadata": {
        "id": "20be9052"
      },
      "source": [
        "En este caso, todo el archivo se lee como una cadena de caracteres. Podemos imprimir los primeros 500 caracteres del archivo:"
      ]
    },
    {
      "cell_type": "code",
      "execution_count": null,
      "id": "f7176e0d",
      "metadata": {
        "id": "f7176e0d",
        "colab": {
          "base_uri": "https://localhost:8080/"
        },
        "outputId": "6cba3187-baef-4a20-d55a-7171dd8c949c"
      },
      "outputs": [
        {
          "output_type": "stream",
          "name": "stdout",
          "text": [
            "\t                  LA SANTA BIBLIA, ANTIGUO TESTAMENTO\n",
            "\t\n",
            "\tParte # 1 (INCLUYE LA LEY), los 10 primeros libros del AT: Gn, Ex, Lv, Nm, Dt, Jos, Jue, Rt, 1 S y 2 S\n",
            "\t\n",
            "\t\n",
            "\tLIBRO PRIMERO DE MOISÉS\n",
            "\t\n",
            "\t                                  GÉNESIS\n",
            "\t\n",
            "\tLa creación\n",
            "\t\n",
            "\tGénesis 1\n",
            "\t\n",
            "\tGénesis 1:1\n",
            "\t          En el principio creó Dios los cielos y la tierra.\n",
            "\t\n",
            "\t Génesis 1:2\n",
            "\t          Y la tierra estaba desordenada y vacía, y las tinieblas\n",
            "\t          estaban sobre la faz del abismo, y el Espíritu de Dios se\n",
            "\t        \n"
          ]
        }
      ],
      "source": [
        "print(data[:500])"
      ]
    },
    {
      "cell_type": "markdown",
      "id": "26fc1e52",
      "metadata": {
        "id": "26fc1e52"
      },
      "source": [
        "Adicional al método `read`, los ficheros de _Python_ también permiten utilizar el método `readlines`, el cual carga los datos como una lista de strings, separando cada valor por un salto de línea `\"\\n\"`.\n",
        "\n",
        "Veamos un ejemplo sobre el mismo archivo:"
      ]
    },
    {
      "cell_type": "code",
      "execution_count": null,
      "id": "4f3d4923",
      "metadata": {
        "id": "4f3d4923"
      },
      "outputs": [],
      "source": [
        "with open(\"data2/txt/biblia.txt\", \"r\", encoding=\"latin1\") as f:\n",
        "    data = f.readlines()"
      ]
    },
    {
      "cell_type": "markdown",
      "id": "91ca7552",
      "metadata": {
        "id": "91ca7552"
      },
      "source": [
        "Podemos validar el tipo de los datos que se cargaron:"
      ]
    },
    {
      "cell_type": "code",
      "execution_count": null,
      "id": "0c71196c",
      "metadata": {
        "id": "0c71196c",
        "colab": {
          "base_uri": "https://localhost:8080/"
        },
        "outputId": "88645924-cd5c-4add-ce79-4afe7725d532"
      },
      "outputs": [
        {
          "output_type": "stream",
          "name": "stdout",
          "text": [
            "<class 'list'>\n"
          ]
        }
      ],
      "source": [
        "print(type(data))"
      ]
    },
    {
      "cell_type": "markdown",
      "id": "d3fd08a2",
      "metadata": {
        "id": "d3fd08a2"
      },
      "source": [
        "También, podemos validar el tipo de un elemento de la lista obtenida:"
      ]
    },
    {
      "cell_type": "code",
      "execution_count": null,
      "id": "fbf10362",
      "metadata": {
        "id": "fbf10362",
        "colab": {
          "base_uri": "https://localhost:8080/"
        },
        "outputId": "72b19279-83a1-43cb-cca3-51c894438445"
      },
      "outputs": [
        {
          "output_type": "stream",
          "name": "stdout",
          "text": [
            "<class 'str'>\n"
          ]
        }
      ],
      "source": [
        "print(type(data[0]))"
      ]
    },
    {
      "cell_type": "markdown",
      "id": "5dc57c5b",
      "metadata": {
        "id": "5dc57c5b"
      },
      "source": [
        "Veamos las primeras 10 líneas del archivo:"
      ]
    },
    {
      "cell_type": "code",
      "execution_count": null,
      "id": "2470c734",
      "metadata": {
        "id": "2470c734",
        "colab": {
          "base_uri": "https://localhost:8080/"
        },
        "outputId": "7c7a0f71-6198-4e4d-86a3-7b5dac171f56"
      },
      "outputs": [
        {
          "output_type": "stream",
          "name": "stdout",
          "text": [
            "['\\t                  LA SANTA BIBLIA, ANTIGUO TESTAMENTO\\n', '\\t\\n', '\\tParte # 1 (INCLUYE LA LEY), los 10 primeros libros del AT: Gn, Ex, Lv, Nm, Dt, Jos, Jue, Rt, 1 S y 2 S\\n', '\\t\\n', '\\t\\n', '\\tLIBRO PRIMERO DE MOISÉS\\n', '\\t\\n', '\\t                                  GÉNESIS\\n', '\\t\\n', '\\tLa creación\\n']\n"
          ]
        }
      ],
      "source": [
        "print(data[:10])"
      ]
    },
    {
      "cell_type": "markdown",
      "id": "8d07b07b",
      "metadata": {
        "id": "8d07b07b"
      },
      "source": [
        "### **2.2. Escritura**\n",
        "---\n",
        "\n",
        "Para escribir sobre un archivo, debemos usar el fichero en modo `\"w\"`. Si queremos escribir una cadena de caracteres en el archivo debemos usar el método `write`."
      ]
    },
    {
      "cell_type": "code",
      "execution_count": null,
      "id": "ca0acb8d",
      "metadata": {
        "id": "ca0acb8d"
      },
      "outputs": [],
      "source": [
        "with open(\"file.txt\", \"w\") as f:\n",
        "    f.write(\"hola\")"
      ]
    },
    {
      "cell_type": "markdown",
      "id": "30669c42",
      "metadata": {
        "id": "30669c42"
      },
      "source": [
        "Validemos el resultado:"
      ]
    },
    {
      "cell_type": "code",
      "execution_count": null,
      "id": "c8fc83f4",
      "metadata": {
        "id": "c8fc83f4",
        "colab": {
          "base_uri": "https://localhost:8080/"
        },
        "outputId": "aa81bec1-261c-4893-e836-2d501c37760f"
      },
      "outputs": [
        {
          "output_type": "stream",
          "name": "stdout",
          "text": [
            "['.config', 'os_examples.zip', 'data2', 'file.txt', 'sample_data']\n"
          ]
        }
      ],
      "source": [
        "print(os.listdir(\".\"))"
      ]
    },
    {
      "cell_type": "markdown",
      "id": "650d9be5",
      "metadata": {
        "id": "650d9be5"
      },
      "source": [
        "Note que ahora existe el archivo `file.txt`. Podemos ver su contenido usando un fichero en modo lectura como lo vimos anteriormente:"
      ]
    },
    {
      "cell_type": "code",
      "execution_count": null,
      "id": "7046d2f5",
      "metadata": {
        "id": "7046d2f5",
        "colab": {
          "base_uri": "https://localhost:8080/"
        },
        "outputId": "977e2a86-2de0-419f-d401-f7d9c42fb704"
      },
      "outputs": [
        {
          "output_type": "stream",
          "name": "stdout",
          "text": [
            "hola\n"
          ]
        }
      ],
      "source": [
        "with open(\"file.txt\", \"r\") as f:\n",
        "    data = f.read()\n",
        "print(data)"
      ]
    },
    {
      "cell_type": "markdown",
      "id": "3d449547",
      "metadata": {
        "id": "3d449547"
      },
      "source": [
        "También podemos realizar múltiples escrituras sobre un archivo por medio del método `writelines` de los ficheros, el cual recibe como argumento una lista con los strings que se van a escribir como la variable `data` que se define a continuación:"
      ]
    },
    {
      "cell_type": "code",
      "execution_count": null,
      "id": "de73d691",
      "metadata": {
        "id": "de73d691"
      },
      "outputs": [],
      "source": [
        "data = [\"hola\\n\", \"mundo\\n\", \"saludos\\n\"]\n",
        "with open(\"file.txt\", \"w\") as f:\n",
        "    f.writelines(data)"
      ]
    },
    {
      "cell_type": "markdown",
      "id": "f8a5a8c4",
      "metadata": {
        "id": "f8a5a8c4"
      },
      "source": [
        "Validemos el contenido del archivo:"
      ]
    },
    {
      "cell_type": "code",
      "execution_count": null,
      "id": "cd987d04",
      "metadata": {
        "id": "cd987d04",
        "colab": {
          "base_uri": "https://localhost:8080/"
        },
        "outputId": "e7cf27dd-d7bb-4025-fa2e-690ae0accae3"
      },
      "outputs": [
        {
          "output_type": "stream",
          "name": "stdout",
          "text": [
            "hola\n",
            "mundo\n",
            "saludos\n",
            "\n"
          ]
        }
      ],
      "source": [
        "with open(\"file.txt\", \"r\") as f:\n",
        "    data = f.read()\n",
        "print(data)"
      ]
    },
    {
      "cell_type": "markdown",
      "id": "b9a6aa92",
      "metadata": {
        "id": "b9a6aa92"
      },
      "source": [
        "Recuerde que en _Python_ el carácter `\"\\n\"` representa un salto de línea (habláremos más en detalle sobre estos caracteres especiales en el taller guiado de manipulación de strings desde _Python_).\n",
        "\n",
        "**IMPORTANTE**: Note que el archivo `file.txt` se sobrescribió cuando abrimos el archivo por segunda vez en modo de escritura. Este es el comportamiento normal del modo `\"w\"`; así que se recomienda tener cuidado al usar este modo, ya que podemos borrar el contenido de los archivos existentes."
      ]
    },
    {
      "cell_type": "markdown",
      "id": "f4f76ca8",
      "metadata": {
        "id": "f4f76ca8"
      },
      "source": [
        "### **2.3. Append**\n",
        "---\n",
        "\n",
        "El modo **`append`** funciona como un modo de escritura, pero en lugar de sobrescribir un archivo, agrega elementos al final del mismo.\n",
        "\n",
        "Veamos un ejemplo en el que abrimos el archivo `file.txt` que creamos en el paso anterior pero esta vez en modo `\"a\"`."
      ]
    },
    {
      "cell_type": "code",
      "execution_count": null,
      "id": "181ada46",
      "metadata": {
        "id": "181ada46"
      },
      "outputs": [],
      "source": [
        "with open(\"file.txt\", \"a\") as f:\n",
        "    f.write(\"test\\n\")"
      ]
    },
    {
      "cell_type": "markdown",
      "id": "bcd49885",
      "metadata": {
        "id": "bcd49885"
      },
      "source": [
        "Validemos el resultado, creando un fichero en modo lectura `\"r\"` para extraer su contenido:"
      ]
    },
    {
      "cell_type": "code",
      "execution_count": null,
      "id": "12f57336",
      "metadata": {
        "id": "12f57336",
        "colab": {
          "base_uri": "https://localhost:8080/"
        },
        "outputId": "8b172798-f9fd-4caf-906d-48b2ed89f26f"
      },
      "outputs": [
        {
          "output_type": "stream",
          "name": "stdout",
          "text": [
            "hola\n",
            "mundo\n",
            "saludos\n",
            "test\n",
            "\n"
          ]
        }
      ],
      "source": [
        "with open(\"file.txt\", \"r\") as f:\n",
        "    data = f.read()\n",
        "print(data)"
      ]
    },
    {
      "cell_type": "markdown",
      "id": "0f28c034",
      "metadata": {
        "id": "0f28c034"
      },
      "source": [
        "### **2.4. Modos Extendidos**\n",
        "---\n",
        "\n",
        "Los modos extendidos se generan a partir del uso del operador `+` sobre los modos. Permiten combinar lectura con escritura de archivos.\n",
        "\n",
        "A manera de ejemplo, primero vamos a crear un fichero en modo de lectura extendido `\"r+\"` para poder leer y escribir sobre el archivo `file.txt`."
      ]
    },
    {
      "cell_type": "code",
      "execution_count": null,
      "id": "1ae2457b",
      "metadata": {
        "id": "1ae2457b",
        "colab": {
          "base_uri": "https://localhost:8080/"
        },
        "outputId": "36a56c95-0794-4b30-a943-a1e797ed05ba"
      },
      "outputs": [
        {
          "output_type": "stream",
          "name": "stdout",
          "text": [
            "hola\n",
            "mundo\n",
            "saludos\n",
            "test\n",
            "\n"
          ]
        }
      ],
      "source": [
        "with open(\"file.txt\", \"r+\") as f:\n",
        "    data = f.read()\n",
        "    print(data) # Imprimimos el contenido del archivo hasta este punto\n",
        "    f.write(\"hello\\n\")"
      ]
    },
    {
      "cell_type": "markdown",
      "id": "004d3e6c",
      "metadata": {
        "id": "004d3e6c"
      },
      "source": [
        "Note que en la anterior celda usamos el método `read` dentro del mismo contexto que el método `write` (acotado por la identación del `with`). Esto nos permite leer el archivo como se encontraba anteriormente y agregar la línea `\"hello\\n\"` al final.\n",
        "\n",
        "Verifiquemos que la línea nueva se agregara abriendo el fichero en modo lectura `\"r\"` para revisar el contenido del archivo:"
      ]
    },
    {
      "cell_type": "code",
      "execution_count": null,
      "id": "0186225b",
      "metadata": {
        "id": "0186225b",
        "colab": {
          "base_uri": "https://localhost:8080/"
        },
        "outputId": "00dd3ca6-5933-4767-b216-fc6c0a858596"
      },
      "outputs": [
        {
          "output_type": "stream",
          "name": "stdout",
          "text": [
            "hola\n",
            "mundo\n",
            "saludos\n",
            "test\n",
            "hello\n",
            "\n"
          ]
        }
      ],
      "source": [
        "with open(\"file.txt\", \"r\") as f:\n",
        "    data = f.read()\n",
        "    print(data)"
      ]
    },
    {
      "cell_type": "markdown",
      "id": "0ba88312",
      "metadata": {
        "id": "0ba88312"
      },
      "source": [
        "Como se puede evidenciar, el archivo fue modificado correctamente con la nueva línea.\n",
        "\n",
        "Es importante tener en cuenta que internamente los ficheros guardan una ubicación luego de cualquier operación de lectura o escritura. En el ejemplo de lectura-escritura anterior con `\"r+\"` vimos que la nueva línea se agregó al final. Esto sucede debido a que el archivo fue leído inicialmente (la posición quedó en el último carácter leído) y luego sí se agrega la nueva línea.\n",
        "\n",
        "Veamos un ejemplo donde abrimos un fichero en modo `\"r+\"` pero únicamente para escribir sobre él:"
      ]
    },
    {
      "cell_type": "code",
      "execution_count": null,
      "id": "809ea2c8",
      "metadata": {
        "id": "809ea2c8"
      },
      "outputs": [],
      "source": [
        "with open(\"file.txt\", \"r+\") as f:\n",
        "    data = f.write(\"nueva línea\")"
      ]
    },
    {
      "cell_type": "markdown",
      "id": "b61d73bb",
      "metadata": {
        "id": "b61d73bb"
      },
      "source": [
        "Veamos el contenido del archivo, cargándolo con un fichero en modo lectura:"
      ]
    },
    {
      "cell_type": "code",
      "execution_count": null,
      "id": "1f7f803e",
      "metadata": {
        "id": "1f7f803e",
        "colab": {
          "base_uri": "https://localhost:8080/"
        },
        "outputId": "76a95e03-cd0e-43bd-f3f6-72bed0307725"
      },
      "outputs": [
        {
          "output_type": "stream",
          "name": "stdout",
          "text": [
            "nueva líneaaludos\n",
            "test\n",
            "hello\n",
            "\n"
          ]
        }
      ],
      "source": [
        "with open(\"file.txt\", \"r\") as f:\n",
        "    data = f.read()\n",
        "print(data)"
      ]
    },
    {
      "cell_type": "markdown",
      "id": "d64790df",
      "metadata": {
        "id": "d64790df"
      },
      "source": [
        "Como se puede ver, el valor `\"nueva línea\"` fue agregado al inicio del fichero y sobrescribió el contenido anterior del archivo.\n",
        "\n",
        "Podemos cambiar manualmente la posición dentro de un fichero con el método `seek`. Por ejemplo, vamos a escribir sobre el archivo existente con el modo `r+` pero vamos a escribir sobre el carácter de la posición 10:"
      ]
    },
    {
      "cell_type": "code",
      "execution_count": null,
      "id": "c2914321",
      "metadata": {
        "id": "c2914321"
      },
      "outputs": [],
      "source": [
        "with open(\"file.txt\", \"r+\") as f:\n",
        "    f.seek(10)\n",
        "    f.write(\"<nuevo valor>\")"
      ]
    },
    {
      "cell_type": "markdown",
      "id": "21f4ac07",
      "metadata": {
        "id": "21f4ac07"
      },
      "source": [
        "Veamos el contenido del archivo, cargándolo con un fichero en modo lectura:"
      ]
    },
    {
      "cell_type": "code",
      "execution_count": null,
      "id": "b965f269",
      "metadata": {
        "id": "b965f269",
        "colab": {
          "base_uri": "https://localhost:8080/"
        },
        "outputId": "b8474899-ac6b-4835-b498-f368e7885798"
      },
      "outputs": [
        {
          "output_type": "stream",
          "name": "stdout",
          "text": [
            "nueva lín<nuevo valor>\n",
            "hello\n",
            "\n"
          ]
        }
      ],
      "source": [
        "with open(\"file.txt\", \"r\") as f:\n",
        "    data = f.read()\n",
        "print(data)"
      ]
    },
    {
      "cell_type": "markdown",
      "id": "8442ffe5",
      "metadata": {
        "id": "8442ffe5"
      },
      "source": [
        "### **2.5. Modos Binarios**\n",
        "---\n",
        "\n",
        "Los modos binarios permiten guardar archivos directamente como ficheros binarios. Estos se crean usando el modificador `\"b\"` sobre los modos que vimos anteriormente (por ejemplo: `\"rb\"`, `\"wb\"`, `\"ab\"`).\n",
        "\n",
        "Los modos binarios generalmente se usan para almacenar datos de forma compacta en aplicaciones que necesitan un buen rendimiento o interactuar con la información de más bajo nivel del sistema (por ejemplo, leyendo datos que provienen de puertos USB, bluetooth, entre otros). Si abrimos un archivo binario usando un editor de texto, no entenderíamos su contenido a simple vista, pues lo que se almacena son bytes.\n",
        "\n",
        "En este caso, veremos un ejemplo en el que podemos almacenar números enteros como valores hexadecimales dentro de un archivo binario. Primero, veamos cómo convertir un número entero en su valor hexadecimal en _Python_ con la función base `hex`.\n",
        "\n",
        "Por ejemplo, `255` codificado como un valor hexadecimal corresponde a `FF`:"
      ]
    },
    {
      "cell_type": "code",
      "execution_count": null,
      "id": "b04a88fd",
      "metadata": {
        "id": "b04a88fd",
        "colab": {
          "base_uri": "https://localhost:8080/"
        },
        "outputId": "85e10fc4-6974-4ef0-86ce-86028191ea23"
      },
      "outputs": [
        {
          "output_type": "stream",
          "name": "stdout",
          "text": [
            "0xff\n"
          ]
        }
      ],
      "source": [
        "print(hex(255))"
      ]
    },
    {
      "cell_type": "markdown",
      "id": "8d9f9be7",
      "metadata": {
        "id": "8d9f9be7"
      },
      "source": [
        "También podemos convertir un número a su valor en bytes (hexadecimal) con el método `to_bytes`, la cual recibe como argumento el número de bytes que se usará para guardar el número (en este caso 1) y el orden de los bytes que permite determinar si el bit más alto es el de la derecha `little` o el de la izquierda `big` (en este caso `big`):"
      ]
    },
    {
      "cell_type": "code",
      "execution_count": null,
      "id": "61126e57",
      "metadata": {
        "id": "61126e57",
        "colab": {
          "base_uri": "https://localhost:8080/"
        },
        "outputId": "995f99c7-321f-46f8-b042-10e6b382f0da"
      },
      "outputs": [
        {
          "output_type": "stream",
          "name": "stdout",
          "text": [
            "b'\\xff'\n"
          ]
        }
      ],
      "source": [
        "num = 255\n",
        "print(num.to_bytes(1, \"big\"))"
      ]
    },
    {
      "cell_type": "markdown",
      "id": "b1a7f999",
      "metadata": {
        "id": "b1a7f999"
      },
      "source": [
        "Ahora, vamos a escribir un fichero binario con los valores hexadecimales contenidos en la lista `nums`:"
      ]
    },
    {
      "cell_type": "code",
      "execution_count": null,
      "id": "1bbfad1f",
      "metadata": {
        "id": "1bbfad1f"
      },
      "outputs": [],
      "source": [
        "nums = [0, 255, 33, 45]"
      ]
    },
    {
      "cell_type": "markdown",
      "id": "9450d871",
      "metadata": {
        "id": "9450d871"
      },
      "source": [
        "Primero codificamos estos valores como una cadena binaria (veremos más detalles de los tipos de cadenas en el taller guiado de manipulación de _strings_ desde _Python_)"
      ]
    },
    {
      "cell_type": "code",
      "execution_count": null,
      "id": "b00c5a35",
      "metadata": {
        "id": "b00c5a35",
        "colab": {
          "base_uri": "https://localhost:8080/"
        },
        "outputId": "dd72fc53-dc51-40f0-d558-5bfb4497cb42"
      },
      "outputs": [
        {
          "output_type": "stream",
          "name": "stdout",
          "text": [
            "[b'\\x00', b'\\xff', b'!', b'-']\n"
          ]
        }
      ],
      "source": [
        "bins = [num.to_bytes(1, \"big\") for num in nums]\n",
        "print(bins)"
      ]
    },
    {
      "cell_type": "markdown",
      "id": "ca23ac7f",
      "metadata": {
        "id": "ca23ac7f"
      },
      "source": [
        "Como puede ver, los números `33` y `45` se muestran como símbolos, esto se debe a que su valor hexadecimal corresponde a dicho símbolo en codificación [ASCII](https://www.ascii-code.com/). Podemos validar el carácter al que corresponde un número con la función `chr`:"
      ]
    },
    {
      "cell_type": "code",
      "execution_count": null,
      "id": "ccac44e8",
      "metadata": {
        "id": "ccac44e8",
        "colab": {
          "base_uri": "https://localhost:8080/",
          "height": 35
        },
        "outputId": "60762c82-eef6-487c-b94e-4211c8fa42b4"
      },
      "outputs": [
        {
          "output_type": "execute_result",
          "data": {
            "text/plain": [
              "'!'"
            ],
            "application/vnd.google.colaboratory.intrinsic+json": {
              "type": "string"
            }
          },
          "metadata": {},
          "execution_count": 59
        }
      ],
      "source": [
        "chr(33)"
      ]
    },
    {
      "cell_type": "markdown",
      "id": "8358e494",
      "metadata": {
        "id": "8358e494"
      },
      "source": [
        "Con los números codificados como bytes, podemos escribir el archivo binario:"
      ]
    },
    {
      "cell_type": "markdown",
      "id": "4fe0900c",
      "metadata": {
        "id": "4fe0900c"
      },
      "source": [
        "  <img src=\"images/escritura_sobre_archivos.png\" width=\"70%\">\n"
      ]
    },
    {
      "cell_type": "code",
      "execution_count": null,
      "id": "6af010db",
      "metadata": {
        "id": "6af010db"
      },
      "outputs": [],
      "source": [
        "with open(\"file.txt\", \"wb\") as f:\n",
        "    for bin in bins:\n",
        "        f.write(bin)"
      ]
    },
    {
      "cell_type": "markdown",
      "id": "2be43ef9",
      "metadata": {
        "id": "2be43ef9"
      },
      "source": [
        "Ahora, veamos qué pasa cuando leemos el archivo como lectura binaria `\"rb\"`:"
      ]
    },
    {
      "cell_type": "markdown",
      "id": "2f387dd2",
      "metadata": {
        "id": "2f387dd2"
      },
      "source": [
        "<img src=\"images/lectura_sobre_archivos.png\" width=\"70%\">"
      ]
    },
    {
      "cell_type": "code",
      "execution_count": null,
      "id": "eaa141bf",
      "metadata": {
        "id": "eaa141bf",
        "colab": {
          "base_uri": "https://localhost:8080/"
        },
        "outputId": "43a186c4-eb14-490c-8703-e2bb12f46d04"
      },
      "outputs": [
        {
          "output_type": "stream",
          "name": "stdout",
          "text": [
            "b'\\x00\\xff!-'\n",
            "[0, 255, 33, 45]\n"
          ]
        }
      ],
      "source": [
        "with open(\"file.txt\", \"rb\") as f:\n",
        "    # leemos los datos binarios\n",
        "    data = f.read()\n",
        "    print(data)\n",
        "    # Extraemos los números usando int()\n",
        "    nums = [int(i) for i in data]\n",
        "    print(nums)"
      ]
    },
    {
      "cell_type": "markdown",
      "id": "6f872666",
      "metadata": {
        "id": "6f872666"
      },
      "source": [
        "Como mencionamos anteriormente, guardar la información en formato binario puede ser más compacto que guardar la información cruda.\n",
        "\n",
        "Veamos un ejemplo donde guardamos los números en un archivo separado por comas, primero creamos el string con los datos de la forma en la que serán almacenados, al convertir cada número en un string con la función `map` y luego uniéndolos con el carácter `,` de por medio:"
      ]
    },
    {
      "cell_type": "code",
      "execution_count": null,
      "id": "ca5edc91",
      "metadata": {
        "id": "ca5edc91",
        "colab": {
          "base_uri": "https://localhost:8080/"
        },
        "outputId": "88bfb914-d9d7-4eb3-c2fc-61654d35336c"
      },
      "outputs": [
        {
          "output_type": "stream",
          "name": "stdout",
          "text": [
            "0,255,33,45\n"
          ]
        }
      ],
      "source": [
        "line = \",\".join(map(str, nums))\n",
        "print(line)"
      ]
    },
    {
      "cell_type": "markdown",
      "id": "3fae1335",
      "metadata": {
        "id": "3fae1335"
      },
      "source": [
        "Ahora, escribimos los números en un fichero de texto en modo escritura no binario `\"w\"`:"
      ]
    },
    {
      "cell_type": "code",
      "execution_count": null,
      "id": "a990efa6",
      "metadata": {
        "id": "a990efa6"
      },
      "outputs": [],
      "source": [
        "with open(\"file2.txt\", \"w\") as f:\n",
        "    f.write(line)"
      ]
    },
    {
      "cell_type": "markdown",
      "id": "a62b6c40",
      "metadata": {
        "id": "a62b6c40"
      },
      "source": [
        "Veamos una comparativa del tamaño de los archivos `file.txt` (binario) y `file2.txt` (no binario). Esto lo hacemos por medio de la función `stat` la cual nos permite extraer metadatos generales de un fichero, como su tamaño en bytes `st_size`.\n",
        "\n",
        "Para el archivo binario:"
      ]
    },
    {
      "cell_type": "code",
      "execution_count": null,
      "id": "0440da40",
      "metadata": {
        "id": "0440da40",
        "colab": {
          "base_uri": "https://localhost:8080/"
        },
        "outputId": "2f27af94-b0b3-475c-9349-ea4a0b1dd8c8"
      },
      "outputs": [
        {
          "output_type": "stream",
          "name": "stdout",
          "text": [
            "4\n"
          ]
        }
      ],
      "source": [
        "print(os.stat(\"file.txt\").st_size)"
      ]
    },
    {
      "cell_type": "markdown",
      "id": "58942fd2",
      "metadata": {
        "id": "58942fd2"
      },
      "source": [
        "Para el archivo no binario:"
      ]
    },
    {
      "cell_type": "code",
      "execution_count": null,
      "id": "7e8c87d8",
      "metadata": {
        "id": "7e8c87d8",
        "colab": {
          "base_uri": "https://localhost:8080/"
        },
        "outputId": "b31b60d8-eee6-4418-edf6-6575c5e577de"
      },
      "outputs": [
        {
          "output_type": "stream",
          "name": "stdout",
          "text": [
            "11\n"
          ]
        }
      ],
      "source": [
        "print(os.stat(\"file2.txt\").st_size)"
      ]
    },
    {
      "cell_type": "markdown",
      "id": "9331c753",
      "metadata": {
        "id": "9331c753"
      },
      "source": [
        "## **3. Manipulación de Archivos JSON**\n",
        "---\n",
        "\n",
        "El formato `json` es una abreviación de _JavaScript Object Notation_ y se trata de un formato de archivos compacto y fácil de leer para las personas.\n",
        "\n",
        "Se trata de un formato que permite almacenar información por medio de un esquema de clave-valor (similar a los diccionarios de _Python_). Este formato permite almacenar los siguientes tipos de datos:\n",
        "\n",
        "* **Número**: cualquier número se puede almacenar separando los decimales por un `.`, por ejemplo `3.5`.\n",
        "* **Texto**: cualquier cadena de caracteres se puede almacenar si está acotada por comillas dobles, por ejemplo: `\"hola mundo\"`.\n",
        "* **Booleanos**: se pueden guardar valores booleanos como `true` o `false`\n",
        "* **Arreglos**: Se puede guardar una secuencia de valores acotándolos con corchetes cuadrados `[]` y separando cada valor por una coma, por ejemplo `[1, 2, 3.5, false, \"yes\"]`\n",
        "* **Objetos**: Pares de clave-valor (la clave siempre debe ser un texto) acotados por las llaves `{}` y separando las claves de los valores con `:` y cada par clave-valor con comas, por ejemplo: `{\"nombre\": \"Pedro\", \"apellido\": \"Perez\"}`\n",
        "\n",
        "Un ejemplo de un archivo `json`:\n",
        "\n",
        "```javascript\n",
        "{\n",
        "   \"nombre\": \"Pedro Pablo\",\n",
        "   \"apellido\": \"Perez Perez\",\n",
        "   \"contacto\": {\n",
        "       \"correo\": \"pepep@correo.com\",\n",
        "       \"teléfono\": 123456\n",
        "   },\n",
        "   \"cargo\": \"docente\",\n",
        "   \"tiene_hijos\": true,\n",
        "   \"nombre_hijos\": [\"Pipe\", \"Marco\", \"Julia\"]\n",
        "}\n",
        "```\n",
        "\n",
        "El formato `json` es una forma común de almacenar conjuntos de datos para procesamiento de lenguaje natural. _Python_ trae una librería base `json` que nos permite leer y escribir ficheros con este formato y además los convierte a diccionarios para su fácil manipulación.\n",
        "\n",
        "Veamos cómo almacenar y leer datos en formato `json`, comenzamos importando la librería para la manipulación de este tipo de archivos:"
      ]
    },
    {
      "cell_type": "code",
      "execution_count": null,
      "id": "31782c32",
      "metadata": {
        "id": "31782c32"
      },
      "outputs": [],
      "source": [
        "import json"
      ]
    },
    {
      "cell_type": "markdown",
      "id": "f4314d36",
      "metadata": {
        "id": "f4314d36"
      },
      "source": [
        "### **3.1. Escritura**\n",
        "---\n",
        "\n",
        "La escritura de archivos `json` desde _Python_ se realiza al convertir un diccionario de Python al formato.\n",
        "\n",
        "Vamos a definir un diccionario con la información del ejemplo anterior:"
      ]
    },
    {
      "cell_type": "code",
      "execution_count": null,
      "id": "c024b558",
      "metadata": {
        "id": "c024b558"
      },
      "outputs": [],
      "source": [
        "data =  {\n",
        "        \"nombre\": \"Pedro Pablo\",\n",
        "        \"apellido\": \"Perez Perez\",\n",
        "        \"contacto\": {\n",
        "            \"correo\": \"pepep@correo.com\",\n",
        "            \"teléfono\": 123456\n",
        "            },\n",
        "        \"cargo\": \"docente\",\n",
        "        \"tiene_hijos\": True,\n",
        "        \"nombre_hijos\": [\"Pipe\", \"Marco\", \"Julia\"]\n",
        "        }"
      ]
    },
    {
      "cell_type": "markdown",
      "id": "a821077b",
      "metadata": {
        "id": "a821077b"
      },
      "source": [
        "Ahora, podemos convertir este diccionario a la especificación `json` con la función `dumps`"
      ]
    },
    {
      "cell_type": "code",
      "execution_count": null,
      "id": "839d07d6",
      "metadata": {
        "id": "839d07d6",
        "colab": {
          "base_uri": "https://localhost:8080/"
        },
        "outputId": "aac0d554-38f2-4d2c-b7ab-1162653d523e"
      },
      "outputs": [
        {
          "output_type": "stream",
          "name": "stdout",
          "text": [
            "{\"nombre\": \"Pedro Pablo\", \"apellido\": \"Perez Perez\", \"contacto\": {\"correo\": \"pepep@correo.com\", \"tel\\u00e9fono\": 123456}, \"cargo\": \"docente\", \"tiene_hijos\": true, \"nombre_hijos\": [\"Pipe\", \"Marco\", \"Julia\"]}\n"
          ]
        }
      ],
      "source": [
        "data_json = json.dumps(data)\n",
        "print(data_json)"
      ]
    },
    {
      "cell_type": "markdown",
      "id": "5352d669",
      "metadata": {
        "id": "5352d669"
      },
      "source": [
        "Esta es la información que podemos guardar como un fichero como vimos en los casos anteriores, no obstante, la librería `json` contiene la función `dump` que permite guardar la información directamente en un fichero (modo escritura) como se muestra a continuación:"
      ]
    },
    {
      "cell_type": "code",
      "execution_count": null,
      "id": "f36517dc",
      "metadata": {
        "id": "f36517dc"
      },
      "outputs": [],
      "source": [
        "with open(\"file.json\", \"w\") as f:\n",
        "    json.dump(data, f)"
      ]
    },
    {
      "cell_type": "markdown",
      "id": "ce632c1d",
      "metadata": {
        "id": "ce632c1d"
      },
      "source": [
        "Podemos corroborar el contenido del archivo con un fichero en modo lectura:"
      ]
    },
    {
      "cell_type": "code",
      "execution_count": null,
      "id": "4224fc2d",
      "metadata": {
        "id": "4224fc2d",
        "colab": {
          "base_uri": "https://localhost:8080/"
        },
        "outputId": "7bf64344-1409-45da-97c1-81e72e52743f"
      },
      "outputs": [
        {
          "output_type": "stream",
          "name": "stdout",
          "text": [
            "{\"nombre\": \"Pedro Pablo\", \"apellido\": \"Perez Perez\", \"contacto\": {\"correo\": \"pepep@correo.com\", \"tel\\u00e9fono\": 123456}, \"cargo\": \"docente\", \"tiene_hijos\": true, \"nombre_hijos\": [\"Pipe\", \"Marco\", \"Julia\"]}\n"
          ]
        }
      ],
      "source": [
        "with open(\"file.json\", \"r\") as f:\n",
        "    print(f.read())"
      ]
    },
    {
      "cell_type": "markdown",
      "id": "c55c753c",
      "metadata": {
        "id": "c55c753c"
      },
      "source": [
        "### **3.2. Lectura**\n",
        "---\n",
        "\n",
        "La librería `json` también permite interpretar el formato `json` como un diccionario de _Python_. Por ejemplo, el siguiente string viene en formato `json`:"
      ]
    },
    {
      "cell_type": "code",
      "execution_count": null,
      "id": "632787c7",
      "metadata": {
        "id": "632787c7"
      },
      "outputs": [],
      "source": [
        "data = '{\"nombre\": \"Pedro Pablo\", \"numero\": 12345}'"
      ]
    },
    {
      "cell_type": "markdown",
      "id": "33f6df8b",
      "metadata": {
        "id": "33f6df8b"
      },
      "source": [
        "Con la función `loads` podemos convertir este valor en un diccionario de _Python_:"
      ]
    },
    {
      "cell_type": "code",
      "execution_count": null,
      "id": "95dbc59b",
      "metadata": {
        "id": "95dbc59b"
      },
      "outputs": [],
      "source": [
        "result = json.loads(data)"
      ]
    },
    {
      "cell_type": "markdown",
      "id": "f69630ff",
      "metadata": {
        "id": "f69630ff"
      },
      "source": [
        "Veamos el tipo de la variable `result`:"
      ]
    },
    {
      "cell_type": "code",
      "execution_count": null,
      "id": "8cd46c51",
      "metadata": {
        "id": "8cd46c51",
        "colab": {
          "base_uri": "https://localhost:8080/"
        },
        "outputId": "81cbbf27-2a47-4bbb-e0b7-af8aa9fe5a57"
      },
      "outputs": [
        {
          "output_type": "stream",
          "name": "stdout",
          "text": [
            "<class 'dict'>\n"
          ]
        }
      ],
      "source": [
        "print(type(result))"
      ]
    },
    {
      "cell_type": "markdown",
      "id": "f1be6e7e",
      "metadata": {
        "id": "f1be6e7e"
      },
      "source": [
        "Como es un diccionario, podemos indexar y obtener valores del mismo:"
      ]
    },
    {
      "cell_type": "code",
      "execution_count": null,
      "id": "e34aed2a",
      "metadata": {
        "id": "e34aed2a",
        "colab": {
          "base_uri": "https://localhost:8080/"
        },
        "outputId": "f9e24ea0-5d68-4a3d-ee2f-3ed32e5a812f"
      },
      "outputs": [
        {
          "output_type": "stream",
          "name": "stdout",
          "text": [
            "12345\n"
          ]
        }
      ],
      "source": [
        "print(result[\"numero\"])"
      ]
    },
    {
      "cell_type": "markdown",
      "id": "686cc500",
      "metadata": {
        "id": "686cc500"
      },
      "source": [
        "De la misma forma, la librería `json` tiene la función `load` para leer un fichero directamente como un diccionario, si quisiéramos leer el archivo que creamos en el ejemplo anterior:"
      ]
    },
    {
      "cell_type": "code",
      "execution_count": null,
      "id": "5b0272b4",
      "metadata": {
        "id": "5b0272b4"
      },
      "outputs": [],
      "source": [
        "with open(\"file.json\", \"r\") as f:\n",
        "    result = json.load(f)"
      ]
    },
    {
      "cell_type": "markdown",
      "id": "f5590aac",
      "metadata": {
        "id": "f5590aac"
      },
      "source": [
        "Veamos el resultado:"
      ]
    },
    {
      "cell_type": "code",
      "execution_count": null,
      "id": "04234646",
      "metadata": {
        "id": "04234646",
        "colab": {
          "base_uri": "https://localhost:8080/"
        },
        "outputId": "81a527b1-2d5a-4ba3-c7d7-09603a6350ce"
      },
      "outputs": [
        {
          "output_type": "stream",
          "name": "stdout",
          "text": [
            "{'nombre': 'Pedro Pablo', 'numero': 12345}\n"
          ]
        }
      ],
      "source": [
        "print(result)"
      ]
    },
    {
      "cell_type": "markdown",
      "id": "2c935c85",
      "metadata": {
        "id": "2c935c85"
      },
      "source": [
        "## **Recursos Adicionales**\n",
        "---\n",
        "\n",
        "Los siguientes enlaces corresponden a sitios donde encontrará información muy útil para profundizar en los temas vistos en este taller guiado:\n",
        "\n",
        "* [Input and Output, Python](https://docs.python.org/3/tutorial/inputoutput.html).\n",
        "* [Python file open](https://www.w3schools.com/python/python_file_open.asp).\n",
        "* [Python JSON](https://www.w3schools.com/python/python_json.asp).\n",
        "* _Fuente de los íconos_\n",
        "    - Flaticon. Folder free icon [PNG]. https://www.flaticon.com/free-icon/folder_716784\n",
        "    - Flaticon. Png free icon [PNG]. https://www.flaticon.com/free-icon/png_136523\n",
        "    - Flaticon. Pdf File free icon [PNG]. https://www.flaticon.com/free-icon/pdf-file_2656448\n",
        "    - Flaticon. Txt free icon [PNG]. https://www.flaticon.com/free-icon/txt_2306185"
      ]
    },
    {
      "cell_type": "markdown",
      "id": "414aab59",
      "metadata": {
        "id": "414aab59"
      },
      "source": [
        "## **Créditos**\n",
        "\n",
        "* **Profesor:** [Felipe Restrepo Calle](https://dis.unal.edu.co/~ferestrepoca/)\n",
        "* **Asistentes docentes:**\n",
        "    - [Juan Sebastián Lara Ramírez](https://www.linkedin.com/in/juan-sebastian-lara-ramirez-43570a214/).\n",
        "* **Diseño de imágenes:**\n",
        "    - [Rosa Alejandra Superlano Esquibel](mailto:rsuperlano@unal.edu.co).\n",
        "* **Coordinador de virtualización:**\n",
        "    - [Edder Hernández Forero](https://www.linkedin.com/in/edder-hernandez-forero-28aa8b207/).\n",
        "\n",
        "**Universidad Nacional de Colombia** - *Facultad de Ingeniería*"
      ]
    }
  ],
  "metadata": {
    "jupytext": {
      "cell_metadata_filter": "-all",
      "main_language": "python",
      "notebook_metadata_filter": "-all"
    },
    "colab": {
      "provenance": []
    },
    "language_info": {
      "name": "python"
    },
    "kernelspec": {
      "name": "python3",
      "display_name": "Python 3"
    }
  },
  "nbformat": 4,
  "nbformat_minor": 5
}