{
  "cells": [
    {
      "cell_type": "markdown",
      "id": "b266b944",
      "metadata": {
        "id": "b266b944"
      },
      "source": [
        "<img src=\"https://drive.google.com/uc?export=view&id=1AQr9H9bXDeNPchTRufU78g8z0yxHvrmC\" width=\"100%\">"
      ]
    },
    {
      "cell_type": "markdown",
      "id": "f967c0eb",
      "metadata": {
        "id": "f967c0eb"
      },
      "source": [
        "# **Taller 2**\n",
        "---\n",
        "\n",
        "En este taller se evaluarán las habilidades adquiridas en expresiones regulares, manejo de la librería `spacy` y preprocesamiento a partir del conjunto de datos [Balanced_AHR](https://www.kaggle.com/datasets/chizhikchi/andalusian-hotels-reviews-unbalanced) de Kaggle.\n",
        "\n",
        "En este caso, usted deberá realizar algunas operaciones de búsqueda de textos con expresiones regulares y normalización de textos. Comenzamos importando las librerías necesarias:"
      ]
    },
    {
      "cell_type": "code",
      "execution_count": null,
      "id": "ecc281d8",
      "metadata": {
        "colab": {
          "base_uri": "https://localhost:8080/"
        },
        "id": "ecc281d8",
        "outputId": "b8ac53be-6acf-42a2-8c9f-e6bb7fea9681"
      },
      "outputs": [
        {
          "output_type": "stream",
          "name": "stdout",
          "text": [
            "Requirement already satisfied: unidecode in /usr/local/lib/python3.11/dist-packages (1.3.8)\n"
          ]
        }
      ],
      "source": [
        "#TEST_CELL\n",
        "!pip install unidecode"
      ]
    },
    {
      "cell_type": "code",
      "execution_count": null,
      "id": "9b1ec7a6",
      "metadata": {
        "id": "9b1ec7a6"
      },
      "outputs": [],
      "source": [
        "import re\n",
        "import pandas as pd\n",
        "import matplotlib.pyplot as plt\n",
        "import seaborn as sns\n",
        "from unidecode import unidecode\n",
        "from IPython.display import display\n",
        "plt.style.use(\"ggplot\")"
      ]
    },
    {
      "cell_type": "markdown",
      "id": "36823488",
      "metadata": {
        "id": "36823488"
      },
      "source": [
        "Cargamos el conjunto de datos:"
      ]
    },
    {
      "cell_type": "code",
      "source": [
        "!wget https://raw.githubusercontent.com/mindlab-unal/mlds4-case-study/refs/heads/main/dataset/Balanced_AHR.csv"
      ],
      "metadata": {
        "id": "8bqLxr0rFFQp",
        "colab": {
          "base_uri": "https://localhost:8080/"
        },
        "outputId": "ac1cecfa-3768-4b1d-bc22-20917ab0d901"
      },
      "id": "8bqLxr0rFFQp",
      "execution_count": null,
      "outputs": [
        {
          "output_type": "stream",
          "name": "stdout",
          "text": [
            "--2025-03-23 22:44:34--  https://raw.githubusercontent.com/mindlab-unal/mlds4-case-study/refs/heads/main/dataset/Balanced_AHR.csv\n",
            "Resolving raw.githubusercontent.com (raw.githubusercontent.com)... 185.199.111.133, 185.199.108.133, 185.199.110.133, ...\n",
            "Connecting to raw.githubusercontent.com (raw.githubusercontent.com)|185.199.111.133|:443... connected.\n",
            "HTTP request sent, awaiting response... 200 OK\n",
            "Length: 4559782 (4.3M) [text/plain]\n",
            "Saving to: ‘Balanced_AHR.csv.1’\n",
            "\n",
            "Balanced_AHR.csv.1  100%[===================>]   4.35M  --.-KB/s    in 0.09s   \n",
            "\n",
            "2025-03-23 22:44:34 (50.2 MB/s) - ‘Balanced_AHR.csv.1’ saved [4559782/4559782]\n",
            "\n"
          ]
        }
      ]
    },
    {
      "cell_type": "code",
      "execution_count": null,
      "id": "94804a25",
      "metadata": {
        "colab": {
          "base_uri": "https://localhost:8080/",
          "height": 206
        },
        "id": "94804a25",
        "outputId": "bacfa98f-0eb7-47da-f364-f8c1c274703f"
      },
      "outputs": [
        {
          "output_type": "display_data",
          "data": {
            "text/plain": [
              "   Unnamed: 0                                 title  rating  \\\n",
              "0           0                   IMPOSIBLE DESCANSAR       2   \n",
              "1           1          No es oro todo lo que reluce       3   \n",
              "2           2        Un buen hotel con mucho ruido.       3   \n",
              "3           3  SIN CALEFACCIÓN OPERATIVA Y CON FRÍO       2   \n",
              "4           4             Deja bastante que desear.       2   \n",
              "\n",
              "                                         review_text  \\\n",
              "0  El fin de semana mi pareja y yo hicimos una re...   \n",
              "1  El hotel en general está bien, las habtiacione...   \n",
              "2  El hotel es moderno, amplio y limpio, pero no ...   \n",
              "3  Calefacción averiada o no operativa. Se coment...   \n",
              "4  Este hotel ha bajado notoriamente su categoria...   \n",
              "\n",
              "                                location                hotel  label  \n",
              "0  Seville_Province_of_Seville_Andalucia  Hotel_Rey_Alfonso_X      0  \n",
              "1  Seville_Province_of_Seville_Andalucia  Hotel_Rey_Alfonso_X      3  \n",
              "2  Seville_Province_of_Seville_Andalucia  Hotel_Rey_Alfonso_X      3  \n",
              "3  Seville_Province_of_Seville_Andalucia        Melia_Sevilla      0  \n",
              "4  Seville_Province_of_Seville_Andalucia        Melia_Sevilla      0  "
            ],
            "text/html": [
              "\n",
              "  <div id=\"df-d2a66b2f-cb5a-40be-95ef-223aa96c7802\" class=\"colab-df-container\">\n",
              "    <div>\n",
              "<style scoped>\n",
              "    .dataframe tbody tr th:only-of-type {\n",
              "        vertical-align: middle;\n",
              "    }\n",
              "\n",
              "    .dataframe tbody tr th {\n",
              "        vertical-align: top;\n",
              "    }\n",
              "\n",
              "    .dataframe thead th {\n",
              "        text-align: right;\n",
              "    }\n",
              "</style>\n",
              "<table border=\"1\" class=\"dataframe\">\n",
              "  <thead>\n",
              "    <tr style=\"text-align: right;\">\n",
              "      <th></th>\n",
              "      <th>Unnamed: 0</th>\n",
              "      <th>title</th>\n",
              "      <th>rating</th>\n",
              "      <th>review_text</th>\n",
              "      <th>location</th>\n",
              "      <th>hotel</th>\n",
              "      <th>label</th>\n",
              "    </tr>\n",
              "  </thead>\n",
              "  <tbody>\n",
              "    <tr>\n",
              "      <th>0</th>\n",
              "      <td>0</td>\n",
              "      <td>IMPOSIBLE DESCANSAR</td>\n",
              "      <td>2</td>\n",
              "      <td>El fin de semana mi pareja y yo hicimos una re...</td>\n",
              "      <td>Seville_Province_of_Seville_Andalucia</td>\n",
              "      <td>Hotel_Rey_Alfonso_X</td>\n",
              "      <td>0</td>\n",
              "    </tr>\n",
              "    <tr>\n",
              "      <th>1</th>\n",
              "      <td>1</td>\n",
              "      <td>No es oro todo lo que reluce</td>\n",
              "      <td>3</td>\n",
              "      <td>El hotel en general está bien, las habtiacione...</td>\n",
              "      <td>Seville_Province_of_Seville_Andalucia</td>\n",
              "      <td>Hotel_Rey_Alfonso_X</td>\n",
              "      <td>3</td>\n",
              "    </tr>\n",
              "    <tr>\n",
              "      <th>2</th>\n",
              "      <td>2</td>\n",
              "      <td>Un buen hotel con mucho ruido.</td>\n",
              "      <td>3</td>\n",
              "      <td>El hotel es moderno, amplio y limpio, pero no ...</td>\n",
              "      <td>Seville_Province_of_Seville_Andalucia</td>\n",
              "      <td>Hotel_Rey_Alfonso_X</td>\n",
              "      <td>3</td>\n",
              "    </tr>\n",
              "    <tr>\n",
              "      <th>3</th>\n",
              "      <td>3</td>\n",
              "      <td>SIN CALEFACCIÓN OPERATIVA Y CON FRÍO</td>\n",
              "      <td>2</td>\n",
              "      <td>Calefacción averiada o no operativa. Se coment...</td>\n",
              "      <td>Seville_Province_of_Seville_Andalucia</td>\n",
              "      <td>Melia_Sevilla</td>\n",
              "      <td>0</td>\n",
              "    </tr>\n",
              "    <tr>\n",
              "      <th>4</th>\n",
              "      <td>4</td>\n",
              "      <td>Deja bastante que desear.</td>\n",
              "      <td>2</td>\n",
              "      <td>Este hotel ha bajado notoriamente su categoria...</td>\n",
              "      <td>Seville_Province_of_Seville_Andalucia</td>\n",
              "      <td>Melia_Sevilla</td>\n",
              "      <td>0</td>\n",
              "    </tr>\n",
              "  </tbody>\n",
              "</table>\n",
              "</div>\n",
              "    <div class=\"colab-df-buttons\">\n",
              "\n",
              "  <div class=\"colab-df-container\">\n",
              "    <button class=\"colab-df-convert\" onclick=\"convertToInteractive('df-d2a66b2f-cb5a-40be-95ef-223aa96c7802')\"\n",
              "            title=\"Convert this dataframe to an interactive table.\"\n",
              "            style=\"display:none;\">\n",
              "\n",
              "  <svg xmlns=\"http://www.w3.org/2000/svg\" height=\"24px\" viewBox=\"0 -960 960 960\">\n",
              "    <path d=\"M120-120v-720h720v720H120Zm60-500h600v-160H180v160Zm220 220h160v-160H400v160Zm0 220h160v-160H400v160ZM180-400h160v-160H180v160Zm440 0h160v-160H620v160ZM180-180h160v-160H180v160Zm440 0h160v-160H620v160Z\"/>\n",
              "  </svg>\n",
              "    </button>\n",
              "\n",
              "  <style>\n",
              "    .colab-df-container {\n",
              "      display:flex;\n",
              "      gap: 12px;\n",
              "    }\n",
              "\n",
              "    .colab-df-convert {\n",
              "      background-color: #E8F0FE;\n",
              "      border: none;\n",
              "      border-radius: 50%;\n",
              "      cursor: pointer;\n",
              "      display: none;\n",
              "      fill: #1967D2;\n",
              "      height: 32px;\n",
              "      padding: 0 0 0 0;\n",
              "      width: 32px;\n",
              "    }\n",
              "\n",
              "    .colab-df-convert:hover {\n",
              "      background-color: #E2EBFA;\n",
              "      box-shadow: 0px 1px 2px rgba(60, 64, 67, 0.3), 0px 1px 3px 1px rgba(60, 64, 67, 0.15);\n",
              "      fill: #174EA6;\n",
              "    }\n",
              "\n",
              "    .colab-df-buttons div {\n",
              "      margin-bottom: 4px;\n",
              "    }\n",
              "\n",
              "    [theme=dark] .colab-df-convert {\n",
              "      background-color: #3B4455;\n",
              "      fill: #D2E3FC;\n",
              "    }\n",
              "\n",
              "    [theme=dark] .colab-df-convert:hover {\n",
              "      background-color: #434B5C;\n",
              "      box-shadow: 0px 1px 3px 1px rgba(0, 0, 0, 0.15);\n",
              "      filter: drop-shadow(0px 1px 2px rgba(0, 0, 0, 0.3));\n",
              "      fill: #FFFFFF;\n",
              "    }\n",
              "  </style>\n",
              "\n",
              "    <script>\n",
              "      const buttonEl =\n",
              "        document.querySelector('#df-d2a66b2f-cb5a-40be-95ef-223aa96c7802 button.colab-df-convert');\n",
              "      buttonEl.style.display =\n",
              "        google.colab.kernel.accessAllowed ? 'block' : 'none';\n",
              "\n",
              "      async function convertToInteractive(key) {\n",
              "        const element = document.querySelector('#df-d2a66b2f-cb5a-40be-95ef-223aa96c7802');\n",
              "        const dataTable =\n",
              "          await google.colab.kernel.invokeFunction('convertToInteractive',\n",
              "                                                    [key], {});\n",
              "        if (!dataTable) return;\n",
              "\n",
              "        const docLinkHtml = 'Like what you see? Visit the ' +\n",
              "          '<a target=\"_blank\" href=https://colab.research.google.com/notebooks/data_table.ipynb>data table notebook</a>'\n",
              "          + ' to learn more about interactive tables.';\n",
              "        element.innerHTML = '';\n",
              "        dataTable['output_type'] = 'display_data';\n",
              "        await google.colab.output.renderOutput(dataTable, element);\n",
              "        const docLink = document.createElement('div');\n",
              "        docLink.innerHTML = docLinkHtml;\n",
              "        element.appendChild(docLink);\n",
              "      }\n",
              "    </script>\n",
              "  </div>\n",
              "\n",
              "\n",
              "<div id=\"df-aaee6cfb-0fe5-4a6d-8067-b91b321379d3\">\n",
              "  <button class=\"colab-df-quickchart\" onclick=\"quickchart('df-aaee6cfb-0fe5-4a6d-8067-b91b321379d3')\"\n",
              "            title=\"Suggest charts\"\n",
              "            style=\"display:none;\">\n",
              "\n",
              "<svg xmlns=\"http://www.w3.org/2000/svg\" height=\"24px\"viewBox=\"0 0 24 24\"\n",
              "     width=\"24px\">\n",
              "    <g>\n",
              "        <path d=\"M19 3H5c-1.1 0-2 .9-2 2v14c0 1.1.9 2 2 2h14c1.1 0 2-.9 2-2V5c0-1.1-.9-2-2-2zM9 17H7v-7h2v7zm4 0h-2V7h2v10zm4 0h-2v-4h2v4z\"/>\n",
              "    </g>\n",
              "</svg>\n",
              "  </button>\n",
              "\n",
              "<style>\n",
              "  .colab-df-quickchart {\n",
              "      --bg-color: #E8F0FE;\n",
              "      --fill-color: #1967D2;\n",
              "      --hover-bg-color: #E2EBFA;\n",
              "      --hover-fill-color: #174EA6;\n",
              "      --disabled-fill-color: #AAA;\n",
              "      --disabled-bg-color: #DDD;\n",
              "  }\n",
              "\n",
              "  [theme=dark] .colab-df-quickchart {\n",
              "      --bg-color: #3B4455;\n",
              "      --fill-color: #D2E3FC;\n",
              "      --hover-bg-color: #434B5C;\n",
              "      --hover-fill-color: #FFFFFF;\n",
              "      --disabled-bg-color: #3B4455;\n",
              "      --disabled-fill-color: #666;\n",
              "  }\n",
              "\n",
              "  .colab-df-quickchart {\n",
              "    background-color: var(--bg-color);\n",
              "    border: none;\n",
              "    border-radius: 50%;\n",
              "    cursor: pointer;\n",
              "    display: none;\n",
              "    fill: var(--fill-color);\n",
              "    height: 32px;\n",
              "    padding: 0;\n",
              "    width: 32px;\n",
              "  }\n",
              "\n",
              "  .colab-df-quickchart:hover {\n",
              "    background-color: var(--hover-bg-color);\n",
              "    box-shadow: 0 1px 2px rgba(60, 64, 67, 0.3), 0 1px 3px 1px rgba(60, 64, 67, 0.15);\n",
              "    fill: var(--button-hover-fill-color);\n",
              "  }\n",
              "\n",
              "  .colab-df-quickchart-complete:disabled,\n",
              "  .colab-df-quickchart-complete:disabled:hover {\n",
              "    background-color: var(--disabled-bg-color);\n",
              "    fill: var(--disabled-fill-color);\n",
              "    box-shadow: none;\n",
              "  }\n",
              "\n",
              "  .colab-df-spinner {\n",
              "    border: 2px solid var(--fill-color);\n",
              "    border-color: transparent;\n",
              "    border-bottom-color: var(--fill-color);\n",
              "    animation:\n",
              "      spin 1s steps(1) infinite;\n",
              "  }\n",
              "\n",
              "  @keyframes spin {\n",
              "    0% {\n",
              "      border-color: transparent;\n",
              "      border-bottom-color: var(--fill-color);\n",
              "      border-left-color: var(--fill-color);\n",
              "    }\n",
              "    20% {\n",
              "      border-color: transparent;\n",
              "      border-left-color: var(--fill-color);\n",
              "      border-top-color: var(--fill-color);\n",
              "    }\n",
              "    30% {\n",
              "      border-color: transparent;\n",
              "      border-left-color: var(--fill-color);\n",
              "      border-top-color: var(--fill-color);\n",
              "      border-right-color: var(--fill-color);\n",
              "    }\n",
              "    40% {\n",
              "      border-color: transparent;\n",
              "      border-right-color: var(--fill-color);\n",
              "      border-top-color: var(--fill-color);\n",
              "    }\n",
              "    60% {\n",
              "      border-color: transparent;\n",
              "      border-right-color: var(--fill-color);\n",
              "    }\n",
              "    80% {\n",
              "      border-color: transparent;\n",
              "      border-right-color: var(--fill-color);\n",
              "      border-bottom-color: var(--fill-color);\n",
              "    }\n",
              "    90% {\n",
              "      border-color: transparent;\n",
              "      border-bottom-color: var(--fill-color);\n",
              "    }\n",
              "  }\n",
              "</style>\n",
              "\n",
              "  <script>\n",
              "    async function quickchart(key) {\n",
              "      const quickchartButtonEl =\n",
              "        document.querySelector('#' + key + ' button');\n",
              "      quickchartButtonEl.disabled = true;  // To prevent multiple clicks.\n",
              "      quickchartButtonEl.classList.add('colab-df-spinner');\n",
              "      try {\n",
              "        const charts = await google.colab.kernel.invokeFunction(\n",
              "            'suggestCharts', [key], {});\n",
              "      } catch (error) {\n",
              "        console.error('Error during call to suggestCharts:', error);\n",
              "      }\n",
              "      quickchartButtonEl.classList.remove('colab-df-spinner');\n",
              "      quickchartButtonEl.classList.add('colab-df-quickchart-complete');\n",
              "    }\n",
              "    (() => {\n",
              "      let quickchartButtonEl =\n",
              "        document.querySelector('#df-aaee6cfb-0fe5-4a6d-8067-b91b321379d3 button');\n",
              "      quickchartButtonEl.style.display =\n",
              "        google.colab.kernel.accessAllowed ? 'block' : 'none';\n",
              "    })();\n",
              "  </script>\n",
              "</div>\n",
              "\n",
              "    </div>\n",
              "  </div>\n"
            ],
            "application/vnd.google.colaboratory.intrinsic+json": {
              "type": "dataframe",
              "summary": "{\n  \"name\": \"display(df\",\n  \"rows\": 5,\n  \"fields\": [\n    {\n      \"column\": \"Unnamed: 0\",\n      \"properties\": {\n        \"dtype\": \"number\",\n        \"std\": 1,\n        \"min\": 0,\n        \"max\": 4,\n        \"num_unique_values\": 5,\n        \"samples\": [\n          1,\n          4,\n          2\n        ],\n        \"semantic_type\": \"\",\n        \"description\": \"\"\n      }\n    },\n    {\n      \"column\": \"title\",\n      \"properties\": {\n        \"dtype\": \"string\",\n        \"num_unique_values\": 5,\n        \"samples\": [\n          \"No es oro todo lo que reluce\",\n          \"Deja bastante que desear.\",\n          \"Un buen hotel con mucho ruido.\"\n        ],\n        \"semantic_type\": \"\",\n        \"description\": \"\"\n      }\n    },\n    {\n      \"column\": \"rating\",\n      \"properties\": {\n        \"dtype\": \"number\",\n        \"std\": 0,\n        \"min\": 2,\n        \"max\": 3,\n        \"num_unique_values\": 2,\n        \"samples\": [\n          3,\n          2\n        ],\n        \"semantic_type\": \"\",\n        \"description\": \"\"\n      }\n    },\n    {\n      \"column\": \"review_text\",\n      \"properties\": {\n        \"dtype\": \"string\",\n        \"num_unique_values\": 5,\n        \"samples\": [\n          \"El hotel en general est\\u00e1 bien, las habtiaciones son espaciosas y el personal es muy amable (sobretodo el encargado del roof-top y la piscina) y la zona de la piscina es curiosa. Pero tiene dos grandes fallos: El primero es que el wifi no llegaba bien a la habitaci\\u00f3n ya que se cortaba continuamente. El segundo fallo es que no se les ocurre otra cosa que poner un edred\\u00f3n n\\u00f3rdico en vez de una s\\u00e1bana fina en pleno agosto en Sevilla.\",\n          \"Este hotel ha bajado notoriamente su categoria. Sus habitaciones son bastante hostiles y el Room service es pesimo. No ponen amenities en el ba\\u00f1o y las toallas son viejas. La ducha no tiene presion. Deberian de preocuparse un poco mas por dar mejor servicio\"\n        ],\n        \"semantic_type\": \"\",\n        \"description\": \"\"\n      }\n    },\n    {\n      \"column\": \"location\",\n      \"properties\": {\n        \"dtype\": \"category\",\n        \"num_unique_values\": 1,\n        \"samples\": [\n          \"Seville_Province_of_Seville_Andalucia\"\n        ],\n        \"semantic_type\": \"\",\n        \"description\": \"\"\n      }\n    },\n    {\n      \"column\": \"hotel\",\n      \"properties\": {\n        \"dtype\": \"category\",\n        \"num_unique_values\": 2,\n        \"samples\": [\n          \"Melia_Sevilla\"\n        ],\n        \"semantic_type\": \"\",\n        \"description\": \"\"\n      }\n    },\n    {\n      \"column\": \"label\",\n      \"properties\": {\n        \"dtype\": \"number\",\n        \"std\": 1,\n        \"min\": 0,\n        \"max\": 3,\n        \"num_unique_values\": 2,\n        \"samples\": [\n          3\n        ],\n        \"semantic_type\": \"\",\n        \"description\": \"\"\n      }\n    }\n  ]\n}"
            }
          },
          "metadata": {}
        }
      ],
      "source": [
        "#TEST_CELL\n",
        "df = pd.read_csv(\"Balanced_AHR.csv\")\n",
        "display(df.head())"
      ]
    },
    {
      "cell_type": "markdown",
      "id": "3c50d6c3",
      "metadata": {
        "id": "3c50d6c3"
      },
      "source": [
        "Este conjunto de datos contiene 6 columnas:\n",
        "\n",
        "- `title`: el título de la reseña.\n",
        "- `rating`: la calificación que el usuario otorga a los alojamientos en una escala de 5 estrellas.\n",
        "- `review_text`: el texto de la reseña.\n",
        "- `location`: el reconocimiento a la ciudad y la región del hotel.\n",
        "- `hotel`: el título del hotel.\n",
        "- `label`: la etiqueta para la clasificación binaria. NOTA: Todas las reseñas neutrales (calificación de 3*) se etiquetan con un «3» y deben eliminarse para realizar la clasificación binaria.\n",
        "\n",
        "Este corpus está conformado por `7615` reseñas."
      ]
    },
    {
      "cell_type": "code",
      "execution_count": null,
      "id": "2f6546f1",
      "metadata": {
        "colab": {
          "base_uri": "https://localhost:8080/",
          "height": 35
        },
        "id": "2f6546f1",
        "outputId": "276f62af-2fdf-4bfe-d201-01f5f21a59af"
      },
      "outputs": [
        {
          "output_type": "display_data",
          "data": {
            "text/plain": [
              "(7615, 7)"
            ]
          },
          "metadata": {}
        }
      ],
      "source": [
        "#TEST_CELL\n",
        "display(df.shape)"
      ]
    },
    {
      "cell_type": "markdown",
      "id": "23c237a8",
      "metadata": {
        "id": "23c237a8"
      },
      "source": [
        "## **1. Reconocimiento de Patrones en el Texto de las Reseñas**\n",
        "---\n",
        "\n",
        "En este punto, deberá extraer patrones específicos del texto de las reseñas de hoteles respecto a servicios que estos tienen.\n",
        "\n",
        "Por ejemplo, la siguiente reseña:\n",
        "\n",
        "\"El hotel tiene una piscina estupenda y el desayuno es excelente.\"\n",
        "\n",
        "Contiene los siguientes elementos:\n",
        "\n",
        "- Mención de servicio: `piscina`\n",
        "- Mención de servicio: `desayuno`\n",
        "\n",
        "Para esto, debe implementar la función `extract_patterns` la cual deberá aplicar un patrón de expresión regular el cual pueda ser utilizado para identificar los servicios que se ofrecen.\n",
        "\n",
        "- Piscina\n",
        "- Desayuno\n",
        "- Almuerzo\n",
        "- Cena\n",
        "- Wi-fi\n",
        "- Gimnasio\n",
        "- Lavandería\n",
        "- Sauna\n",
        "\n",
        "Tenga en cuenta que las palabras pueden tener mayúsculas, tildes y guiones,\n",
        "\n",
        "**Parámetros**\n",
        "\n",
        "Esta función no tiene parámetros.\n",
        "\n",
        "**Retorna**\n",
        "\n",
        "- `pat`: Expresión regular que ayuda a identificar los servicios."
      ]
    },
    {
      "cell_type": "markdown",
      "id": "7948c572",
      "metadata": {
        "id": "7948c572"
      },
      "source": [
        "<details>    \n",
        "<summary>\n",
        "    <font size=\"3\" color=\"darkgreen\"><b>Pistas</b></font>\n",
        "</summary>\n",
        "\n",
        "- Recuerde que los grupos nombrados dentro de expresiones regulares en _Python_ se definen siguiendo la notación `(?P<tag>regex)` donde `tag` es el nombre del grupo y `regex` es la expresión regular que describe el grupo.\n",
        "- Se recomienda usar cuantificadores como `+` para detectar secuencias de longitud mayor a 1 en los identificadores de cada grupo.\n",
        "- Se recomienda revisar el identificador `\\w`, ya que las URL normalmente usan caracteres alfanuméricos para representar algunas partes.\n",
        "</details>"
      ]
    },
    {
      "cell_type": "code",
      "execution_count": null,
      "id": "9bbb7d27",
      "metadata": {
        "lines_to_next_cell": 1,
        "id": "9bbb7d27"
      },
      "outputs": [],
      "source": [
        "# FUNCIÓN CALIFICADA extract_patterns:\n",
        "\n",
        "def extract_patterns():\n",
        "    ### ESCRIBA SU CÓDIGO AQUÍ ###\n",
        "    regex = \"\"\n",
        "    pat = re.compile(regex)\n",
        "    return pat\n",
        "    ### FIN DEL CÓDIGO ###"
      ]
    },
    {
      "cell_type": "code",
      "execution_count": null,
      "id": "9021cad2",
      "metadata": {
        "colab": {
          "base_uri": "https://localhost:8080/",
          "height": 35
        },
        "id": "9021cad2",
        "outputId": "68d359f7-0fe9-4539-8ab7-53882479bd54"
      },
      "outputs": [
        {
          "output_type": "display_data",
          "data": {
            "text/plain": [
              "['piscina', 'piscina', 'wifi']"
            ]
          },
          "metadata": {}
        }
      ],
      "source": [
        "#TEST_CELL\n",
        "pat = extract_patterns()\n",
        "matches = df['review_text'].str.findall(pat)\n",
        "display(matches[1])"
      ]
    },
    {
      "cell_type": "markdown",
      "id": "ca183617",
      "metadata": {
        "id": "ca183617"
      },
      "source": [
        "**Salida esperada**:\n",
        "\n",
        "```python\n",
        "❱ display(matches[1])\n",
        "['piscina', 'piscina', 'wifi']\n",
        "```"
      ]
    },
    {
      "cell_type": "code",
      "execution_count": null,
      "id": "06759bac",
      "metadata": {
        "lines_to_next_cell": 1,
        "colab": {
          "base_uri": "https://localhost:8080/",
          "height": 35
        },
        "id": "06759bac",
        "outputId": "dffeae0d-34b6-4505-8ec8-dee8216148d7"
      },
      "outputs": [
        {
          "output_type": "display_data",
          "data": {
            "text/plain": [
              "['piscina', 'Wi-Fi', 'piscina']"
            ]
          },
          "metadata": {}
        }
      ],
      "source": [
        "#TEST_CELL\n",
        "pat = extract_patterns()\n",
        "matches = df['review_text'].str.findall(pat)\n",
        "display(matches[4712])"
      ]
    },
    {
      "cell_type": "markdown",
      "id": "c4e5b8a3",
      "metadata": {
        "id": "c4e5b8a3"
      },
      "source": [
        "**Salida esperada**:\n",
        "\n",
        "```python\n",
        "❱ display(matches[4712])\n",
        "['piscina', 'Wi-Fi', 'piscina']\n",
        "```"
      ]
    },
    {
      "cell_type": "code",
      "execution_count": null,
      "metadata": {
        "lines_to_next_cell": 1,
        "colab": {
          "base_uri": "https://localhost:8080/",
          "height": 35
        },
        "outputId": "c9977b95-531e-402a-ef3d-91ec9249ff8a",
        "id": "mz3RNidbabDD"
      },
      "outputs": [
        {
          "output_type": "display_data",
          "data": {
            "text/plain": [
              "['lavanderia']"
            ]
          },
          "metadata": {}
        }
      ],
      "source": [
        "#TEST_CELL\n",
        "pat = extract_patterns()\n",
        "matches = df['review_text'].str.findall(pat)\n",
        "display(matches[1066])"
      ],
      "id": "mz3RNidbabDD"
    },
    {
      "cell_type": "markdown",
      "metadata": {
        "id": "Af9utW7IabDD"
      },
      "source": [
        "**Salida esperada**:\n",
        "\n",
        "```python\n",
        "❱ display(matches[1066])\n",
        "['lavanderia']\n",
        "```"
      ],
      "id": "Af9utW7IabDD"
    },
    {
      "cell_type": "code",
      "source": [
        "#TEST_CELL\n",
        "pat = extract_patterns()\n",
        "matches = df['review_text'].str.findall(pat)\n",
        "display(matches[3197])"
      ],
      "metadata": {
        "colab": {
          "base_uri": "https://localhost:8080/",
          "height": 35
        },
        "id": "jSiRiaKKajaQ",
        "outputId": "6b091ad3-7a56-4094-fbcf-54f72e50c025"
      },
      "id": "jSiRiaKKajaQ",
      "execution_count": null,
      "outputs": [
        {
          "output_type": "display_data",
          "data": {
            "text/plain": [
              "['desayuno', 'desayuno', 'lavandería']"
            ]
          },
          "metadata": {}
        }
      ]
    },
    {
      "cell_type": "markdown",
      "metadata": {
        "id": "_2MngIV9apHw"
      },
      "source": [
        "**Salida esperada**:\n",
        "\n",
        "```python\n",
        "❱ display(matches[3197])\n",
        "['desayuno', 'desayuno', 'lavandería']\n",
        "```"
      ],
      "id": "_2MngIV9apHw"
    },
    {
      "cell_type": "markdown",
      "id": "9a02a406",
      "metadata": {
        "id": "9a02a406"
      },
      "source": [
        "## **2. Selección de Categorías con Patrón**\n",
        "---\n",
        "\n",
        "En este punto deberá seleccionar todos los registros del _DataFrame_ donde la columna `hotel` corresponda con determinado patrón de entrada.\n",
        "\n",
        "Para esto debe implementar la función `filter_hotel`, la cual recibirá el conjunto de datos y una expresión regular sobre la que debe filtrar.\n",
        "\n",
        "**Parámetros**\n",
        "\n",
        "- `df`: conjunto de datos en formato `pd.DataFrame`.\n",
        "- `pat`: expresión regular sobre la que se debe filtrar.\n",
        "\n",
        "**Retorna**\n",
        "\n",
        "- `filtered_df`: `DataFrame` resultante del filtro por patrón de búsqueda."
      ]
    },
    {
      "cell_type": "markdown",
      "id": "edce63ad",
      "metadata": {
        "id": "edce63ad"
      },
      "source": [
        "<details>    \n",
        "<summary>\n",
        "    <font size=\"3\" color=\"darkgreen\"><b>Pistas</b></font>\n",
        "</summary>\n",
        "\n",
        "- Recuerde que las `Series` de `pandas` contienen el método `str.contains`, este método le permitirá aplicar una expresión regular directamente.\n",
        "- Puede usar el método `apply` de `pandas` para validar elemento a elemento si hay un match de la expresión regular.\n",
        "</details>"
      ]
    },
    {
      "cell_type": "code",
      "execution_count": null,
      "id": "efe3c66a",
      "metadata": {
        "lines_to_next_cell": 1,
        "id": "efe3c66a"
      },
      "outputs": [],
      "source": [
        "# FUNCIÓN CALIFICADA filter_type:\n",
        "\n",
        "def filter_hotel(df, pat):\n",
        "    ### ESCRIBA SU CÓDIGO AQUÍ ###\n",
        "    filtered_df = pd.DataFrame({})\n",
        "    return filtered_df\n",
        "    ### FIN DEL CÓDIGO ###"
      ]
    },
    {
      "cell_type": "code",
      "execution_count": null,
      "id": "ecb5c6aa",
      "metadata": {
        "colab": {
          "base_uri": "https://localhost:8080/",
          "height": 489
        },
        "id": "ecb5c6aa",
        "outputId": "5c246cb9-2577-44d8-d723-d44e4c9f1f68"
      },
      "outputs": [
        {
          "output_type": "display_data",
          "data": {
            "text/plain": [
              "hotel\n",
              "Apartamentos_Torre_de_la_Plata               32\n",
              "Apartamentos_Murillo                         31\n",
              "Alcoba_del_Rey_de_Sevilla_Boutique_Hotel     30\n",
              "Abades_Nevada_Palace                         30\n",
              "Ayre_Hotel_Sevilla                           25\n",
              "                                             ..\n",
              "Apartamentos_Cordoba_Atrium                   2\n",
              "Apartamentos_Vacacionales_Real_de_Cartuja     1\n",
              "Ab_Apartamentos_Museum                        1\n",
              "Apartamentos_Alhambra                         1\n",
              "Arte_Vida_Suites_Spa                          1\n",
              "Name: count, Length: 62, dtype: int64"
            ],
            "text/html": [
              "<div>\n",
              "<style scoped>\n",
              "    .dataframe tbody tr th:only-of-type {\n",
              "        vertical-align: middle;\n",
              "    }\n",
              "\n",
              "    .dataframe tbody tr th {\n",
              "        vertical-align: top;\n",
              "    }\n",
              "\n",
              "    .dataframe thead th {\n",
              "        text-align: right;\n",
              "    }\n",
              "</style>\n",
              "<table border=\"1\" class=\"dataframe\">\n",
              "  <thead>\n",
              "    <tr style=\"text-align: right;\">\n",
              "      <th></th>\n",
              "      <th>count</th>\n",
              "    </tr>\n",
              "    <tr>\n",
              "      <th>hotel</th>\n",
              "      <th></th>\n",
              "    </tr>\n",
              "  </thead>\n",
              "  <tbody>\n",
              "    <tr>\n",
              "      <th>Apartamentos_Torre_de_la_Plata</th>\n",
              "      <td>32</td>\n",
              "    </tr>\n",
              "    <tr>\n",
              "      <th>Apartamentos_Murillo</th>\n",
              "      <td>31</td>\n",
              "    </tr>\n",
              "    <tr>\n",
              "      <th>Alcoba_del_Rey_de_Sevilla_Boutique_Hotel</th>\n",
              "      <td>30</td>\n",
              "    </tr>\n",
              "    <tr>\n",
              "      <th>Abades_Nevada_Palace</th>\n",
              "      <td>30</td>\n",
              "    </tr>\n",
              "    <tr>\n",
              "      <th>Ayre_Hotel_Sevilla</th>\n",
              "      <td>25</td>\n",
              "    </tr>\n",
              "    <tr>\n",
              "      <th>...</th>\n",
              "      <td>...</td>\n",
              "    </tr>\n",
              "    <tr>\n",
              "      <th>Apartamentos_Cordoba_Atrium</th>\n",
              "      <td>2</td>\n",
              "    </tr>\n",
              "    <tr>\n",
              "      <th>Apartamentos_Vacacionales_Real_de_Cartuja</th>\n",
              "      <td>1</td>\n",
              "    </tr>\n",
              "    <tr>\n",
              "      <th>Ab_Apartamentos_Museum</th>\n",
              "      <td>1</td>\n",
              "    </tr>\n",
              "    <tr>\n",
              "      <th>Apartamentos_Alhambra</th>\n",
              "      <td>1</td>\n",
              "    </tr>\n",
              "    <tr>\n",
              "      <th>Arte_Vida_Suites_Spa</th>\n",
              "      <td>1</td>\n",
              "    </tr>\n",
              "  </tbody>\n",
              "</table>\n",
              "<p>62 rows × 1 columns</p>\n",
              "</div><br><label><b>dtype:</b> int64</label>"
            ]
          },
          "metadata": {}
        }
      ],
      "source": [
        "#TEST_CELL\n",
        "pat = re.compile(r\"^[A].*$\")\n",
        "filtered_df = filter_hotel(df, pat)\n",
        "display(filtered_df.hotel.value_counts())"
      ]
    },
    {
      "cell_type": "markdown",
      "id": "3ed0fd33",
      "metadata": {
        "id": "3ed0fd33"
      },
      "source": [
        "**Salida esperada**\n",
        "\n",
        "Este caso de prueba debería extraer todos los casos donde `hotel` comienza por una `\"A\"` mayúscula y luego tiene cualquier secuencia de letras.\n",
        "\n",
        "```python\n",
        "❱ display(filtered_df.Type.value_counts())\n",
        "\n",
        "```\n",
        "|hotel|count|\n",
        "---|---|\n",
        "|Apartamentos_Torre_de_la_Plata|\t32|\n",
        "|Apartamentos_Murillo|\t31|\n",
        "|Alcoba_del_Rey_de_Sevilla_Boutique_Hotel|\t30|\n",
        "|Abades_Nevada_Palace\t|30|\n",
        "|Ayre_Hotel_Sevilla|\t25|\n",
        "|...\t|...|\n",
        "|Apartamentos_Cordoba_Atrium|\t2|\n",
        "|Apartamentos_Vacacionales_Real_de_Cartuja|\t1|\n",
        "|Ab_Apartamentos_Museum\t|1|\n",
        "|Apartamentos_Alhambra\t|1|\n",
        "|Arte_Vida_Suites_Spa\t|1|\n",
        "\n",
        "62 rows × 1 columns\n",
        "\n",
        "\n",
        "\n",
        "dtype: int64"
      ]
    },
    {
      "cell_type": "code",
      "execution_count": null,
      "id": "8ee869af",
      "metadata": {
        "lines_to_next_cell": 1,
        "colab": {
          "base_uri": "https://localhost:8080/",
          "height": 366
        },
        "id": "8ee869af",
        "outputId": "f0e373bb-d76e-49bb-8bda-d2bd405414c0"
      },
      "outputs": [
        {
          "output_type": "display_data",
          "data": {
            "text/plain": [
              "hotel\n",
              "Hotel_Casa_de_Colon                                  29\n",
              "Pension_Cristobal_Colon                              16\n",
              "Hotel_Boston                                         13\n",
              "Hotel_Simon                                          12\n",
              "Hostal_Estacion                                       9\n",
              "Hotel_Palacio_De_Santa_Paula_Autograph_Collection     5\n",
              "B_B_Hotel_Granada_Estacion                            4\n",
              "Ohtels_San_Anton                                      4\n",
              "Name: count, dtype: int64"
            ],
            "text/html": [
              "<div>\n",
              "<style scoped>\n",
              "    .dataframe tbody tr th:only-of-type {\n",
              "        vertical-align: middle;\n",
              "    }\n",
              "\n",
              "    .dataframe tbody tr th {\n",
              "        vertical-align: top;\n",
              "    }\n",
              "\n",
              "    .dataframe thead th {\n",
              "        text-align: right;\n",
              "    }\n",
              "</style>\n",
              "<table border=\"1\" class=\"dataframe\">\n",
              "  <thead>\n",
              "    <tr style=\"text-align: right;\">\n",
              "      <th></th>\n",
              "      <th>count</th>\n",
              "    </tr>\n",
              "    <tr>\n",
              "      <th>hotel</th>\n",
              "      <th></th>\n",
              "    </tr>\n",
              "  </thead>\n",
              "  <tbody>\n",
              "    <tr>\n",
              "      <th>Hotel_Casa_de_Colon</th>\n",
              "      <td>29</td>\n",
              "    </tr>\n",
              "    <tr>\n",
              "      <th>Pension_Cristobal_Colon</th>\n",
              "      <td>16</td>\n",
              "    </tr>\n",
              "    <tr>\n",
              "      <th>Hotel_Boston</th>\n",
              "      <td>13</td>\n",
              "    </tr>\n",
              "    <tr>\n",
              "      <th>Hotel_Simon</th>\n",
              "      <td>12</td>\n",
              "    </tr>\n",
              "    <tr>\n",
              "      <th>Hostal_Estacion</th>\n",
              "      <td>9</td>\n",
              "    </tr>\n",
              "    <tr>\n",
              "      <th>Hotel_Palacio_De_Santa_Paula_Autograph_Collection</th>\n",
              "      <td>5</td>\n",
              "    </tr>\n",
              "    <tr>\n",
              "      <th>B_B_Hotel_Granada_Estacion</th>\n",
              "      <td>4</td>\n",
              "    </tr>\n",
              "    <tr>\n",
              "      <th>Ohtels_San_Anton</th>\n",
              "      <td>4</td>\n",
              "    </tr>\n",
              "  </tbody>\n",
              "</table>\n",
              "</div><br><label><b>dtype:</b> int64</label>"
            ]
          },
          "metadata": {}
        }
      ],
      "source": [
        "#TEST_CELL\n",
        "pat = re.compile(r\"^.*on$\")\n",
        "filtered_df = filter_hotel(df, pat)\n",
        "display(filtered_df.hotel.value_counts())"
      ]
    },
    {
      "cell_type": "markdown",
      "id": "c303c5a3",
      "metadata": {
        "id": "c303c5a3"
      },
      "source": [
        "**Salida esperada**\n",
        "\n",
        "Este caso de prueba debería extraer todos los casos donde `hotel` termine por la secuencia `\"on\"`.\n",
        "\n",
        "```python\n",
        "❱ display(filtered_df.Type.value_counts())\n",
        "```\n",
        "\n",
        "|hotel | count\t|\n",
        "|----|----|\n",
        "|Hotel_Casa_de_Colon|\t29|\n",
        "|Pension_Cristobal_Colon\t|16|\n",
        "|Hotel_Boston\t|13|\n",
        "|Hotel_Simon|\t12|\n",
        "|Hostal_Estacion\t|9|\n",
        "|Hotel_Palacio_De_Santa_Paula_Autograph_Collection|\t5|\n",
        "|B_B_Hotel_Granada_Estacion|\t4|\n",
        "|Ohtels_San_Anton|\t4|\n",
        "\n",
        "\n"
      ]
    },
    {
      "cell_type": "markdown",
      "id": "35664d80",
      "metadata": {
        "id": "35664d80"
      },
      "source": [
        "## **3. Documentos de spaCy**\n",
        "---\n",
        "\n",
        "En este punto, deberá convertir el corpus de reseñas en una lista de documentos de spaCy. Para ello, debe implementar la función `to_spacy` para extraer el texto de la columna `review_text` del DataFrame dado y convertirlo a objetos tipo `Doc` usando un pipeline dado.\n",
        "\n",
        "**Parámetros**\n",
        "\n",
        "- `df`: conjunto de datos.\n",
        "- `nlp`: _pipeline_ de `spacy`.\n",
        "\n",
        "**Retorna**\n",
        "\n",
        "- `corpus`: lista de documentos de `spacy`"
      ]
    },
    {
      "cell_type": "markdown",
      "id": "32556898",
      "metadata": {
        "id": "32556898"
      },
      "source": [
        "<details>    \n",
        "<summary>\n",
        "    <font size=\"3\" color=\"darkgreen\"><b>Pistas</b></font>\n",
        "</summary>\n",
        "\n",
        "- Puede usar el método `pipe` para pasar una lista de textos a un _pipeline_ y convertir masivamente varios resultados a `Doc` de `spacy`. Tenga en cuenta que debe convertir el resultado a una lista de _Python_.\n",
        "- Puede usar el objeto `nlp` como una función para convertir un texto individual a un `Doc`, de esta forma, debe iterar sobre todo el corpus.\n",
        "</details>"
      ]
    },
    {
      "cell_type": "code",
      "execution_count": null,
      "id": "bfe15a8d",
      "metadata": {
        "lines_to_next_cell": 1,
        "id": "bfe15a8d"
      },
      "outputs": [],
      "source": [
        "# FUNCIÓN CALIFICADA to_spacy:\n",
        "\n",
        "def to_spacy(df, nlp):\n",
        "    ### ESCRIBA SU CÓDIGO AQUÍ ###\n",
        "    corpus = []\n",
        "    return corpus\n",
        "    ### FIN DEL CÓDIGO ###"
      ]
    },
    {
      "cell_type": "code",
      "execution_count": null,
      "id": "88493b60",
      "metadata": {
        "colab": {
          "base_uri": "https://localhost:8080/"
        },
        "id": "88493b60",
        "outputId": "6f3006bc-2449-4703-d800-e98f70cc89c3"
      },
      "outputs": [
        {
          "output_type": "stream",
          "name": "stdout",
          "text": [
            "\u001b[38;5;2m✔ Download and installation successful\u001b[0m\n",
            "You can now load the package via spacy.load('es_core_news_sm')\n",
            "\u001b[38;5;3m⚠ Restart to reload dependencies\u001b[0m\n",
            "If you are in a Jupyter or Colab notebook, you may need to restart Python in\n",
            "order to load all the package's dependencies. You can do this by selecting the\n",
            "'Restart kernel' or 'Restart runtime' option.\n"
          ]
        }
      ],
      "source": [
        "#TEST_CELL\n",
        "import spacy\n",
        "spacy.cli.download(\"es_core_news_sm\")\n",
        "nlp = spacy.load(\"es_core_news_sm\")"
      ]
    },
    {
      "cell_type": "code",
      "execution_count": null,
      "id": "245ecb2a",
      "metadata": {
        "lines_to_next_cell": 1,
        "colab": {
          "base_uri": "https://localhost:8080/",
          "height": 54
        },
        "id": "245ecb2a",
        "outputId": "fc94e884-bd76-4fdc-b5e5-5c423d621364"
      },
      "outputs": [
        {
          "output_type": "display_data",
          "data": {
            "text/plain": [
              "list"
            ]
          },
          "metadata": {}
        },
        {
          "output_type": "display_data",
          "data": {
            "text/plain": [
              "spacy.tokens.doc.Doc"
            ]
          },
          "metadata": {}
        }
      ],
      "source": [
        "#TEST_CELL\n",
        "corpus = to_spacy(df.head(20), nlp)\n",
        "display(type(corpus))\n",
        "display(type(corpus[0]))"
      ]
    },
    {
      "cell_type": "markdown",
      "id": "02bd4b77",
      "metadata": {
        "id": "02bd4b77"
      },
      "source": [
        "**Salida esperada**\n",
        "\n",
        "Este caso de prueba debe convertir los primeros 20 documentos del corpus a objetos de `spacy`.\n",
        "\n",
        "```python\n",
        "❱ display(type(corpus))\n",
        "list\n",
        "\n",
        "❱ display(type(corpus[0]))\n",
        "spacy.tokens.doc.Doc\n",
        "```"
      ]
    },
    {
      "cell_type": "markdown",
      "id": "879194e8",
      "metadata": {
        "id": "879194e8"
      },
      "source": [
        "## **4. Recuento de Stop Words**\n",
        "---\n",
        "\n",
        "En este punto, deberá implementar una función que permita contar el número de _stopwords_ por cada documento (de `spacy`). Para ello, debe implementar la función `stopword_count` para obtener los conteos de _stopwords_ a partir de una lista de documentos de `spacy`.\n",
        "\n",
        "**Parámetros**\n",
        "---\n",
        "\n",
        "- `corpus`: lista de documentos de `spacy`.\n",
        "\n",
        "**Retorna**\n",
        "\n",
        "- `counts`: lista de conteos de _stopwords_ por documento."
      ]
    },
    {
      "cell_type": "markdown",
      "id": "04adc5bb",
      "metadata": {
        "id": "04adc5bb"
      },
      "source": [
        "<details>    \n",
        "<summary>\n",
        "    <font size=\"3\" color=\"darkgreen\"><b>Pistas</b></font>\n",
        "</summary>\n",
        "\n",
        "- Recuerde que cada `Token` en `spacy` contiene el atributo `is_stop` que determina si el elemento es una _stopword_.\n",
        "- Puede recorrer todos los tokens de un documento de `spacy` al iterar sobre el mismo, y sumar los valores de `token.is_stop`.\n",
        "</details>"
      ]
    },
    {
      "cell_type": "code",
      "execution_count": null,
      "id": "36774065",
      "metadata": {
        "lines_to_next_cell": 1,
        "id": "36774065"
      },
      "outputs": [],
      "source": [
        "# FUNCIÓN CALIFICADA stopword_count:\n",
        "\n",
        "def stopword_count(corpus):\n",
        "    ### ESCRIBA SU CÓDIGO AQUÍ ###\n",
        "    counts = []\n",
        "    return counts\n",
        "    ### FIN DEL CÓDIGO ###"
      ]
    },
    {
      "cell_type": "code",
      "execution_count": null,
      "id": "a49535a2",
      "metadata": {
        "colab": {
          "base_uri": "https://localhost:8080/",
          "height": 35
        },
        "id": "a49535a2",
        "outputId": "23e4af66-3dd8-44ff-f9fd-e1b972854799"
      },
      "outputs": [
        {
          "output_type": "display_data",
          "data": {
            "text/plain": [
              "[96, 52, 26, 21, 25, 29, 79, 80, 41, 48]"
            ]
          },
          "metadata": {}
        }
      ],
      "source": [
        "#TEST_CELL\n",
        "nlp = spacy.load(\n",
        "        \"es_core_news_sm\",\n",
        "        exclude=[\n",
        "            \"ner\", \"tok2vec\", \"senter\", \"morphologizer\",\n",
        "            \"parser\", \"attribute_ruler\", \"lemmatizer\"]\n",
        "        )\n",
        "corpus = to_spacy(df, nlp)\n",
        "counts = stopword_count(corpus)\n",
        "display(counts[:10])"
      ]
    },
    {
      "cell_type": "markdown",
      "id": "5251d784",
      "metadata": {
        "id": "5251d784"
      },
      "source": [
        "**Salida esperada**\n",
        "\n",
        "Este caso de prueba debe obtener los conteos de _stopwords_ para los primeros 10 documentos del corpus.\n",
        "\n",
        "```python\n",
        "❱ display(counts[:10])\n",
        "[96, 52, 26, 21, 25, 29, 79, 80, 41, 48]\n",
        "```"
      ]
    },
    {
      "cell_type": "code",
      "execution_count": null,
      "id": "81747429",
      "metadata": {
        "lines_to_next_cell": 1,
        "colab": {
          "base_uri": "https://localhost:8080/",
          "height": 454
        },
        "id": "81747429",
        "outputId": "727fbb86-fe4f-4bbc-f242-a61df5b657db"
      },
      "outputs": [
        {
          "output_type": "display_data",
          "data": {
            "text/plain": [
              "<Figure size 640x480 with 1 Axes>"
            ],
            "image/png": "[encoded data removed]"
          },
          "metadata": {}
        }
      ],
      "source": [
        "#TEST_CELL\n",
        "fig, ax = plt.subplots()\n",
        "sns.histplot(counts, kde=True, ax=ax)\n",
        "ax.set_xlabel(\"Número de stopwords\")\n",
        "ax.set_ylabel(\"Conteo\")\n",
        "fig.show()"
      ]
    },
    {
      "cell_type": "markdown",
      "id": "7aa2ecb3",
      "metadata": {
        "id": "7aa2ecb3"
      },
      "source": [
        "**Salida esperada**\n",
        "\n",
        "Este caso de prueba debe generar un histograma de la distribución de stopwords en todos los documentos."
      ]
    },
    {
      "cell_type": "markdown",
      "id": "1c411bbd",
      "metadata": {
        "id": "1c411bbd"
      },
      "source": [
        "## **5. Extracción de Palabras por etiquetas POS**\n",
        "---\n",
        "\n",
        "En este punto, deberá implementar una función que permita extraer las palabras de un texto que tengan etiquetas de tipo POS de grano grueso dentro de una lista de posibles valores.\n",
        "\n",
        "Para ello deberá implementar la función `get_pos_words` la cual recibe una lista de documentos de `spacy` y debe retornar una lista de strings con las palabras filtradas y concatenadas por cada documento.\n",
        "\n",
        "**Parámetros**\n",
        "---\n",
        "\n",
        "- `corpus`: lista de documentos de `spacy`.\n",
        "- `pos_list`: lista de etiquetas POS a filtrar.\n",
        "\n",
        "**Retorna**\n",
        "\n",
        "- `filtered_pos`: lista strings con el filtro por etiquetas POS."
      ]
    },
    {
      "cell_type": "markdown",
      "id": "250543a1",
      "metadata": {
        "id": "250543a1"
      },
      "source": [
        "<details>    \n",
        "<summary>\n",
        "    <font size=\"3\" color=\"darkgreen\"><b>Pistas</b></font>\n",
        "</summary>\n",
        "\n",
        "- Recuerde que puede acceder a una etiqueta de tipo _POS_ con el atributo `pos_` de un `Token` de `spacy`.\n",
        "- Es importante que el resultado por cada documento sea un string y no una lista de tokens de `spacy`, puede usar el método `join` de los strings en _Python_ y el atributo `text` de los tokens de `spacy`.\n",
        "</details>"
      ]
    },
    {
      "cell_type": "code",
      "execution_count": null,
      "id": "424dff2d",
      "metadata": {
        "lines_to_next_cell": 1,
        "id": "424dff2d"
      },
      "outputs": [],
      "source": [
        "# FUNCIÓN CALIFICADA get_pos_words:\n",
        "def get_pos_words(corpus, pos_list):\n",
        "    ### ESCRIBA SU CÓDIGO AQUÍ ###\n",
        "    filtered_pos = []\n",
        "    return filtered_pos\n",
        "    ### FIN DEL CÓDIGO ###"
      ]
    },
    {
      "cell_type": "code",
      "execution_count": null,
      "id": "e0c24684",
      "metadata": {
        "colab": {
          "base_uri": "https://localhost:8080/",
          "height": 36
        },
        "id": "e0c24684",
        "outputId": "ae31be76-35a0-4b42-cc89-a13501fd38c3"
      },
      "outputs": [
        {
          "output_type": "display_data",
          "data": {
            "text/plain": [
              "'tiene llegaba cortaba ocurre poner'"
            ],
            "application/vnd.google.colaboratory.intrinsic+json": {
              "type": "string"
            }
          },
          "metadata": {}
        }
      ],
      "source": [
        "#TEST_CELL\n",
        "nlp = spacy.load(\"es_core_news_sm\")\n",
        "corpus = to_spacy(df.head(2), nlp)\n",
        "filtered_pos = get_pos_words(corpus, [\"VERB\"])\n",
        "display(filtered_pos[1])"
      ]
    },
    {
      "cell_type": "markdown",
      "id": "773688b8",
      "metadata": {
        "id": "773688b8"
      },
      "source": [
        "**Salida esperada**\n",
        "\n",
        "Este caso de prueba debe extraer todos los verbos del segundo texto\n",
        "\n",
        "```python\n",
        "❱ display(filtered_pos[1])\n",
        "'tiene llegaba cortaba ocurre poner'\n",
        "```"
      ]
    },
    {
      "cell_type": "code",
      "execution_count": null,
      "id": "bd93e168",
      "metadata": {
        "lines_to_next_cell": 1,
        "colab": {
          "base_uri": "https://localhost:8080/",
          "height": 54
        },
        "id": "bd93e168",
        "outputId": "f3663fe5-71d2-4aeb-fefd-0e89310a4c02"
      },
      "outputs": [
        {
          "output_type": "display_data",
          "data": {
            "text/plain": [
              "'fin semana pareja hicimos reserva hotel fin descansar desconectar noche llevaron ala hotel dijeron descansar parte pareció buscábamos sorpresa mañana ruidos suponemos tacones habitación tiene culpa hotel limpiadoras moviendo muebles arrastrando sofás cogido alojamiento descansar pensando tener madrugar IMPOSIBLE ruidos destacar'"
            ],
            "application/vnd.google.colaboratory.intrinsic+json": {
              "type": "string"
            }
          },
          "metadata": {}
        }
      ],
      "source": [
        "#TEST_CELL\n",
        "filtered_pos = get_pos_words(corpus, [\"VERB\", \"NOUN\"])\n",
        "display(filtered_pos[0])"
      ]
    },
    {
      "cell_type": "markdown",
      "id": "8f3529ad",
      "metadata": {
        "id": "8f3529ad"
      },
      "source": [
        "**Salida esperada**\n",
        "\n",
        "Este caso de prueba debe extraer todos los verbos y sustantivos del primer documento\n",
        "\n",
        "```python\n",
        "❱ display(filtered_pos[0])\n",
        "'fin semana pareja hicimos reserva hotel fin descansar desconectar noche llevaron ala hotel dijeron descansar parte pareció buscábamos sorpresa mañana ruidos suponemos tacones habitación tiene culpa hotel limpiadoras moviendo muebles arrastrando sofás cogido alojamiento descansar pensando tener madrugar IMPOSIBLE ruidos destacar'\n",
        "```"
      ]
    },
    {
      "cell_type": "markdown",
      "id": "77d9f39b",
      "metadata": {
        "id": "77d9f39b"
      },
      "source": [
        "## **6. Preprocesamiento**\n",
        "---\n",
        "\n",
        "En este punto usted deberá implementar un flujo de preprocesamiento para textos. Las tareas que debe realizar son las siguientes:\n",
        "\n",
        "1. Filtrar stopwords.\n",
        "2. Seleccionar únicamente palabras en algunas categorías de tipo _POS_\n",
        "3. Normalizar el texto con `unidecode`.\n",
        "4. Convertir a minúsculas.\n",
        "\n",
        "Para ello debe implementar la función `preprocess` la cual recibirá un documento de `spacy` y la lista de etiquetas _POS_ para filtrar, con esto deberá retornar un string con el resultado del preprocesamiento.\n",
        "\n",
        "**Parámetros**\n",
        "---\n",
        "\n",
        "- `doc`: documento de `spacy`.\n",
        "- `pos_list`: lista de etiquetas POS a filtrar.\n",
        "\n",
        "**Retorna**\n",
        "\n",
        "- `preprocess_text`: texto preprocesado."
      ]
    },
    {
      "cell_type": "markdown",
      "id": "609fc44b",
      "metadata": {
        "id": "609fc44b"
      },
      "source": [
        "<details>    \n",
        "<summary>\n",
        "    <font size=\"3\" color=\"darkgreen\"><b>Pistas</b></font>\n",
        "</summary>\n",
        "\n",
        "- Recuerde filtrar stopwords con el atributo `is_stop` y filtrar etiquetas _POS_ con el atributo `pos_` de los tokens de `spacy`.\n",
        "- Con la librería `unidecode` puede normalizar el texto.\n",
        "- Puede convertir los textos en minúsculas con el atributo `lower` de un string.\n",
        "</details>"
      ]
    },
    {
      "cell_type": "code",
      "execution_count": null,
      "id": "0b32751d",
      "metadata": {
        "lines_to_next_cell": 1,
        "id": "0b32751d"
      },
      "outputs": [],
      "source": [
        "# FUNCIÓN CALIFICADA preprocess:\n",
        "def preprocess(doc, pos_list):\n",
        "    ### ESCRIBA SU CÓDIGO AQUÍ ###\n",
        "    preprocess_text = \"\"\n",
        "    return preprocess_text\n",
        "    ### FIN DEL CÓDIGO ###"
      ]
    },
    {
      "cell_type": "code",
      "execution_count": null,
      "id": "b2c1ac66",
      "metadata": {
        "colab": {
          "base_uri": "https://localhost:8080/",
          "height": 54
        },
        "id": "b2c1ac66",
        "outputId": "cf0760dc-8178-4cab-c4d6-06dbd2443689"
      },
      "outputs": [
        {
          "output_type": "display_data",
          "data": {
            "text/plain": [
              "'semana pareja hicimos reserva hotel descansar desconectar noche llevaron ala hotel descansar parecio buscabamos sorpresa manana ruidos suponemos tacones habitacion culpa hotel limpiadoras moviendo muebles arrastrando sofas cogido alojamiento descansar pensando madrugar imposible ruidos destacar'"
            ],
            "application/vnd.google.colaboratory.intrinsic+json": {
              "type": "string"
            }
          },
          "metadata": {}
        }
      ],
      "source": [
        "#TEST_CELL\n",
        "nlp = spacy.load(\"es_core_news_sm\")\n",
        "corpus = to_spacy(df.head(10), nlp)\n",
        "preprocess_text = preprocess(corpus[0], [\"VERB\", \"NOUN\"])\n",
        "display(preprocess_text)"
      ]
    },
    {
      "cell_type": "markdown",
      "id": "3bfdfa3f",
      "metadata": {
        "id": "3bfdfa3f"
      },
      "source": [
        "**Salida esperada**\n",
        "\n",
        "Este caso de prueba muestra el primer documento preprocesado.\n",
        "\n",
        "```python\n",
        "❱ display(preprocess_text)\n",
        "'semana pareja hicimos reserva hotel descansar desconectar noche llevaron ala hotel descansar parecio buscabamos sorpresa manana ruidos suponemos tacones habitacion culpa hotel limpiadoras moviendo muebles arrastrando sofas cogido alojamiento descansar pensando madrugar imposible ruidos destacar'\n",
        "```"
      ]
    },
    {
      "cell_type": "code",
      "execution_count": null,
      "id": "597c7461",
      "metadata": {
        "colab": {
          "base_uri": "https://localhost:8080/",
          "height": 36
        },
        "id": "597c7461",
        "outputId": "ed2e7e26-aa82-46b0-b263-8418c4577ad6"
      },
      "outputs": [
        {
          "output_type": "display_data",
          "data": {
            "text/plain": [
              "'hotel general habtiaciones espaciosas personal encargado roof-top piscina zona piscina fallos wifi habitacion fallo cosa edredon sabana agosto sevilla'"
            ],
            "application/vnd.google.colaboratory.intrinsic+json": {
              "type": "string"
            }
          },
          "metadata": {}
        }
      ],
      "source": [
        "#TEST_CELL\n",
        "nlp = spacy.load(\"es_core_news_sm\")\n",
        "corpus = to_spacy(df.head(10), nlp)\n",
        "preprocess_text = preprocess(corpus[1], [\"NOUN\", \"PROPN\"])\n",
        "display(preprocess_text)"
      ]
    },
    {
      "cell_type": "markdown",
      "id": "110c9597",
      "metadata": {
        "id": "110c9597"
      },
      "source": [
        "**Salida esperada**\n",
        "\n",
        "Este caso de prueba muestra el segundo documento preprocesado.\n",
        "\n",
        "```python\n",
        "❱ display(preprocess_text)\n",
        "'hotel general habtiaciones espaciosas personal encargado roof-top piscina zona piscina fallos wifi habitacion fallo cosa edredon sabana agosto sevilla'\n",
        "```"
      ]
    },
    {
      "cell_type": "markdown",
      "source": [
        "**¡Felicitaciones!** Ha terminado la tarea de la Unidad 2. ¡Excelente trabajo!\n",
        "## **Entrega**\n",
        "\n",
        "Para entregar el notebook por favor haga lo siguiente:\n",
        "1. Descargue el notebook (`Archivo` -> `Descargar .ipynb`).\n",
        "2. Ingrese a Moodle.\n",
        "3. Realice el envío del *notebook* que descargó en la tarea (o quiz) correspondiente.\n",
        "4. Recuerde que si tiene algún error, puede hacer múltiples intentos de envío en UNCode.\n"
      ],
      "metadata": {
        "id": "Uh3opP93L2sz"
      },
      "id": "Uh3opP93L2sz"
    },
    {
      "cell_type": "markdown",
      "id": "a03fabd7",
      "metadata": {
        "id": "a03fabd7"
      },
      "source": [
        "## Créditos\n",
        "---\n",
        "\n",
        "* **Profesor:** [Felipe Restrepo Calle](https://dis.unal.edu.co/~ferestrepoca/)\n",
        "* **Asistentes docentes:**\n",
        "    - [Juan Sebastián Lara Ramírez](https://www.linkedin.com/in/juan-sebastian-lara-ramirez-43570a214/).\n",
        "* **Coordinador de virtualización:**\n",
        "    - [Edder Hernández Forero](https://www.linkedin.com/in/edder-hernandez-forero-28aa8b207/).\n",
        "\n",
        "**Universidad Nacional de Colombia** - *Facultad de Ingeniería*"
      ]
    }
  ],
  "metadata": {
    "jupytext": {
      "cell_metadata_filter": "-all",
      "main_language": "python",
      "notebook_metadata_filter": "-all"
    },
    "colab": {
      "provenance": [],
      "toc_visible": true
    },
    "language_info": {
      "name": "python"
    },
    "kernelspec": {
      "name": "python3",
      "display_name": "Python 3"
    }
  },
  "nbformat": 4,
  "nbformat_minor": 5
}