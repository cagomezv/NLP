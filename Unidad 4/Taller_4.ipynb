{
  "cells": [
    {
      "cell_type": "markdown",
      "id": "3052a8d6",
      "metadata": {
        "id": "3052a8d6"
      },
      "source": [
        "<img src=\"https://drive.google.com/uc?export=view&id=1Q6vQcIWFPY27isBepABpJ7nroUNKox_Z\" width=\"100%\">"
      ]
    },
    {
      "cell_type": "markdown",
      "id": "cc0899eb",
      "metadata": {
        "id": "cc0899eb"
      },
      "source": [
        "# **Taller 4**\n",
        "---\n",
        "\n",
        "En este taller se evaluarán las habilidades adquiridas en aprendizaje supervisado a partir del conjunto de datos [reseñas de películas en español de FilmAffinity](https://www.kaggle.com/datasets/andrsmosquera/crticas-pelculas-filmaffinity-en-espaol-netflix).\n",
        "\n",
        "El conjunto de datos de reseñas de películas de FilmAffinity es un conjunto de datos de reseñas de películas en español que se utiliza para entrenar y evaluar modelos de clasificación de sentimiento. El conjunto de datos consta de reseñas de películas en español, clasificadas según la calificación del usuario (por ejemplo, positivas o negativas).\n",
        "\n",
        "Las reseñas de películas incluidas en el conjunto de datos son reseñas de películas de la plataforma FilmAffinity. Las reseñas son de diferentes géneros de películas (comedia, terror, acción, etc.).\n",
        "\n",
        "El conjunto de datos es anotado manualmente y puede considerarse un conjunto de datos desbalanceado, dependiendo de cómo se defina la clasificación (por ejemplo, reseñas positivas vs. negativas). El conjunto de datos es muy utilizado para entrenar y evaluar modelos de clasificación de sentimiento en español.\n",
        "\n",
        "Comenzaremos importando las librerías necesarias:"
      ]
    },
    {
      "cell_type": "code",
      "execution_count": null,
      "id": "e300c3c5",
      "metadata": {
        "id": "e300c3c5"
      },
      "outputs": [],
      "source": [
        "#TEST_CELL\n",
        "!pip install unidecode"
      ]
    },
    {
      "cell_type": "code",
      "execution_count": null,
      "id": "ba95f27a",
      "metadata": {
        "id": "ba95f27a"
      },
      "outputs": [],
      "source": [
        "import re\n",
        "import spacy\n",
        "import numpy as np\n",
        "import matplotlib.pyplot as plt\n",
        "import pandas as pd\n",
        "from unidecode import unidecode\n",
        "from IPython.display import display"
      ]
    },
    {
      "cell_type": "markdown",
      "id": "6661f85a",
      "metadata": {
        "id": "6661f85a"
      },
      "source": [
        "Ahora cargamos el conjunto de datos:"
      ]
    },
    {
      "cell_type": "code",
      "source": [
        "#TEST_CELL\n",
        "!wget https://raw.githubusercontent.com/mindlab-unal/mlds4-case-study/refs/heads/main/dataset/film_reviews_result.csv"
      ],
      "metadata": {
        "id": "th2Kf3pIOeoB"
      },
      "id": "th2Kf3pIOeoB",
      "execution_count": null,
      "outputs": []
    },
    {
      "cell_type": "code",
      "execution_count": null,
      "metadata": {
        "id": "byLNpzKTOt_G"
      },
      "outputs": [],
      "source": [
        "#TEST_CELL\n",
        "data = pd.read_csv(\"film_reviews_result.csv\", sep=\"|\")\n",
        "\n",
        "display(data.head())"
      ],
      "id": "byLNpzKTOt_G"
    },
    {
      "cell_type": "markdown",
      "id": "c0903a15",
      "metadata": {
        "id": "c0903a15"
      },
      "source": [
        "Como podemos ver, el conjunto tiene columnas:\n",
        "\n",
        "- `film_name`: Título de la película.\n",
        "- `gender`: Género de la película (comedia, terror, acción, etc.).\n",
        "- `film_avg_rate`: Nota media de la película (votos de todos los usuarios).\n",
        "- `review_rate`: Nota que el usuario que hace la crítica pone a la película.\n",
        "- `review_title`: Título de la crítica.\n",
        "- `review_text`: Crítica de la película.\n",
        "\n",
        "Para nuestro taller, nos centraremos en las columnas:\n",
        "\n",
        "- `review_text`: Texto de la reseña de la película.\n",
        "- `review_rate`: Calificación de la reseña, que utilizaremos para crear nuestras etiquetas de clasificación.\"\n",
        "\n",
        "Vamos a preprocesar el conjunto de datos:"
      ]
    },
    {
      "cell_type": "code",
      "execution_count": null,
      "id": "918ebbf2",
      "metadata": {
        "lines_to_next_cell": 1,
        "id": "918ebbf2"
      },
      "outputs": [],
      "source": [
        "nlp = spacy.blank(\"en\")\n",
        "def preprocess(text):\n",
        "    doc = nlp(text) # creamos un documento de spacy\n",
        "    no_stops = \" \".join(\n",
        "        token.text\n",
        "        for token in filter(\n",
        "            lambda token: not token.is_stop and len(token) > 3 and len(token) < 24,\n",
        "            doc,\n",
        "            )\n",
        "        ) # eliminamos stopwords y palabras por longitud\n",
        "    norm_text = unidecode(no_stops.lower()) # normalizamos el texto\n",
        "    no_chars = re.sub(r\"[^a-z ]\", \" \", norm_text) # eliminamos caracteres especiales\n",
        "    no_spaces = re.sub(r\"\\s+\", \" \", no_chars) # eliminamos espacios duplicados\n",
        "    return no_spaces.strip()"
      ]
    },
    {
      "cell_type": "markdown",
      "id": "7edd4aa0",
      "metadata": {
        "id": "7edd4aa0"
      },
      "source": [
        "Aplicamos la función de preprocesamiento:"
      ]
    },
    {
      "cell_type": "code",
      "execution_count": null,
      "id": "d702333b",
      "metadata": {
        "id": "d702333b"
      },
      "outputs": [],
      "source": [
        "data[\"corpus\"] = data.review_text.apply(preprocess)"
      ]
    },
    {
      "cell_type": "markdown",
      "id": "2e255d09",
      "metadata": {
        "id": "2e255d09"
      },
      "source": [
        "Inspeccionemos el tamaño de este conjunto de datos:"
      ]
    },
    {
      "cell_type": "code",
      "execution_count": null,
      "id": "9159a960",
      "metadata": {
        "id": "9159a960"
      },
      "outputs": [],
      "source": [
        "#TEST_CELL\n",
        "display(data.shape)"
      ]
    },
    {
      "cell_type": "markdown",
      "id": "74726ed4",
      "metadata": {
        "id": "74726ed4"
      },
      "source": [
        "También podemos ver la distribución de etiquetas:"
      ]
    },
    {
      "cell_type": "code",
      "execution_count": null,
      "id": "e2b434b6",
      "metadata": {
        "id": "e2b434b6"
      },
      "outputs": [],
      "source": [
        "#TEST_CELL\n",
        "fig, ax = plt.subplots()\n",
        "labels, counts = np.unique(data[\"review_rate\"], return_counts=True)\n",
        "ax.bar(labels, counts)\n",
        "ax.set_xlabel(\"Categoría\")\n",
        "ax.set_ylabel(\"Conteo\")\n",
        "fig.show()"
      ]
    },
    {
      "cell_type": "markdown",
      "id": "2dc1e121",
      "metadata": {
        "id": "2dc1e121"
      },
      "source": [
        "Como podemos ver, se trata de un conjunto desbalanceado."
      ]
    },
    {
      "cell_type": "markdown",
      "id": "74bc87c6",
      "metadata": {
        "id": "74bc87c6"
      },
      "source": [
        "## **1. Extracción de Características**\n",
        "---\n",
        "\n",
        "En este punto, deberás **codificar numéricamente el corpus** utilizando la técnica **TF-IDF**. Para ello, deberás entrenar un **vectorizador TF-IDF** con **sublinear scaling** y restringir el vocabulario a los **1,000 términos más frecuentes** del conjunto de datos.\n",
        "\n",
        "Deberás implementar la función **`vectorizer`**, la cual recibirá como entrada el corpus preprocesado y deberá retornar tanto la representación vectorial como el vectorizador entrenado.\n",
        "\n",
        "### **Parámetros**\n",
        "\n",
        "- `corpus`: Objeto de tipo `pd.Series` que contiene los textos preprocesados.\n",
        "\n",
        "### **Retorna**\n",
        "\n",
        "- `features`: Arreglo de tipo `numpy` que contiene la representación TF-IDF del corpus.\n",
        "- `vect`: Objeto `TfidfVectorizer` entrenado con las especificaciones indicadas.\n"
      ]
    },
    {
      "cell_type": "markdown",
      "id": "01276ca8",
      "metadata": {
        "id": "01276ca8"
      },
      "source": [
        "<details>    \n",
        "<summary>\n",
        "    <font size=\"3\" color=\"darkgreen\"><b>Pistas</b></font>\n",
        "</summary>\n",
        "\n",
        "- Recuerde que _sublinear scaling_ se puede controlar con el parámetro `sublinear_tf` del vectorizador.\n",
        "- Recuerde convertir la representación en un arreglo de `numpy`.\n",
        "</details>"
      ]
    },
    {
      "cell_type": "code",
      "execution_count": null,
      "id": "5228e4ec",
      "metadata": {
        "lines_to_next_cell": 1,
        "id": "5228e4ec"
      },
      "outputs": [],
      "source": [
        "# FUNCIÓN CALIFICADA vectorizer:\n",
        "from sklearn.feature_extraction.text import TfidfVectorizer\n",
        "\n",
        "def vectorizer(corpus):\n",
        "    ### ESCRIBA SU CÓDIGO AQUÍ ###\n",
        "    vect = ...\n",
        "    features = ...\n",
        "    return features, vect\n",
        "    ### FIN DEL CÓDIGO ###"
      ]
    },
    {
      "cell_type": "code",
      "execution_count": null,
      "id": "3401dea0",
      "metadata": {
        "id": "3401dea0"
      },
      "outputs": [],
      "source": [
        "#TEST_CELL\n",
        "features, vect = vectorizer(data.corpus)\n",
        "display(features.shape)"
      ]
    },
    {
      "cell_type": "markdown",
      "id": "3144df63",
      "metadata": {
        "id": "3144df63"
      },
      "source": [
        "**Salida esperada**:\n",
        "\n",
        "En este primer ejemplo debe obtener el tamaño de la representación:\n",
        "\n",
        "```python\n",
        "❱ display(features.shape)\n",
        "(10058, 1000)\n",
        "```"
      ]
    },
    {
      "cell_type": "code",
      "execution_count": null,
      "id": "86de13fe",
      "metadata": {
        "id": "86de13fe"
      },
      "outputs": [],
      "source": [
        "#TEST_CELL\n",
        "features, vect = vectorizer(data.corpus)\n",
        "display(vect.get_feature_names_out()[:5])"
      ]
    },
    {
      "cell_type": "markdown",
      "id": "07e307e9",
      "metadata": {
        "id": "07e307e9"
      },
      "source": [
        "**Salida esperada**:\n",
        "\n",
        "En este caso deberá obtener las primeras 5 palabras del vocabulario:\n",
        "\n",
        "```python\n",
        "❱ display(vect.get_feature_names_out()[:5])\n",
        "array(['absolutamente', 'absoluto', 'absurdo', 'aburrida', 'acaba'],\n",
        "      dtype=object)\n",
        "```"
      ]
    },
    {
      "cell_type": "code",
      "execution_count": null,
      "id": "af424bc2",
      "metadata": {
        "id": "af424bc2"
      },
      "outputs": [],
      "source": [
        "#TEST_CELL\n",
        "features, vect = vectorizer(data.corpus)\n",
        "print(features.sum())"
      ]
    },
    {
      "cell_type": "markdown",
      "id": "aa3d4505",
      "metadata": {
        "id": "aa3d4505"
      },
      "source": [
        "**Salida esperada**:\n",
        "\n",
        "En este caso deberá obtener la suma de toda la matriz:\n",
        "\n",
        "```python\n",
        "❱ print(features.sum())\n",
        "69922.60724691708\n",
        "```"
      ]
    },
    {
      "cell_type": "code",
      "source": [
        "import re\n",
        "import spacy\n",
        "import numpy as np\n",
        "import matplotlib.pyplot as plt\n",
        "import pandas as pd\n",
        "from unidecode import unidecode\n",
        "\n",
        "# datos\n",
        "data = pd.read_csv(\"film_reviews_result.csv\", sep=\"|\")\n",
        "\n",
        "data[\"corpus\"] = data.review_text.apply(preprocess)\n",
        "\n",
        "#comparar textos\n",
        "\n",
        "def compare_texts(expected, result):\n",
        "  if expected == result:\n",
        "    return True\n",
        "  else:\n",
        "    return False"
      ],
      "metadata": {
        "id": "01kk40bxkpKr"
      },
      "id": "01kk40bxkpKr",
      "execution_count": null,
      "outputs": []
    },
    {
      "cell_type": "code",
      "source": [
        "from sklearn.feature_extraction.text import TfidfVectorizer\n",
        "features, vect = vectorizer(data.corpus)"
      ],
      "metadata": {
        "id": "h7EatvBs6LQU"
      },
      "id": "h7EatvBs6LQU",
      "execution_count": null,
      "outputs": []
    },
    {
      "cell_type": "code",
      "source": [
        "expected = 69924.10844646816\n",
        "exp_features = ['absolutamente', 'absoluto', 'absurdo', 'aburrida', 'acaba']\n",
        "exp_shape = (10058, 1000)\n",
        "exp_max_features = 1000\n",
        "result = features.sum()\n",
        "print(isinstance(features, np.ndarray), isinstance(vect,TfidfVectorizer), vect.sublinear_tf, np.isclose(expected,result, atol=2), compare_texts(exp_features, list(vect.get_feature_names_out()[:5])),compare_texts(exp_shape, features.shape), compare_texts(exp_max_features, vect.max_features))"
      ],
      "metadata": {
        "id": "uwmc0KaEABqb"
      },
      "id": "uwmc0KaEABqb",
      "execution_count": null,
      "outputs": []
    },
    {
      "cell_type": "code",
      "source": [
        "expected = 69922.60724691708\n",
        "exp_features = ['absolutamente', 'absoluto', 'absurdo', 'aburrida', 'acaba']\n",
        "exp_shape = (10058, 1000)\n",
        "exp_max_features = 1000\n",
        "result = features.sum()\n",
        "print(isinstance(features, np.ndarray), isinstance(vect,TfidfVectorizer), vect.sublinear_tf, np.isclose(expected,result), compare_texts(exp_features, list(vect.get_feature_names_out()[:5])),compare_texts(exp_shape, features.shape), compare_texts(exp_max_features, vect.max_features))"
      ],
      "metadata": {
        "id": "7PanKgEpk47R"
      },
      "id": "7PanKgEpk47R",
      "execution_count": null,
      "outputs": []
    },
    {
      "cell_type": "code",
      "source": [
        "exp_features = ['absolutamente', 'absoluto', 'absurdo', 'aburrida', 'acaba']\n",
        "exp_shape = (10058, 1000)\n",
        "exp_max_features = 1000\n",
        "print(compare_texts(exp_features, list(vect.get_feature_names_out()[:5])),compare_texts(exp_shape, features.shape), compare_texts(exp_max_features, vect.max_features))"
      ],
      "metadata": {
        "id": "2l4ZjPaQk2mI"
      },
      "id": "2l4ZjPaQk2mI",
      "execution_count": null,
      "outputs": []
    },
    {
      "cell_type": "markdown",
      "id": "84fcfb39",
      "metadata": {
        "id": "84fcfb39"
      },
      "source": [
        "## **2. Codificación de Etiquetas**\n",
        "---\n",
        "\n",
        "Para poder entrenar un modelo de aprendizaje automático, es necesario **codificar numéricamente las etiquetas**. En este caso, se debe implementar una solución sistemática utilizando el codificador **`LabelEncoder`** de la biblioteca **`sklearn`**.\n",
        "\n",
        "Deberás implementar la función **`label_encode`**, la cual recibe como entrada una serie de etiquetas y retorna tanto la codificación numérica como el codificador entrenado.\n",
        "\n",
        "### **Parámetros**\n",
        "\n",
        "- `labels`: Objeto de tipo `pd.Series` que contiene las etiquetas en formato string.\n",
        "\n",
        "### **Retorna**\n",
        "\n",
        "- `encoded_labels`: Arreglo con las etiquetas codificadas de forma numérica.\n",
        "- `encoder`: Objeto `LabelEncoder` entrenado.\n"
      ]
    },
    {
      "cell_type": "markdown",
      "id": "2cea9e05",
      "metadata": {
        "id": "2cea9e05"
      },
      "source": [
        "<details>    \n",
        "<summary>\n",
        "    <font size=\"3\" color=\"darkgreen\"><b>Pistas</b></font>\n",
        "</summary>\n",
        "\n",
        "- Recuerde invocar el método `.fit` del codificador antes de retornarlo.\n",
        "- Evite usar el método `.fit_transform` para poder guardar el codificador.\n",
        "</details>"
      ]
    },
    {
      "cell_type": "code",
      "execution_count": null,
      "id": "a017fc9c",
      "metadata": {
        "lines_to_next_cell": 1,
        "id": "a017fc9c"
      },
      "outputs": [],
      "source": [
        "# FUNCIÓN CALIFICADA label_encode:\n",
        "from sklearn.preprocessing import LabelEncoder\n",
        "\n",
        "def label_encode(labels):\n",
        "    ### ESCRIBA SU CÓDIGO AQUÍ ###\n",
        "    encoder = ...\n",
        "    encoded_labels = ...\n",
        "    return encoded_labels, encoder\n",
        "    ### FIN DEL CÓDIGO ###"
      ]
    },
    {
      "cell_type": "code",
      "execution_count": null,
      "id": "0b4da65e",
      "metadata": {
        "id": "0b4da65e"
      },
      "outputs": [],
      "source": [
        "#TEST_CELL\n",
        "encoded_labels, encoder = label_encode(data['review_rate'])\n",
        "display(encoded_labels.shape)"
      ]
    },
    {
      "cell_type": "markdown",
      "id": "c76fabf6",
      "metadata": {
        "id": "c76fabf6"
      },
      "source": [
        "**Salida esperada**:\n",
        "\n",
        "En este primer ejemplo debe obtener el tamaño de las etiquetas:\n",
        "\n",
        "```python\n",
        "❱ display(encoded_labels.shape)\n",
        "(10058,)\n",
        "```"
      ]
    },
    {
      "cell_type": "code",
      "execution_count": null,
      "id": "c09193f3",
      "metadata": {
        "id": "c09193f3"
      },
      "outputs": [],
      "source": [
        "#TEST_CELL\n",
        "encoded_labels, encoder = label_encode(data['review_rate'])\n",
        "print(encoded_labels.mean())"
      ]
    },
    {
      "cell_type": "markdown",
      "id": "7ab9c96a",
      "metadata": {
        "id": "7ab9c96a"
      },
      "source": [
        "**Salida esperada**:\n",
        "\n",
        "En este segundo ejemplo debe obtener el promedio de las etiquetas:\n",
        "\n",
        "```python\n",
        "❱ print(encoded_labels.mean())\n",
        "4.852455756611652\n",
        "```"
      ]
    },
    {
      "cell_type": "code",
      "execution_count": null,
      "id": "6ab1d727",
      "metadata": {
        "id": "6ab1d727"
      },
      "outputs": [],
      "source": [
        "#TEST_CELL\n",
        "encoded_labels, encoder = label_encode(data['review_rate'])\n",
        "display(encoder.classes_)"
      ]
    },
    {
      "cell_type": "markdown",
      "id": "55c4d1bc",
      "metadata": {
        "id": "55c4d1bc"
      },
      "source": [
        "**Salida esperada**:\n",
        "\n",
        "En este caso debe obtener un arreglo con las posibles categorías y la posición a las que son asignadas:\n",
        "\n",
        "```python\n",
        "❱ display(encoder.classes_)\n",
        "array([ 1,  2,  3,  4,  5,  6,  7,  8,  9, 10])\n",
        "```"
      ]
    },
    {
      "cell_type": "markdown",
      "id": "a2e1dbe5",
      "metadata": {
        "id": "a2e1dbe5"
      },
      "source": [
        "## **3. Particionamiento de Datos**\n",
        "---\n",
        "\n",
        "En esta etapa, deberás **dividir el conjunto de datos** en dos subconjuntos: uno para entrenamiento y otro para evaluación. Esta división debe realizarse de forma **estratificada**, es decir, manteniendo la proporción original de clases en ambos subconjuntos.\n",
        "\n",
        "Para ello, implementa la función **`split_data`**, la cual recibe como entrada las características, las etiquetas, la proporción destinada a evaluación y una semilla para garantizar reproducibilidad. La función debe retornar los datos ya particionados.\n",
        "\n",
        "### **Parámetros**\n",
        "\n",
        "- `features`: Arreglo de tipo `numpy` que contiene la representación vectorial de los textos.\n",
        "- `labels`: Arreglo de tipo `numpy` con las etiquetas codificadas.\n",
        "- `test_size`: Proporción del conjunto de datos que se utilizará para evaluación (por ejemplo, `0.2` para un 20%).\n",
        "- `seed`: Semilla de números aleatorios para garantizar resultados reproducibles.\n",
        "\n",
        "### **Retorna**\n",
        "\n",
        "- `features_train`: Subconjunto de características para entrenamiento.\n",
        "- `features_test`: Subconjunto de características para evaluación.\n",
        "- `labels_train`: Subconjunto de etiquetas para entrenamiento.\n",
        "- `labels_test`: Subconjunto de etiquetas para evaluación.\n"
      ]
    },
    {
      "cell_type": "markdown",
      "id": "1d353d37",
      "metadata": {
        "id": "1d353d37"
      },
      "source": [
        "<details>    \n",
        "<summary>\n",
        "    <font size=\"3\" color=\"darkgreen\"><b>Pistas</b></font>\n",
        "</summary>\n",
        "\n",
        "- Recuerde usar el parámetro `stratify` para realizar la estratificación.\n",
        "- `sklearn` maneja las semillas de números aleatorios con el parámetro `random_state`.\n",
        "</details>"
      ]
    },
    {
      "cell_type": "code",
      "execution_count": null,
      "id": "55027394",
      "metadata": {
        "lines_to_next_cell": 1,
        "id": "55027394"
      },
      "outputs": [],
      "source": [
        "# FUNCIÓN CALIFICADA split_data:\n",
        "from sklearn.model_selection import train_test_split\n",
        "\n",
        "def split_data(features, labels, test_size, seed):\n",
        "    ### ESCRIBA SU CÓDIGO AQUÍ ###\n",
        "    features_train = ...\n",
        "    features_test = ...\n",
        "    labels_train = ...\n",
        "    labels_test = ...\n",
        "    return features_train, features_test, labels_train, labels_test\n",
        "    ### FIN DEL CÓDIGO ###"
      ]
    },
    {
      "cell_type": "code",
      "execution_count": null,
      "id": "9b49f592",
      "metadata": {
        "id": "9b49f592"
      },
      "outputs": [],
      "source": [
        "#TEST_CELL\n",
        "features, vect = vectorizer(data.corpus)\n",
        "encoded_labels, encoder = label_encode(data['review_rate'])\n",
        "features_train, features_test, labels_train, labels_test = split_data(\n",
        "        features, encoded_labels, test_size=0.3, seed=42\n",
        "        )\n",
        "display(features_train.shape)\n",
        "display(features_test.shape)\n",
        "display(labels_train.shape)\n",
        "display(labels_test.shape)"
      ]
    },
    {
      "cell_type": "markdown",
      "id": "fe98e8c9",
      "metadata": {
        "id": "fe98e8c9"
      },
      "source": [
        "**Salida esperada**:\n",
        "\n",
        "En este primer ejemplo debe obtener el tamaño de cada arreglo:\n",
        "\n",
        "```python\n",
        "❱ display(features_train.shape)\n",
        "(7040, 1000)\n",
        "\n",
        "❱ display(features_test.shape)\n",
        "(3018, 1000)\n",
        "\n",
        "❱ display(labels_train.shape)\n",
        "(7040,)\n",
        "\n",
        "❱ display(labels_test.shape)\n",
        "(3018,)\n",
        "```"
      ]
    },
    {
      "cell_type": "code",
      "execution_count": null,
      "id": "702a323b",
      "metadata": {
        "id": "702a323b"
      },
      "outputs": [],
      "source": [
        "#TEST_CELL\n",
        "features, vect = vectorizer(data.corpus)\n",
        "encoded_labels, encoder = label_encode(data['review_rate'])\n",
        "features_train, features_test, labels_train, labels_test = split_data(\n",
        "        features, encoded_labels, test_size=0.3, seed=42\n",
        "        )\n",
        "print(labels_train.mean())\n",
        "print(labels_test.mean())"
      ]
    },
    {
      "cell_type": "markdown",
      "id": "da5470ee",
      "metadata": {
        "id": "da5470ee"
      },
      "source": [
        "**Salida esperada**:\n",
        "\n",
        "En este segundo ejemplo debe obtener el promedio de las etiquetas en cada partición:\n",
        "\n",
        "```python\n",
        "❱ display(labels_train.mean())\n",
        "4.853125\n",
        "\n",
        "❱ display(labels_test.mean())\n",
        "4.850894632206759\n",
        "```"
      ]
    },
    {
      "cell_type": "markdown",
      "id": "f5f35272",
      "metadata": {
        "id": "f5f35272"
      },
      "source": [
        "## **4. Modelo de Bosques Aleatorios**\n",
        "---\n",
        "\n",
        "En este punto, deberás **entrenar un modelo de Bosques Aleatorios (Random Forest)** utilizando los datos de entrenamiento.\n",
        "\n",
        "Para ello, implementa la función **`random_forest`**, la cual recibe como entrada los datos de entrenamiento, la profundidad máxima de los árboles, el número de estimadores y una semilla para asegurar reproducibilidad. La función debe retornar el modelo ya entrenado.\n",
        "\n",
        "### **Parámetros**\n",
        "\n",
        "- `features_train`: Arreglo con las características del conjunto de entrenamiento.\n",
        "- `labels_train`: Arreglo con las etiquetas correspondientes al conjunto de entrenamiento.\n",
        "- `max_depth`: Profundidad máxima permitida para los árboles del modelo.\n",
        "- `n_estimators`: Número total de árboles (estimadores) que compondrán el bosque.\n",
        "- `seed`: Semilla de números aleatorios para asegurar resultados reproducibles.\n",
        "\n",
        "### **Retorna**\n",
        "\n",
        "- `model`: Objeto del tipo `RandomForestClassifier` ya entrenado con los parámetros especificados.\n"
      ]
    },
    {
      "cell_type": "markdown",
      "id": "edd7c587",
      "metadata": {
        "id": "edd7c587"
      },
      "source": [
        "<details>    \n",
        "<summary>\n",
        "    <font size=\"3\" color=\"darkgreen\"><b>Pistas</b></font>\n",
        "</summary>\n",
        "\n",
        "- Recuerde utilizar el método `fit` del modelo antes de retornarlo.\n",
        "</details>"
      ]
    },
    {
      "cell_type": "code",
      "execution_count": null,
      "id": "eba213c8",
      "metadata": {
        "lines_to_next_cell": 1,
        "id": "eba213c8"
      },
      "outputs": [],
      "source": [
        "# FUNCIÓN CALIFICADA random_forest:\n",
        "from sklearn.ensemble import RandomForestClassifier\n",
        "\n",
        "def random_forest(features_train, labels_train, max_depth, n_estimators, seed):\n",
        "    ### ESCRIBA SU CÓDIGO AQUÍ ###\n",
        "    model = ...\n",
        "    return model\n",
        "    ### FIN DEL CÓDIGO ###"
      ]
    },
    {
      "cell_type": "code",
      "execution_count": null,
      "id": "d48c6920",
      "metadata": {
        "id": "d48c6920"
      },
      "outputs": [],
      "source": [
        "#TEST_CELL\n",
        "features, vect = vectorizer(data.corpus)\n",
        "encoded_labels, encoder = label_encode(data['review_rate'])\n",
        "features_train, features_test, labels_train, labels_test = split_data(\n",
        "        features, encoded_labels, test_size=0.3, seed=42\n",
        "        )\n",
        "model = random_forest(features_train, labels_train, 5, 50, 42)\n",
        "display(model.max_depth)"
      ]
    },
    {
      "cell_type": "markdown",
      "id": "55b8bad6",
      "metadata": {
        "id": "55b8bad6"
      },
      "source": [
        "**Salida esperada**:\n",
        "\n",
        "En este primer ejemplo debe obtener la profundidad máxima del modelo:\n",
        "\n",
        "```python\n",
        "❱ display(model.max_depth)\n",
        "5\n",
        "```"
      ]
    },
    {
      "cell_type": "code",
      "execution_count": null,
      "id": "77b679b1",
      "metadata": {
        "id": "77b679b1"
      },
      "outputs": [],
      "source": [
        "#TEST_CELL\n",
        "features, vect = vectorizer(data.corpus)\n",
        "encoded_labels, encoder = label_encode(data['review_rate'])\n",
        "features_train, features_test, labels_train, labels_test = split_data(\n",
        "        features, encoded_labels, test_size=0.3, seed=42\n",
        "        )\n",
        "model = random_forest(features_train, labels_train, 5, 50, 42)\n",
        "display(model.n_estimators)"
      ]
    },
    {
      "cell_type": "markdown",
      "id": "bf10d54a",
      "metadata": {
        "id": "bf10d54a"
      },
      "source": [
        "**Salida esperada**:\n",
        "\n",
        "En este segundo ejemplo debe obtener el número de estimadores en el modelo:\n",
        "\n",
        "```python\n",
        "❱ display(model.n_estimators)\n",
        "50\n",
        "```"
      ]
    },
    {
      "cell_type": "markdown",
      "id": "2fe5430c",
      "metadata": {
        "id": "2fe5430c"
      },
      "source": [
        "## **5. Evaluación**\n",
        "---\n",
        "\n",
        "En esta etapa, deberás **evaluar el desempeño del modelo entrenado** utilizando métricas estándar de clasificación. El objetivo es calcular las siguientes métricas para cada clase:\n",
        "\n",
        "- Exactitud (*Accuracy*)\n",
        "- Precisión (*Precision*)\n",
        "- Sensibilidad o exhaustividad (*Recall*)\n",
        "- Puntuación F1 (*F1-score*)\n",
        "\n",
        "Para ello, implementa la función **`evaluation`**, que recibe como entrada el modelo entrenado junto con los datos de evaluación, y retorna un **reporte de clasificación** generado mediante `sklearn`.\n",
        "\n",
        "### **Parámetros**\n",
        "\n",
        "- `model`: Modelo previamente entrenado.\n",
        "- `features_test`: Arreglo con las características del conjunto de evaluación.\n",
        "- `labels_test`: Arreglo con las etiquetas verdaderas del conjunto de evaluación.\n",
        "\n",
        "### **Retorna**\n",
        "\n",
        "- `report`: Objeto tipo string generado por `classification_report` de `sklearn`, que resume las métricas por clase.\n"
      ]
    },
    {
      "cell_type": "markdown",
      "id": "a759d39d",
      "metadata": {
        "id": "a759d39d"
      },
      "source": [
        "<details>    \n",
        "<summary>\n",
        "    <font size=\"3\" color=\"darkgreen\"><b>Pistas</b></font>\n",
        "</summary>\n",
        "\n",
        "- Recuerde que la función `classification_report` retorna un string con el resultado. No se preocupe si no puede seleccionar una métrica en específico.\n",
        "</details>"
      ]
    },
    {
      "cell_type": "code",
      "execution_count": null,
      "id": "21a10e5c",
      "metadata": {
        "lines_to_next_cell": 1,
        "id": "21a10e5c"
      },
      "outputs": [],
      "source": [
        "# FUNCIÓN CALIFICADA evaluation:\n",
        "from sklearn.metrics import classification_report\n",
        "\n",
        "def evaluation(model, features_test, labels_test):\n",
        "    ### ESCRIBA SU CÓDIGO AQUÍ ###\n",
        "    report = ...\n",
        "    return report\n",
        "    ### FIN DEL CÓDIGO ###"
      ]
    },
    {
      "cell_type": "code",
      "execution_count": null,
      "id": "df2683a3",
      "metadata": {
        "id": "df2683a3"
      },
      "outputs": [],
      "source": [
        "#TEST_CELL\n",
        "features, vect = vectorizer(data.corpus)\n",
        "encoded_labels, encoder = label_encode(data['review_rate'])\n",
        "features_train, features_test, labels_train, labels_test = split_data(\n",
        "        features, encoded_labels, test_size=0.3, seed=42\n",
        "        )\n",
        "model = random_forest(features_train, labels_train, 5, 50, 42)\n",
        "report = evaluation(model, features_test, labels_test)\n",
        "print(report)"
      ]
    },
    {
      "cell_type": "markdown",
      "id": "6bf8cbe4",
      "metadata": {
        "id": "6bf8cbe4"
      },
      "source": [
        "**Salida esperada**:\n",
        "\n",
        "En este primer ejemplo debe obtener una tabla con las métricas del modelo:\n",
        "\n",
        "```python\n",
        "❱ print(report)\n",
        "              precision    recall  f1-score   support\n",
        "\n",
        "           0       0.50      0.01      0.01       168\n",
        "           1       0.00      0.00      0.00       177\n",
        "           2       0.00      0.00      0.00       250\n",
        "           3       0.00      0.00      0.00       248\n",
        "           4       0.00      0.00      0.00       358\n",
        "           5       0.19      0.79      0.30       507\n",
        "           6       0.20      0.32      0.24       484\n",
        "           7       0.23      0.06      0.10       418\n",
        "           8       0.00      0.00      0.00       250\n",
        "           9       0.00      0.00      0.00       158\n",
        "\n",
        "    accuracy                           0.19      3018\n",
        "   macro avg       0.11      0.12      0.07      3018\n",
        "weighted avg       0.12      0.19      0.10      3018\n",
        "```"
      ]
    },
    {
      "cell_type": "code",
      "execution_count": null,
      "id": "f72f2002",
      "metadata": {
        "id": "f72f2002"
      },
      "outputs": [],
      "source": [
        "#TEST_CELL\n",
        "features, vect = vectorizer(data.corpus)\n",
        "encoded_labels, encoder = label_encode(data['review_rate'])\n",
        "features_train, features_test, labels_train, labels_test = split_data(\n",
        "        features, encoded_labels, test_size=0.4, seed=42\n",
        "        )\n",
        "model = random_forest(features_train, labels_train, 7, 100, 42)\n",
        "report = evaluation(model, features_test, labels_test)\n",
        "print(report)"
      ]
    },
    {
      "cell_type": "markdown",
      "id": "e2d51e98",
      "metadata": {
        "id": "e2d51e98"
      },
      "source": [
        "**Salida esperada**:\n",
        "\n",
        "En este segundo ejemplo debe obtener una tabla con las métricas del modelo:\n",
        "\n",
        "```python\n",
        "❱ print(report)\n",
        "              precision    recall  f1-score   support\n",
        "\n",
        "           0       0.43      0.01      0.03       223\n",
        "           1       0.00      0.00      0.00       237\n",
        "           2       0.00      0.00      0.00       333\n",
        "           3       0.00      0.00      0.00       331\n",
        "           4       0.26      0.01      0.02       477\n",
        "           5       0.18      0.72      0.29       675\n",
        "           6       0.20      0.33      0.25       646\n",
        "           7       0.25      0.10      0.15       558\n",
        "           8       0.00      0.00      0.00       333\n",
        "           9       0.00      0.00      0.00       211\n",
        "\n",
        "    accuracy                           0.19      4024\n",
        "   macro avg       0.13      0.12      0.07      4024\n",
        "weighted avg       0.15      0.19      0.11      4024\n",
        "```"
      ]
    },
    {
      "cell_type": "markdown",
      "id": "b60b4c84",
      "metadata": {
        "id": "b60b4c84"
      },
      "source": [
        "## **6. Importancia de Términos**\n",
        "---\n",
        "\n",
        "Una de las características del modelo de bosques aleatorios es que este permite extraer importancias de cada una de las características.\n",
        "\n",
        "En este punto deberá extraer el top $N$ de términos más discriminantes de acuerdo al modelo de bosques aleatorios. Para esto, debe implementar la función `top_n_terms`, la cual recibe el vectorizador, el modelo entrenado y debe retornar una lista con los términos más relevantes.\n",
        "\n",
        "**Parámetros**\n",
        "\n",
        "- `vect`: vectorizador TF-IDF.\n",
        "- `model`: modelo de bosques aleatorios entrenado.\n",
        "- `n`: número de palabras a extraer.\n",
        "\n",
        "**Retorna**\n",
        "\n",
        "- `top_words`: lista con las palabras más relevantes."
      ]
    },
    {
      "cell_type": "markdown",
      "id": "bc5e4261",
      "metadata": {
        "lines_to_next_cell": 2,
        "id": "bc5e4261"
      },
      "source": [
        "<details>    \n",
        "<summary>\n",
        "    <font size=\"3\" color=\"darkgreen\"><b>Pistas</b></font>\n",
        "</summary>\n",
        "\n",
        "- Puede extraer el vocabulario del vectorizador con el método `get_feature_names_out`.\n",
        "- Puede extraer la importancia de cada término del vocabulario con el atributo `feature_importances_` del modelo de bosques aleatorios.\n",
        "</details>"
      ]
    },
    {
      "cell_type": "code",
      "execution_count": null,
      "id": "1bf57d10",
      "metadata": {
        "lines_to_next_cell": 1,
        "id": "1bf57d10"
      },
      "outputs": [],
      "source": [
        "# FUNCIÓN CALIFICADA evaluation:\n",
        "from sklearn.metrics import classification_report\n",
        "\n",
        "def top_n_terms(vect, model, n):\n",
        "    ### ESCRIBA SU CÓDIGO AQUÍ ###\n",
        "    top_words = ...\n",
        "    return top_words\n",
        "    ### FIN DEL CÓDIGO ###"
      ]
    },
    {
      "cell_type": "code",
      "execution_count": null,
      "id": "f38e2003",
      "metadata": {
        "id": "f38e2003"
      },
      "outputs": [],
      "source": [
        "#TEST_CELL\n",
        "features, vect = vectorizer(data.corpus)\n",
        "encoded_labels, encoder = label_encode(data['review_rate'])\n",
        "features_train, features_test, labels_train, labels_test = split_data(\n",
        "        features, encoded_labels, test_size=0.4, seed=42\n",
        "        )\n",
        "model = random_forest(features_train, labels_train, 7, 100, 42)\n",
        "top_words = top_n_terms(vect, model, 5)\n",
        "display(top_words)"
      ]
    },
    {
      "cell_type": "markdown",
      "id": "7c4ce465",
      "metadata": {
        "id": "7c4ce465"
      },
      "source": [
        "**Salida esperada**:\n",
        "\n",
        "En este ejemplo debe obtener las siguientes 5 palabras:\n",
        "\n",
        "```python\n",
        "❱ display(top_words)\n",
        "['mala', 'nada', 'netflix', 'entretenida', 'bastante']\n",
        "```"
      ]
    },
    {
      "cell_type": "code",
      "execution_count": null,
      "id": "53f62cee",
      "metadata": {
        "id": "53f62cee"
      },
      "outputs": [],
      "source": [
        "#TEST_CELL\n",
        "features, vect = vectorizer(data.corpus)\n",
        "encoded_labels, encoder = label_encode(data['review_rate'])\n",
        "features_train, features_test, labels_train, labels_test = split_data(\n",
        "        features, encoded_labels, test_size=0.4, seed=42\n",
        "        )\n",
        "model = random_forest(features_train, labels_train, 5, 100, 42)\n",
        "top_words = top_n_terms(vect, model, 20)\n",
        "display(top_words)"
      ]
    },
    {
      "cell_type": "markdown",
      "id": "35f5f677",
      "metadata": {
        "id": "35f5f677"
      },
      "source": [
        "**Salida esperada**:\n",
        "\n",
        "En este ejemplo debe obtener las siguientes 20 palabras:\n",
        "\n",
        "```python\n",
        "❱ display(top_words)\n",
        "['mala',\n",
        " 'nada',\n",
        " 'netflix',\n",
        " 'bastante',\n",
        " 'tampoco',\n",
        " 'aburrida',\n",
        " 'excelente',\n",
        " 'demasiado',\n",
        " 'entretenida',\n",
        " 'notable',\n",
        " 'bien',\n",
        " 'rato',\n",
        " 'interesante',\n",
        " 'pero',\n",
        " 'aunque',\n",
        " 'correcta',\n",
        " 'cada',\n",
        " 'poco',\n",
        " 'peor',\n",
        " 'verguenza']\n",
        "```"
      ]
    },
    {
      "cell_type": "markdown",
      "id": "bea0937e",
      "metadata": {
        "id": "bea0937e"
      },
      "source": [
        "## Créditos\n",
        "---\n",
        "\n",
        "* **Profesor:** [Felipe Restrepo Calle](https://ferestrepoca.github.io/)\n",
        "* **Asistentes docentes:**\n",
        "    - [Juan Sebastián Lara Ramírez](https://www.linkedin.com/in/juan-sebastian-lara-ramirez-43570a214/).\n",
        "* **Diseño de imágenes:**\n",
        "    - [Rosa Alejandra Superlano Esquibel](mailto:rsuperlano@unal.edu.co).\n",
        "* **Coordinador de virtualización:**\n",
        "    - [Edder Hernández Forero](https://www.linkedin.com/in/edder-hernandez-forero-28aa8b207/).\n",
        "\n",
        "**Uniersidad Nacional de Colombia** - *Facultad de Ingeniería*"
      ]
    }
  ],
  "metadata": {
    "jupytext": {
      "cell_metadata_filter": "-all"
    },
    "kernelspec": {
      "display_name": "Python 3",
      "name": "python3"
    },
    "colab": {
      "provenance": []
    }
  },
  "nbformat": 4,
  "nbformat_minor": 5
}